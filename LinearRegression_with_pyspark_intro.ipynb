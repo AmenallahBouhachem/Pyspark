{
  "cells": [
    {
      "cell_type": "markdown",
      "source": [
        "## Overview\n",
        "\n",
        "This notebook will show you how to create and query a table or DataFrame that you uploaded to DBFS. [DBFS](https://docs.databricks.com/user-guide/dbfs-databricks-file-system.html) is a Databricks File System that allows you to store data for querying inside of Databricks. This notebook assumes that you have a file already inside of DBFS that you would like to read from.\n",
        "\n",
        "This notebook is written in **Python** so the default cell type is Python. However, you can use different languages by using the `%LANGUAGE` syntax. Python, Scala, SQL, and R are all supported."
      ],
      "metadata": {
        "application/vnd.databricks.v1+cell": {
          "showTitle": false,
          "cellMetadata": {},
          "nuid": "96816ed7-b08a-4ca3-abb9-f99880c3535d",
          "inputWidgets": {},
          "title": ""
        },
        "id": "IcHHaXsb0NGN"
      }
    },
    {
      "cell_type": "code",
      "source": [
        "# File location and type\n",
        "file_location = \"/FileStore/tables/tips.csv\"\n",
        "file_type = \"csv\"\n",
        "\n",
        "\n",
        "\n",
        "# The applied options are for CSV files. For other file types, these will be ignored.\n",
        "df = spark.read.csv(file_location,header=True,inferSchema=True)\n",
        "\n",
        "display(df)"
      ],
      "metadata": {
        "application/vnd.databricks.v1+cell": {
          "showTitle": false,
          "cellMetadata": {
            "rowLimit": 10000,
            "byteLimit": 2048000
          },
          "nuid": "6482be4c-f067-47c9-b0ac-35c938b94601",
          "inputWidgets": {},
          "title": ""
        },
        "id": "alvp32900NGQ",
        "outputId": "82f44c74-e33d-4cb8-b914-a5c1d083f41c"
      },
      "outputs": [
        {
          "output_type": "display_data",
          "metadata": {
            "application/vnd.databricks.v1+output": {
              "overflow": false,
              "datasetInfos": [],
              "data": [
                [
                  16.99,
                  1.01,
                  "Female",
                  "No",
                  "Sun",
                  "Dinner",
                  2
                ],
                [
                  10.34,
                  1.66,
                  "Male",
                  "No",
                  "Sun",
                  "Dinner",
                  3
                ],
                [
                  21.01,
                  3.5,
                  "Male",
                  "No",
                  "Sun",
                  "Dinner",
                  3
                ],
                [
                  23.68,
                  3.31,
                  "Male",
                  "No",
                  "Sun",
                  "Dinner",
                  2
                ],
                [
                  24.59,
                  3.61,
                  "Female",
                  "No",
                  "Sun",
                  "Dinner",
                  4
                ],
                [
                  25.29,
                  4.71,
                  "Male",
                  "No",
                  "Sun",
                  "Dinner",
                  4
                ],
                [
                  8.77,
                  2,
                  "Male",
                  "No",
                  "Sun",
                  "Dinner",
                  2
                ],
                [
                  26.88,
                  3.12,
                  "Male",
                  "No",
                  "Sun",
                  "Dinner",
                  4
                ],
                [
                  15.04,
                  1.96,
                  "Male",
                  "No",
                  "Sun",
                  "Dinner",
                  2
                ],
                [
                  14.78,
                  3.23,
                  "Male",
                  "No",
                  "Sun",
                  "Dinner",
                  2
                ],
                [
                  10.27,
                  1.71,
                  "Male",
                  "No",
                  "Sun",
                  "Dinner",
                  2
                ],
                [
                  35.26,
                  5,
                  "Female",
                  "No",
                  "Sun",
                  "Dinner",
                  4
                ],
                [
                  15.42,
                  1.57,
                  "Male",
                  "No",
                  "Sun",
                  "Dinner",
                  2
                ],
                [
                  18.43,
                  3,
                  "Male",
                  "No",
                  "Sun",
                  "Dinner",
                  4
                ],
                [
                  14.83,
                  3.02,
                  "Female",
                  "No",
                  "Sun",
                  "Dinner",
                  2
                ],
                [
                  21.58,
                  3.92,
                  "Male",
                  "No",
                  "Sun",
                  "Dinner",
                  2
                ],
                [
                  10.33,
                  1.67,
                  "Female",
                  "No",
                  "Sun",
                  "Dinner",
                  3
                ],
                [
                  16.29,
                  3.71,
                  "Male",
                  "No",
                  "Sun",
                  "Dinner",
                  3
                ],
                [
                  16.97,
                  3.5,
                  "Female",
                  "No",
                  "Sun",
                  "Dinner",
                  3
                ],
                [
                  20.65,
                  3.35,
                  "Male",
                  "No",
                  "Sat",
                  "Dinner",
                  3
                ],
                [
                  17.92,
                  4.08,
                  "Male",
                  "No",
                  "Sat",
                  "Dinner",
                  2
                ],
                [
                  20.29,
                  2.75,
                  "Female",
                  "No",
                  "Sat",
                  "Dinner",
                  2
                ],
                [
                  15.77,
                  2.23,
                  "Female",
                  "No",
                  "Sat",
                  "Dinner",
                  2
                ],
                [
                  39.42,
                  7.58,
                  "Male",
                  "No",
                  "Sat",
                  "Dinner",
                  4
                ],
                [
                  19.82,
                  3.18,
                  "Male",
                  "No",
                  "Sat",
                  "Dinner",
                  2
                ],
                [
                  17.81,
                  2.34,
                  "Male",
                  "No",
                  "Sat",
                  "Dinner",
                  4
                ],
                [
                  13.37,
                  2,
                  "Male",
                  "No",
                  "Sat",
                  "Dinner",
                  2
                ],
                [
                  12.69,
                  2,
                  "Male",
                  "No",
                  "Sat",
                  "Dinner",
                  2
                ],
                [
                  21.7,
                  4.3,
                  "Male",
                  "No",
                  "Sat",
                  "Dinner",
                  2
                ],
                [
                  19.65,
                  3,
                  "Female",
                  "No",
                  "Sat",
                  "Dinner",
                  2
                ],
                [
                  9.55,
                  1.45,
                  "Male",
                  "No",
                  "Sat",
                  "Dinner",
                  2
                ],
                [
                  18.35,
                  2.5,
                  "Male",
                  "No",
                  "Sat",
                  "Dinner",
                  4
                ],
                [
                  15.06,
                  3,
                  "Female",
                  "No",
                  "Sat",
                  "Dinner",
                  2
                ],
                [
                  20.69,
                  2.45,
                  "Female",
                  "No",
                  "Sat",
                  "Dinner",
                  4
                ],
                [
                  17.78,
                  3.27,
                  "Male",
                  "No",
                  "Sat",
                  "Dinner",
                  2
                ],
                [
                  24.06,
                  3.6,
                  "Male",
                  "No",
                  "Sat",
                  "Dinner",
                  3
                ],
                [
                  16.31,
                  2,
                  "Male",
                  "No",
                  "Sat",
                  "Dinner",
                  3
                ],
                [
                  16.93,
                  3.07,
                  "Female",
                  "No",
                  "Sat",
                  "Dinner",
                  3
                ],
                [
                  18.69,
                  2.31,
                  "Male",
                  "No",
                  "Sat",
                  "Dinner",
                  3
                ],
                [
                  31.27,
                  5,
                  "Male",
                  "No",
                  "Sat",
                  "Dinner",
                  3
                ],
                [
                  16.04,
                  2.24,
                  "Male",
                  "No",
                  "Sat",
                  "Dinner",
                  3
                ],
                [
                  17.46,
                  2.54,
                  "Male",
                  "No",
                  "Sun",
                  "Dinner",
                  2
                ],
                [
                  13.94,
                  3.06,
                  "Male",
                  "No",
                  "Sun",
                  "Dinner",
                  2
                ],
                [
                  9.68,
                  1.32,
                  "Male",
                  "No",
                  "Sun",
                  "Dinner",
                  2
                ],
                [
                  30.4,
                  5.6,
                  "Male",
                  "No",
                  "Sun",
                  "Dinner",
                  4
                ],
                [
                  18.29,
                  3,
                  "Male",
                  "No",
                  "Sun",
                  "Dinner",
                  2
                ],
                [
                  22.23,
                  5,
                  "Male",
                  "No",
                  "Sun",
                  "Dinner",
                  2
                ],
                [
                  32.4,
                  6,
                  "Male",
                  "No",
                  "Sun",
                  "Dinner",
                  4
                ],
                [
                  28.55,
                  2.05,
                  "Male",
                  "No",
                  "Sun",
                  "Dinner",
                  3
                ],
                [
                  18.04,
                  3,
                  "Male",
                  "No",
                  "Sun",
                  "Dinner",
                  2
                ],
                [
                  12.54,
                  2.5,
                  "Male",
                  "No",
                  "Sun",
                  "Dinner",
                  2
                ],
                [
                  10.29,
                  2.6,
                  "Female",
                  "No",
                  "Sun",
                  "Dinner",
                  2
                ],
                [
                  34.81,
                  5.2,
                  "Female",
                  "No",
                  "Sun",
                  "Dinner",
                  4
                ],
                [
                  9.94,
                  1.56,
                  "Male",
                  "No",
                  "Sun",
                  "Dinner",
                  2
                ],
                [
                  25.56,
                  4.34,
                  "Male",
                  "No",
                  "Sun",
                  "Dinner",
                  4
                ],
                [
                  19.49,
                  3.51,
                  "Male",
                  "No",
                  "Sun",
                  "Dinner",
                  2
                ],
                [
                  38.01,
                  3,
                  "Male",
                  "Yes",
                  "Sat",
                  "Dinner",
                  4
                ],
                [
                  26.41,
                  1.5,
                  "Female",
                  "No",
                  "Sat",
                  "Dinner",
                  2
                ],
                [
                  11.24,
                  1.76,
                  "Male",
                  "Yes",
                  "Sat",
                  "Dinner",
                  2
                ],
                [
                  48.27,
                  6.73,
                  "Male",
                  "No",
                  "Sat",
                  "Dinner",
                  4
                ],
                [
                  20.29,
                  3.21,
                  "Male",
                  "Yes",
                  "Sat",
                  "Dinner",
                  2
                ],
                [
                  13.81,
                  2,
                  "Male",
                  "Yes",
                  "Sat",
                  "Dinner",
                  2
                ],
                [
                  11.02,
                  1.98,
                  "Male",
                  "Yes",
                  "Sat",
                  "Dinner",
                  2
                ],
                [
                  18.29,
                  3.76,
                  "Male",
                  "Yes",
                  "Sat",
                  "Dinner",
                  4
                ],
                [
                  17.59,
                  2.64,
                  "Male",
                  "No",
                  "Sat",
                  "Dinner",
                  3
                ],
                [
                  20.08,
                  3.15,
                  "Male",
                  "No",
                  "Sat",
                  "Dinner",
                  3
                ],
                [
                  16.45,
                  2.47,
                  "Female",
                  "No",
                  "Sat",
                  "Dinner",
                  2
                ],
                [
                  3.07,
                  1,
                  "Female",
                  "Yes",
                  "Sat",
                  "Dinner",
                  1
                ],
                [
                  20.23,
                  2.01,
                  "Male",
                  "No",
                  "Sat",
                  "Dinner",
                  2
                ],
                [
                  15.01,
                  2.09,
                  "Male",
                  "Yes",
                  "Sat",
                  "Dinner",
                  2
                ],
                [
                  12.02,
                  1.97,
                  "Male",
                  "No",
                  "Sat",
                  "Dinner",
                  2
                ],
                [
                  17.07,
                  3,
                  "Female",
                  "No",
                  "Sat",
                  "Dinner",
                  3
                ],
                [
                  26.86,
                  3.14,
                  "Female",
                  "Yes",
                  "Sat",
                  "Dinner",
                  2
                ],
                [
                  25.28,
                  5,
                  "Female",
                  "Yes",
                  "Sat",
                  "Dinner",
                  2
                ],
                [
                  14.73,
                  2.2,
                  "Female",
                  "No",
                  "Sat",
                  "Dinner",
                  2
                ],
                [
                  10.51,
                  1.25,
                  "Male",
                  "No",
                  "Sat",
                  "Dinner",
                  2
                ],
                [
                  17.92,
                  3.08,
                  "Male",
                  "Yes",
                  "Sat",
                  "Dinner",
                  2
                ],
                [
                  27.2,
                  4,
                  "Male",
                  "No",
                  "Thur",
                  "Lunch",
                  4
                ],
                [
                  22.76,
                  3,
                  "Male",
                  "No",
                  "Thur",
                  "Lunch",
                  2
                ],
                [
                  17.29,
                  2.71,
                  "Male",
                  "No",
                  "Thur",
                  "Lunch",
                  2
                ],
                [
                  19.44,
                  3,
                  "Male",
                  "Yes",
                  "Thur",
                  "Lunch",
                  2
                ],
                [
                  16.66,
                  3.4,
                  "Male",
                  "No",
                  "Thur",
                  "Lunch",
                  2
                ],
                [
                  10.07,
                  1.83,
                  "Female",
                  "No",
                  "Thur",
                  "Lunch",
                  1
                ],
                [
                  32.68,
                  5,
                  "Male",
                  "Yes",
                  "Thur",
                  "Lunch",
                  2
                ],
                [
                  15.98,
                  2.03,
                  "Male",
                  "No",
                  "Thur",
                  "Lunch",
                  2
                ],
                [
                  34.83,
                  5.17,
                  "Female",
                  "No",
                  "Thur",
                  "Lunch",
                  4
                ],
                [
                  13.03,
                  2,
                  "Male",
                  "No",
                  "Thur",
                  "Lunch",
                  2
                ],
                [
                  18.28,
                  4,
                  "Male",
                  "No",
                  "Thur",
                  "Lunch",
                  2
                ],
                [
                  24.71,
                  5.85,
                  "Male",
                  "No",
                  "Thur",
                  "Lunch",
                  2
                ],
                [
                  21.16,
                  3,
                  "Male",
                  "No",
                  "Thur",
                  "Lunch",
                  2
                ],
                [
                  28.97,
                  3,
                  "Male",
                  "Yes",
                  "Fri",
                  "Dinner",
                  2
                ],
                [
                  22.49,
                  3.5,
                  "Male",
                  "No",
                  "Fri",
                  "Dinner",
                  2
                ],
                [
                  5.75,
                  1,
                  "Female",
                  "Yes",
                  "Fri",
                  "Dinner",
                  2
                ],
                [
                  16.32,
                  4.3,
                  "Female",
                  "Yes",
                  "Fri",
                  "Dinner",
                  2
                ],
                [
                  22.75,
                  3.25,
                  "Female",
                  "No",
                  "Fri",
                  "Dinner",
                  2
                ],
                [
                  40.17,
                  4.73,
                  "Male",
                  "Yes",
                  "Fri",
                  "Dinner",
                  4
                ],
                [
                  27.28,
                  4,
                  "Male",
                  "Yes",
                  "Fri",
                  "Dinner",
                  2
                ],
                [
                  12.03,
                  1.5,
                  "Male",
                  "Yes",
                  "Fri",
                  "Dinner",
                  2
                ],
                [
                  21.01,
                  3,
                  "Male",
                  "Yes",
                  "Fri",
                  "Dinner",
                  2
                ],
                [
                  12.46,
                  1.5,
                  "Male",
                  "No",
                  "Fri",
                  "Dinner",
                  2
                ],
                [
                  11.35,
                  2.5,
                  "Female",
                  "Yes",
                  "Fri",
                  "Dinner",
                  2
                ],
                [
                  15.38,
                  3,
                  "Female",
                  "Yes",
                  "Fri",
                  "Dinner",
                  2
                ],
                [
                  44.3,
                  2.5,
                  "Female",
                  "Yes",
                  "Sat",
                  "Dinner",
                  3
                ],
                [
                  22.42,
                  3.48,
                  "Female",
                  "Yes",
                  "Sat",
                  "Dinner",
                  2
                ],
                [
                  20.92,
                  4.08,
                  "Female",
                  "No",
                  "Sat",
                  "Dinner",
                  2
                ],
                [
                  15.36,
                  1.64,
                  "Male",
                  "Yes",
                  "Sat",
                  "Dinner",
                  2
                ],
                [
                  20.49,
                  4.06,
                  "Male",
                  "Yes",
                  "Sat",
                  "Dinner",
                  2
                ],
                [
                  25.21,
                  4.29,
                  "Male",
                  "Yes",
                  "Sat",
                  "Dinner",
                  2
                ],
                [
                  18.24,
                  3.76,
                  "Male",
                  "No",
                  "Sat",
                  "Dinner",
                  2
                ],
                [
                  14.31,
                  4,
                  "Female",
                  "Yes",
                  "Sat",
                  "Dinner",
                  2
                ],
                [
                  14,
                  3,
                  "Male",
                  "No",
                  "Sat",
                  "Dinner",
                  2
                ],
                [
                  7.25,
                  1,
                  "Female",
                  "No",
                  "Sat",
                  "Dinner",
                  1
                ],
                [
                  38.07,
                  4,
                  "Male",
                  "No",
                  "Sun",
                  "Dinner",
                  3
                ],
                [
                  23.95,
                  2.55,
                  "Male",
                  "No",
                  "Sun",
                  "Dinner",
                  2
                ],
                [
                  25.71,
                  4,
                  "Female",
                  "No",
                  "Sun",
                  "Dinner",
                  3
                ],
                [
                  17.31,
                  3.5,
                  "Female",
                  "No",
                  "Sun",
                  "Dinner",
                  2
                ],
                [
                  29.93,
                  5.07,
                  "Male",
                  "No",
                  "Sun",
                  "Dinner",
                  4
                ],
                [
                  10.65,
                  1.5,
                  "Female",
                  "No",
                  "Thur",
                  "Lunch",
                  2
                ],
                [
                  12.43,
                  1.8,
                  "Female",
                  "No",
                  "Thur",
                  "Lunch",
                  2
                ],
                [
                  24.08,
                  2.92,
                  "Female",
                  "No",
                  "Thur",
                  "Lunch",
                  4
                ],
                [
                  11.69,
                  2.31,
                  "Male",
                  "No",
                  "Thur",
                  "Lunch",
                  2
                ],
                [
                  13.42,
                  1.68,
                  "Female",
                  "No",
                  "Thur",
                  "Lunch",
                  2
                ],
                [
                  14.26,
                  2.5,
                  "Male",
                  "No",
                  "Thur",
                  "Lunch",
                  2
                ],
                [
                  15.95,
                  2,
                  "Male",
                  "No",
                  "Thur",
                  "Lunch",
                  2
                ],
                [
                  12.48,
                  2.52,
                  "Female",
                  "No",
                  "Thur",
                  "Lunch",
                  2
                ],
                [
                  29.8,
                  4.2,
                  "Female",
                  "No",
                  "Thur",
                  "Lunch",
                  6
                ],
                [
                  8.52,
                  1.48,
                  "Male",
                  "No",
                  "Thur",
                  "Lunch",
                  2
                ],
                [
                  14.52,
                  2,
                  "Female",
                  "No",
                  "Thur",
                  "Lunch",
                  2
                ],
                [
                  11.38,
                  2,
                  "Female",
                  "No",
                  "Thur",
                  "Lunch",
                  2
                ],
                [
                  22.82,
                  2.18,
                  "Male",
                  "No",
                  "Thur",
                  "Lunch",
                  3
                ],
                [
                  19.08,
                  1.5,
                  "Male",
                  "No",
                  "Thur",
                  "Lunch",
                  2
                ],
                [
                  20.27,
                  2.83,
                  "Female",
                  "No",
                  "Thur",
                  "Lunch",
                  2
                ],
                [
                  11.17,
                  1.5,
                  "Female",
                  "No",
                  "Thur",
                  "Lunch",
                  2
                ],
                [
                  12.26,
                  2,
                  "Female",
                  "No",
                  "Thur",
                  "Lunch",
                  2
                ],
                [
                  18.26,
                  3.25,
                  "Female",
                  "No",
                  "Thur",
                  "Lunch",
                  2
                ],
                [
                  8.51,
                  1.25,
                  "Female",
                  "No",
                  "Thur",
                  "Lunch",
                  2
                ],
                [
                  10.33,
                  2,
                  "Female",
                  "No",
                  "Thur",
                  "Lunch",
                  2
                ],
                [
                  14.15,
                  2,
                  "Female",
                  "No",
                  "Thur",
                  "Lunch",
                  2
                ],
                [
                  16,
                  2,
                  "Male",
                  "Yes",
                  "Thur",
                  "Lunch",
                  2
                ],
                [
                  13.16,
                  2.75,
                  "Female",
                  "No",
                  "Thur",
                  "Lunch",
                  2
                ],
                [
                  17.47,
                  3.5,
                  "Female",
                  "No",
                  "Thur",
                  "Lunch",
                  2
                ],
                [
                  34.3,
                  6.7,
                  "Male",
                  "No",
                  "Thur",
                  "Lunch",
                  6
                ],
                [
                  41.19,
                  5,
                  "Male",
                  "No",
                  "Thur",
                  "Lunch",
                  5
                ],
                [
                  27.05,
                  5,
                  "Female",
                  "No",
                  "Thur",
                  "Lunch",
                  6
                ],
                [
                  16.43,
                  2.3,
                  "Female",
                  "No",
                  "Thur",
                  "Lunch",
                  2
                ],
                [
                  8.35,
                  1.5,
                  "Female",
                  "No",
                  "Thur",
                  "Lunch",
                  2
                ],
                [
                  18.64,
                  1.36,
                  "Female",
                  "No",
                  "Thur",
                  "Lunch",
                  3
                ],
                [
                  11.87,
                  1.63,
                  "Female",
                  "No",
                  "Thur",
                  "Lunch",
                  2
                ],
                [
                  9.78,
                  1.73,
                  "Male",
                  "No",
                  "Thur",
                  "Lunch",
                  2
                ],
                [
                  7.51,
                  2,
                  "Male",
                  "No",
                  "Thur",
                  "Lunch",
                  2
                ],
                [
                  14.07,
                  2.5,
                  "Male",
                  "No",
                  "Sun",
                  "Dinner",
                  2
                ],
                [
                  13.13,
                  2,
                  "Male",
                  "No",
                  "Sun",
                  "Dinner",
                  2
                ],
                [
                  17.26,
                  2.74,
                  "Male",
                  "No",
                  "Sun",
                  "Dinner",
                  3
                ],
                [
                  24.55,
                  2,
                  "Male",
                  "No",
                  "Sun",
                  "Dinner",
                  4
                ],
                [
                  19.77,
                  2,
                  "Male",
                  "No",
                  "Sun",
                  "Dinner",
                  4
                ],
                [
                  29.85,
                  5.14,
                  "Female",
                  "No",
                  "Sun",
                  "Dinner",
                  5
                ],
                [
                  48.17,
                  5,
                  "Male",
                  "No",
                  "Sun",
                  "Dinner",
                  6
                ],
                [
                  25,
                  3.75,
                  "Female",
                  "No",
                  "Sun",
                  "Dinner",
                  4
                ],
                [
                  13.39,
                  2.61,
                  "Female",
                  "No",
                  "Sun",
                  "Dinner",
                  2
                ],
                [
                  16.49,
                  2,
                  "Male",
                  "No",
                  "Sun",
                  "Dinner",
                  4
                ],
                [
                  21.5,
                  3.5,
                  "Male",
                  "No",
                  "Sun",
                  "Dinner",
                  4
                ],
                [
                  12.66,
                  2.5,
                  "Male",
                  "No",
                  "Sun",
                  "Dinner",
                  2
                ],
                [
                  16.21,
                  2,
                  "Female",
                  "No",
                  "Sun",
                  "Dinner",
                  3
                ],
                [
                  13.81,
                  2,
                  "Male",
                  "No",
                  "Sun",
                  "Dinner",
                  2
                ],
                [
                  17.51,
                  3,
                  "Female",
                  "Yes",
                  "Sun",
                  "Dinner",
                  2
                ],
                [
                  24.52,
                  3.48,
                  "Male",
                  "No",
                  "Sun",
                  "Dinner",
                  3
                ],
                [
                  20.76,
                  2.24,
                  "Male",
                  "No",
                  "Sun",
                  "Dinner",
                  2
                ],
                [
                  31.71,
                  4.5,
                  "Male",
                  "No",
                  "Sun",
                  "Dinner",
                  4
                ],
                [
                  10.59,
                  1.61,
                  "Female",
                  "Yes",
                  "Sat",
                  "Dinner",
                  2
                ],
                [
                  10.63,
                  2,
                  "Female",
                  "Yes",
                  "Sat",
                  "Dinner",
                  2
                ],
                [
                  50.81,
                  10,
                  "Male",
                  "Yes",
                  "Sat",
                  "Dinner",
                  3
                ],
                [
                  15.81,
                  3.16,
                  "Male",
                  "Yes",
                  "Sat",
                  "Dinner",
                  2
                ],
                [
                  7.25,
                  5.15,
                  "Male",
                  "Yes",
                  "Sun",
                  "Dinner",
                  2
                ],
                [
                  31.85,
                  3.18,
                  "Male",
                  "Yes",
                  "Sun",
                  "Dinner",
                  2
                ],
                [
                  16.82,
                  4,
                  "Male",
                  "Yes",
                  "Sun",
                  "Dinner",
                  2
                ],
                [
                  32.9,
                  3.11,
                  "Male",
                  "Yes",
                  "Sun",
                  "Dinner",
                  2
                ],
                [
                  17.89,
                  2,
                  "Male",
                  "Yes",
                  "Sun",
                  "Dinner",
                  2
                ],
                [
                  14.48,
                  2,
                  "Male",
                  "Yes",
                  "Sun",
                  "Dinner",
                  2
                ],
                [
                  9.6,
                  4,
                  "Female",
                  "Yes",
                  "Sun",
                  "Dinner",
                  2
                ],
                [
                  34.63,
                  3.55,
                  "Male",
                  "Yes",
                  "Sun",
                  "Dinner",
                  2
                ],
                [
                  34.65,
                  3.68,
                  "Male",
                  "Yes",
                  "Sun",
                  "Dinner",
                  4
                ],
                [
                  23.33,
                  5.65,
                  "Male",
                  "Yes",
                  "Sun",
                  "Dinner",
                  2
                ],
                [
                  45.35,
                  3.5,
                  "Male",
                  "Yes",
                  "Sun",
                  "Dinner",
                  3
                ],
                [
                  23.17,
                  6.5,
                  "Male",
                  "Yes",
                  "Sun",
                  "Dinner",
                  4
                ],
                [
                  40.55,
                  3,
                  "Male",
                  "Yes",
                  "Sun",
                  "Dinner",
                  2
                ],
                [
                  20.69,
                  5,
                  "Male",
                  "No",
                  "Sun",
                  "Dinner",
                  5
                ],
                [
                  20.9,
                  3.5,
                  "Female",
                  "Yes",
                  "Sun",
                  "Dinner",
                  3
                ],
                [
                  30.46,
                  2,
                  "Male",
                  "Yes",
                  "Sun",
                  "Dinner",
                  5
                ],
                [
                  18.15,
                  3.5,
                  "Female",
                  "Yes",
                  "Sun",
                  "Dinner",
                  3
                ],
                [
                  23.1,
                  4,
                  "Male",
                  "Yes",
                  "Sun",
                  "Dinner",
                  3
                ],
                [
                  15.69,
                  1.5,
                  "Male",
                  "Yes",
                  "Sun",
                  "Dinner",
                  2
                ],
                [
                  19.81,
                  4.19,
                  "Female",
                  "Yes",
                  "Thur",
                  "Lunch",
                  2
                ],
                [
                  28.44,
                  2.56,
                  "Male",
                  "Yes",
                  "Thur",
                  "Lunch",
                  2
                ],
                [
                  15.48,
                  2.02,
                  "Male",
                  "Yes",
                  "Thur",
                  "Lunch",
                  2
                ],
                [
                  16.58,
                  4,
                  "Male",
                  "Yes",
                  "Thur",
                  "Lunch",
                  2
                ],
                [
                  7.56,
                  1.44,
                  "Male",
                  "No",
                  "Thur",
                  "Lunch",
                  2
                ],
                [
                  10.34,
                  2,
                  "Male",
                  "Yes",
                  "Thur",
                  "Lunch",
                  2
                ],
                [
                  43.11,
                  5,
                  "Female",
                  "Yes",
                  "Thur",
                  "Lunch",
                  4
                ],
                [
                  13,
                  2,
                  "Female",
                  "Yes",
                  "Thur",
                  "Lunch",
                  2
                ],
                [
                  13.51,
                  2,
                  "Male",
                  "Yes",
                  "Thur",
                  "Lunch",
                  2
                ],
                [
                  18.71,
                  4,
                  "Male",
                  "Yes",
                  "Thur",
                  "Lunch",
                  3
                ],
                [
                  12.74,
                  2.01,
                  "Female",
                  "Yes",
                  "Thur",
                  "Lunch",
                  2
                ],
                [
                  13,
                  2,
                  "Female",
                  "Yes",
                  "Thur",
                  "Lunch",
                  2
                ],
                [
                  16.4,
                  2.5,
                  "Female",
                  "Yes",
                  "Thur",
                  "Lunch",
                  2
                ],
                [
                  20.53,
                  4,
                  "Male",
                  "Yes",
                  "Thur",
                  "Lunch",
                  4
                ],
                [
                  16.47,
                  3.23,
                  "Female",
                  "Yes",
                  "Thur",
                  "Lunch",
                  3
                ],
                [
                  26.59,
                  3.41,
                  "Male",
                  "Yes",
                  "Sat",
                  "Dinner",
                  3
                ],
                [
                  38.73,
                  3,
                  "Male",
                  "Yes",
                  "Sat",
                  "Dinner",
                  4
                ],
                [
                  24.27,
                  2.03,
                  "Male",
                  "Yes",
                  "Sat",
                  "Dinner",
                  2
                ],
                [
                  12.76,
                  2.23,
                  "Female",
                  "Yes",
                  "Sat",
                  "Dinner",
                  2
                ],
                [
                  30.06,
                  2,
                  "Male",
                  "Yes",
                  "Sat",
                  "Dinner",
                  3
                ],
                [
                  25.89,
                  5.16,
                  "Male",
                  "Yes",
                  "Sat",
                  "Dinner",
                  4
                ],
                [
                  48.33,
                  9,
                  "Male",
                  "No",
                  "Sat",
                  "Dinner",
                  4
                ],
                [
                  13.27,
                  2.5,
                  "Female",
                  "Yes",
                  "Sat",
                  "Dinner",
                  2
                ],
                [
                  28.17,
                  6.5,
                  "Female",
                  "Yes",
                  "Sat",
                  "Dinner",
                  3
                ],
                [
                  12.9,
                  1.1,
                  "Female",
                  "Yes",
                  "Sat",
                  "Dinner",
                  2
                ],
                [
                  28.15,
                  3,
                  "Male",
                  "Yes",
                  "Sat",
                  "Dinner",
                  5
                ],
                [
                  11.59,
                  1.5,
                  "Male",
                  "Yes",
                  "Sat",
                  "Dinner",
                  2
                ],
                [
                  7.74,
                  1.44,
                  "Male",
                  "Yes",
                  "Sat",
                  "Dinner",
                  2
                ],
                [
                  30.14,
                  3.09,
                  "Female",
                  "Yes",
                  "Sat",
                  "Dinner",
                  4
                ],
                [
                  12.16,
                  2.2,
                  "Male",
                  "Yes",
                  "Fri",
                  "Lunch",
                  2
                ],
                [
                  13.42,
                  3.48,
                  "Female",
                  "Yes",
                  "Fri",
                  "Lunch",
                  2
                ],
                [
                  8.58,
                  1.92,
                  "Male",
                  "Yes",
                  "Fri",
                  "Lunch",
                  1
                ],
                [
                  15.98,
                  3,
                  "Female",
                  "No",
                  "Fri",
                  "Lunch",
                  3
                ],
                [
                  13.42,
                  1.58,
                  "Male",
                  "Yes",
                  "Fri",
                  "Lunch",
                  2
                ],
                [
                  16.27,
                  2.5,
                  "Female",
                  "Yes",
                  "Fri",
                  "Lunch",
                  2
                ],
                [
                  10.09,
                  2,
                  "Female",
                  "Yes",
                  "Fri",
                  "Lunch",
                  2
                ],
                [
                  20.45,
                  3,
                  "Male",
                  "No",
                  "Sat",
                  "Dinner",
                  4
                ],
                [
                  13.28,
                  2.72,
                  "Male",
                  "No",
                  "Sat",
                  "Dinner",
                  2
                ],
                [
                  22.12,
                  2.88,
                  "Female",
                  "Yes",
                  "Sat",
                  "Dinner",
                  2
                ],
                [
                  24.01,
                  2,
                  "Male",
                  "Yes",
                  "Sat",
                  "Dinner",
                  4
                ],
                [
                  15.69,
                  3,
                  "Male",
                  "Yes",
                  "Sat",
                  "Dinner",
                  3
                ],
                [
                  11.61,
                  3.39,
                  "Male",
                  "No",
                  "Sat",
                  "Dinner",
                  2
                ],
                [
                  10.77,
                  1.47,
                  "Male",
                  "No",
                  "Sat",
                  "Dinner",
                  2
                ],
                [
                  15.53,
                  3,
                  "Male",
                  "Yes",
                  "Sat",
                  "Dinner",
                  2
                ],
                [
                  10.07,
                  1.25,
                  "Male",
                  "No",
                  "Sat",
                  "Dinner",
                  2
                ],
                [
                  12.6,
                  1,
                  "Male",
                  "Yes",
                  "Sat",
                  "Dinner",
                  2
                ],
                [
                  32.83,
                  1.17,
                  "Male",
                  "Yes",
                  "Sat",
                  "Dinner",
                  2
                ],
                [
                  35.83,
                  4.67,
                  "Female",
                  "No",
                  "Sat",
                  "Dinner",
                  3
                ],
                [
                  29.03,
                  5.92,
                  "Male",
                  "No",
                  "Sat",
                  "Dinner",
                  3
                ],
                [
                  27.18,
                  2,
                  "Female",
                  "Yes",
                  "Sat",
                  "Dinner",
                  2
                ],
                [
                  22.67,
                  2,
                  "Male",
                  "Yes",
                  "Sat",
                  "Dinner",
                  2
                ],
                [
                  17.82,
                  1.75,
                  "Male",
                  "No",
                  "Sat",
                  "Dinner",
                  2
                ],
                [
                  18.78,
                  3,
                  "Female",
                  "No",
                  "Thur",
                  "Dinner",
                  2
                ]
              ],
              "plotOptions": {
                "displayType": "table",
                "customPlotOptions": {},
                "pivotColumns": null,
                "pivotAggregation": null,
                "xColumns": null,
                "yColumns": null
              },
              "columnCustomDisplayInfos": {},
              "aggType": "",
              "isJsonSchema": true,
              "removedWidgets": [],
              "aggSchema": [],
              "schema": [
                {
                  "name": "total_bill",
                  "type": "\"double\"",
                  "metadata": "{}"
                },
                {
                  "name": "tip",
                  "type": "\"double\"",
                  "metadata": "{}"
                },
                {
                  "name": "sex",
                  "type": "\"string\"",
                  "metadata": "{}"
                },
                {
                  "name": "smoker",
                  "type": "\"string\"",
                  "metadata": "{}"
                },
                {
                  "name": "day",
                  "type": "\"string\"",
                  "metadata": "{}"
                },
                {
                  "name": "time",
                  "type": "\"string\"",
                  "metadata": "{}"
                },
                {
                  "name": "size",
                  "type": "\"integer\"",
                  "metadata": "{}"
                }
              ],
              "aggError": "",
              "aggData": [],
              "addedWidgets": {},
              "metadata": {},
              "dbfsResultPath": null,
              "type": "table",
              "aggOverflow": false,
              "aggSeriesLimitReached": false,
              "arguments": {}
            }
          },
          "data": {
            "text/html": [
              "<style scoped>\n",
              "  .table-result-container {\n",
              "    max-height: 300px;\n",
              "    overflow: auto;\n",
              "  }\n",
              "  table, th, td {\n",
              "    border: 1px solid black;\n",
              "    border-collapse: collapse;\n",
              "  }\n",
              "  th, td {\n",
              "    padding: 5px;\n",
              "  }\n",
              "  th {\n",
              "    text-align: left;\n",
              "  }\n",
              "</style><div class='table-result-container'><table class='table-result'><thead style='background-color: white'><tr><th>total_bill</th><th>tip</th><th>sex</th><th>smoker</th><th>day</th><th>time</th><th>size</th></tr></thead><tbody><tr><td>16.99</td><td>1.01</td><td>Female</td><td>No</td><td>Sun</td><td>Dinner</td><td>2</td></tr><tr><td>10.34</td><td>1.66</td><td>Male</td><td>No</td><td>Sun</td><td>Dinner</td><td>3</td></tr><tr><td>21.01</td><td>3.5</td><td>Male</td><td>No</td><td>Sun</td><td>Dinner</td><td>3</td></tr><tr><td>23.68</td><td>3.31</td><td>Male</td><td>No</td><td>Sun</td><td>Dinner</td><td>2</td></tr><tr><td>24.59</td><td>3.61</td><td>Female</td><td>No</td><td>Sun</td><td>Dinner</td><td>4</td></tr><tr><td>25.29</td><td>4.71</td><td>Male</td><td>No</td><td>Sun</td><td>Dinner</td><td>4</td></tr><tr><td>8.77</td><td>2.0</td><td>Male</td><td>No</td><td>Sun</td><td>Dinner</td><td>2</td></tr><tr><td>26.88</td><td>3.12</td><td>Male</td><td>No</td><td>Sun</td><td>Dinner</td><td>4</td></tr><tr><td>15.04</td><td>1.96</td><td>Male</td><td>No</td><td>Sun</td><td>Dinner</td><td>2</td></tr><tr><td>14.78</td><td>3.23</td><td>Male</td><td>No</td><td>Sun</td><td>Dinner</td><td>2</td></tr><tr><td>10.27</td><td>1.71</td><td>Male</td><td>No</td><td>Sun</td><td>Dinner</td><td>2</td></tr><tr><td>35.26</td><td>5.0</td><td>Female</td><td>No</td><td>Sun</td><td>Dinner</td><td>4</td></tr><tr><td>15.42</td><td>1.57</td><td>Male</td><td>No</td><td>Sun</td><td>Dinner</td><td>2</td></tr><tr><td>18.43</td><td>3.0</td><td>Male</td><td>No</td><td>Sun</td><td>Dinner</td><td>4</td></tr><tr><td>14.83</td><td>3.02</td><td>Female</td><td>No</td><td>Sun</td><td>Dinner</td><td>2</td></tr><tr><td>21.58</td><td>3.92</td><td>Male</td><td>No</td><td>Sun</td><td>Dinner</td><td>2</td></tr><tr><td>10.33</td><td>1.67</td><td>Female</td><td>No</td><td>Sun</td><td>Dinner</td><td>3</td></tr><tr><td>16.29</td><td>3.71</td><td>Male</td><td>No</td><td>Sun</td><td>Dinner</td><td>3</td></tr><tr><td>16.97</td><td>3.5</td><td>Female</td><td>No</td><td>Sun</td><td>Dinner</td><td>3</td></tr><tr><td>20.65</td><td>3.35</td><td>Male</td><td>No</td><td>Sat</td><td>Dinner</td><td>3</td></tr><tr><td>17.92</td><td>4.08</td><td>Male</td><td>No</td><td>Sat</td><td>Dinner</td><td>2</td></tr><tr><td>20.29</td><td>2.75</td><td>Female</td><td>No</td><td>Sat</td><td>Dinner</td><td>2</td></tr><tr><td>15.77</td><td>2.23</td><td>Female</td><td>No</td><td>Sat</td><td>Dinner</td><td>2</td></tr><tr><td>39.42</td><td>7.58</td><td>Male</td><td>No</td><td>Sat</td><td>Dinner</td><td>4</td></tr><tr><td>19.82</td><td>3.18</td><td>Male</td><td>No</td><td>Sat</td><td>Dinner</td><td>2</td></tr><tr><td>17.81</td><td>2.34</td><td>Male</td><td>No</td><td>Sat</td><td>Dinner</td><td>4</td></tr><tr><td>13.37</td><td>2.0</td><td>Male</td><td>No</td><td>Sat</td><td>Dinner</td><td>2</td></tr><tr><td>12.69</td><td>2.0</td><td>Male</td><td>No</td><td>Sat</td><td>Dinner</td><td>2</td></tr><tr><td>21.7</td><td>4.3</td><td>Male</td><td>No</td><td>Sat</td><td>Dinner</td><td>2</td></tr><tr><td>19.65</td><td>3.0</td><td>Female</td><td>No</td><td>Sat</td><td>Dinner</td><td>2</td></tr><tr><td>9.55</td><td>1.45</td><td>Male</td><td>No</td><td>Sat</td><td>Dinner</td><td>2</td></tr><tr><td>18.35</td><td>2.5</td><td>Male</td><td>No</td><td>Sat</td><td>Dinner</td><td>4</td></tr><tr><td>15.06</td><td>3.0</td><td>Female</td><td>No</td><td>Sat</td><td>Dinner</td><td>2</td></tr><tr><td>20.69</td><td>2.45</td><td>Female</td><td>No</td><td>Sat</td><td>Dinner</td><td>4</td></tr><tr><td>17.78</td><td>3.27</td><td>Male</td><td>No</td><td>Sat</td><td>Dinner</td><td>2</td></tr><tr><td>24.06</td><td>3.6</td><td>Male</td><td>No</td><td>Sat</td><td>Dinner</td><td>3</td></tr><tr><td>16.31</td><td>2.0</td><td>Male</td><td>No</td><td>Sat</td><td>Dinner</td><td>3</td></tr><tr><td>16.93</td><td>3.07</td><td>Female</td><td>No</td><td>Sat</td><td>Dinner</td><td>3</td></tr><tr><td>18.69</td><td>2.31</td><td>Male</td><td>No</td><td>Sat</td><td>Dinner</td><td>3</td></tr><tr><td>31.27</td><td>5.0</td><td>Male</td><td>No</td><td>Sat</td><td>Dinner</td><td>3</td></tr><tr><td>16.04</td><td>2.24</td><td>Male</td><td>No</td><td>Sat</td><td>Dinner</td><td>3</td></tr><tr><td>17.46</td><td>2.54</td><td>Male</td><td>No</td><td>Sun</td><td>Dinner</td><td>2</td></tr><tr><td>13.94</td><td>3.06</td><td>Male</td><td>No</td><td>Sun</td><td>Dinner</td><td>2</td></tr><tr><td>9.68</td><td>1.32</td><td>Male</td><td>No</td><td>Sun</td><td>Dinner</td><td>2</td></tr><tr><td>30.4</td><td>5.6</td><td>Male</td><td>No</td><td>Sun</td><td>Dinner</td><td>4</td></tr><tr><td>18.29</td><td>3.0</td><td>Male</td><td>No</td><td>Sun</td><td>Dinner</td><td>2</td></tr><tr><td>22.23</td><td>5.0</td><td>Male</td><td>No</td><td>Sun</td><td>Dinner</td><td>2</td></tr><tr><td>32.4</td><td>6.0</td><td>Male</td><td>No</td><td>Sun</td><td>Dinner</td><td>4</td></tr><tr><td>28.55</td><td>2.05</td><td>Male</td><td>No</td><td>Sun</td><td>Dinner</td><td>3</td></tr><tr><td>18.04</td><td>3.0</td><td>Male</td><td>No</td><td>Sun</td><td>Dinner</td><td>2</td></tr><tr><td>12.54</td><td>2.5</td><td>Male</td><td>No</td><td>Sun</td><td>Dinner</td><td>2</td></tr><tr><td>10.29</td><td>2.6</td><td>Female</td><td>No</td><td>Sun</td><td>Dinner</td><td>2</td></tr><tr><td>34.81</td><td>5.2</td><td>Female</td><td>No</td><td>Sun</td><td>Dinner</td><td>4</td></tr><tr><td>9.94</td><td>1.56</td><td>Male</td><td>No</td><td>Sun</td><td>Dinner</td><td>2</td></tr><tr><td>25.56</td><td>4.34</td><td>Male</td><td>No</td><td>Sun</td><td>Dinner</td><td>4</td></tr><tr><td>19.49</td><td>3.51</td><td>Male</td><td>No</td><td>Sun</td><td>Dinner</td><td>2</td></tr><tr><td>38.01</td><td>3.0</td><td>Male</td><td>Yes</td><td>Sat</td><td>Dinner</td><td>4</td></tr><tr><td>26.41</td><td>1.5</td><td>Female</td><td>No</td><td>Sat</td><td>Dinner</td><td>2</td></tr><tr><td>11.24</td><td>1.76</td><td>Male</td><td>Yes</td><td>Sat</td><td>Dinner</td><td>2</td></tr><tr><td>48.27</td><td>6.73</td><td>Male</td><td>No</td><td>Sat</td><td>Dinner</td><td>4</td></tr><tr><td>20.29</td><td>3.21</td><td>Male</td><td>Yes</td><td>Sat</td><td>Dinner</td><td>2</td></tr><tr><td>13.81</td><td>2.0</td><td>Male</td><td>Yes</td><td>Sat</td><td>Dinner</td><td>2</td></tr><tr><td>11.02</td><td>1.98</td><td>Male</td><td>Yes</td><td>Sat</td><td>Dinner</td><td>2</td></tr><tr><td>18.29</td><td>3.76</td><td>Male</td><td>Yes</td><td>Sat</td><td>Dinner</td><td>4</td></tr><tr><td>17.59</td><td>2.64</td><td>Male</td><td>No</td><td>Sat</td><td>Dinner</td><td>3</td></tr><tr><td>20.08</td><td>3.15</td><td>Male</td><td>No</td><td>Sat</td><td>Dinner</td><td>3</td></tr><tr><td>16.45</td><td>2.47</td><td>Female</td><td>No</td><td>Sat</td><td>Dinner</td><td>2</td></tr><tr><td>3.07</td><td>1.0</td><td>Female</td><td>Yes</td><td>Sat</td><td>Dinner</td><td>1</td></tr><tr><td>20.23</td><td>2.01</td><td>Male</td><td>No</td><td>Sat</td><td>Dinner</td><td>2</td></tr><tr><td>15.01</td><td>2.09</td><td>Male</td><td>Yes</td><td>Sat</td><td>Dinner</td><td>2</td></tr><tr><td>12.02</td><td>1.97</td><td>Male</td><td>No</td><td>Sat</td><td>Dinner</td><td>2</td></tr><tr><td>17.07</td><td>3.0</td><td>Female</td><td>No</td><td>Sat</td><td>Dinner</td><td>3</td></tr><tr><td>26.86</td><td>3.14</td><td>Female</td><td>Yes</td><td>Sat</td><td>Dinner</td><td>2</td></tr><tr><td>25.28</td><td>5.0</td><td>Female</td><td>Yes</td><td>Sat</td><td>Dinner</td><td>2</td></tr><tr><td>14.73</td><td>2.2</td><td>Female</td><td>No</td><td>Sat</td><td>Dinner</td><td>2</td></tr><tr><td>10.51</td><td>1.25</td><td>Male</td><td>No</td><td>Sat</td><td>Dinner</td><td>2</td></tr><tr><td>17.92</td><td>3.08</td><td>Male</td><td>Yes</td><td>Sat</td><td>Dinner</td><td>2</td></tr><tr><td>27.2</td><td>4.0</td><td>Male</td><td>No</td><td>Thur</td><td>Lunch</td><td>4</td></tr><tr><td>22.76</td><td>3.0</td><td>Male</td><td>No</td><td>Thur</td><td>Lunch</td><td>2</td></tr><tr><td>17.29</td><td>2.71</td><td>Male</td><td>No</td><td>Thur</td><td>Lunch</td><td>2</td></tr><tr><td>19.44</td><td>3.0</td><td>Male</td><td>Yes</td><td>Thur</td><td>Lunch</td><td>2</td></tr><tr><td>16.66</td><td>3.4</td><td>Male</td><td>No</td><td>Thur</td><td>Lunch</td><td>2</td></tr><tr><td>10.07</td><td>1.83</td><td>Female</td><td>No</td><td>Thur</td><td>Lunch</td><td>1</td></tr><tr><td>32.68</td><td>5.0</td><td>Male</td><td>Yes</td><td>Thur</td><td>Lunch</td><td>2</td></tr><tr><td>15.98</td><td>2.03</td><td>Male</td><td>No</td><td>Thur</td><td>Lunch</td><td>2</td></tr><tr><td>34.83</td><td>5.17</td><td>Female</td><td>No</td><td>Thur</td><td>Lunch</td><td>4</td></tr><tr><td>13.03</td><td>2.0</td><td>Male</td><td>No</td><td>Thur</td><td>Lunch</td><td>2</td></tr><tr><td>18.28</td><td>4.0</td><td>Male</td><td>No</td><td>Thur</td><td>Lunch</td><td>2</td></tr><tr><td>24.71</td><td>5.85</td><td>Male</td><td>No</td><td>Thur</td><td>Lunch</td><td>2</td></tr><tr><td>21.16</td><td>3.0</td><td>Male</td><td>No</td><td>Thur</td><td>Lunch</td><td>2</td></tr><tr><td>28.97</td><td>3.0</td><td>Male</td><td>Yes</td><td>Fri</td><td>Dinner</td><td>2</td></tr><tr><td>22.49</td><td>3.5</td><td>Male</td><td>No</td><td>Fri</td><td>Dinner</td><td>2</td></tr><tr><td>5.75</td><td>1.0</td><td>Female</td><td>Yes</td><td>Fri</td><td>Dinner</td><td>2</td></tr><tr><td>16.32</td><td>4.3</td><td>Female</td><td>Yes</td><td>Fri</td><td>Dinner</td><td>2</td></tr><tr><td>22.75</td><td>3.25</td><td>Female</td><td>No</td><td>Fri</td><td>Dinner</td><td>2</td></tr><tr><td>40.17</td><td>4.73</td><td>Male</td><td>Yes</td><td>Fri</td><td>Dinner</td><td>4</td></tr><tr><td>27.28</td><td>4.0</td><td>Male</td><td>Yes</td><td>Fri</td><td>Dinner</td><td>2</td></tr><tr><td>12.03</td><td>1.5</td><td>Male</td><td>Yes</td><td>Fri</td><td>Dinner</td><td>2</td></tr><tr><td>21.01</td><td>3.0</td><td>Male</td><td>Yes</td><td>Fri</td><td>Dinner</td><td>2</td></tr><tr><td>12.46</td><td>1.5</td><td>Male</td><td>No</td><td>Fri</td><td>Dinner</td><td>2</td></tr><tr><td>11.35</td><td>2.5</td><td>Female</td><td>Yes</td><td>Fri</td><td>Dinner</td><td>2</td></tr><tr><td>15.38</td><td>3.0</td><td>Female</td><td>Yes</td><td>Fri</td><td>Dinner</td><td>2</td></tr><tr><td>44.3</td><td>2.5</td><td>Female</td><td>Yes</td><td>Sat</td><td>Dinner</td><td>3</td></tr><tr><td>22.42</td><td>3.48</td><td>Female</td><td>Yes</td><td>Sat</td><td>Dinner</td><td>2</td></tr><tr><td>20.92</td><td>4.08</td><td>Female</td><td>No</td><td>Sat</td><td>Dinner</td><td>2</td></tr><tr><td>15.36</td><td>1.64</td><td>Male</td><td>Yes</td><td>Sat</td><td>Dinner</td><td>2</td></tr><tr><td>20.49</td><td>4.06</td><td>Male</td><td>Yes</td><td>Sat</td><td>Dinner</td><td>2</td></tr><tr><td>25.21</td><td>4.29</td><td>Male</td><td>Yes</td><td>Sat</td><td>Dinner</td><td>2</td></tr><tr><td>18.24</td><td>3.76</td><td>Male</td><td>No</td><td>Sat</td><td>Dinner</td><td>2</td></tr><tr><td>14.31</td><td>4.0</td><td>Female</td><td>Yes</td><td>Sat</td><td>Dinner</td><td>2</td></tr><tr><td>14.0</td><td>3.0</td><td>Male</td><td>No</td><td>Sat</td><td>Dinner</td><td>2</td></tr><tr><td>7.25</td><td>1.0</td><td>Female</td><td>No</td><td>Sat</td><td>Dinner</td><td>1</td></tr><tr><td>38.07</td><td>4.0</td><td>Male</td><td>No</td><td>Sun</td><td>Dinner</td><td>3</td></tr><tr><td>23.95</td><td>2.55</td><td>Male</td><td>No</td><td>Sun</td><td>Dinner</td><td>2</td></tr><tr><td>25.71</td><td>4.0</td><td>Female</td><td>No</td><td>Sun</td><td>Dinner</td><td>3</td></tr><tr><td>17.31</td><td>3.5</td><td>Female</td><td>No</td><td>Sun</td><td>Dinner</td><td>2</td></tr><tr><td>29.93</td><td>5.07</td><td>Male</td><td>No</td><td>Sun</td><td>Dinner</td><td>4</td></tr><tr><td>10.65</td><td>1.5</td><td>Female</td><td>No</td><td>Thur</td><td>Lunch</td><td>2</td></tr><tr><td>12.43</td><td>1.8</td><td>Female</td><td>No</td><td>Thur</td><td>Lunch</td><td>2</td></tr><tr><td>24.08</td><td>2.92</td><td>Female</td><td>No</td><td>Thur</td><td>Lunch</td><td>4</td></tr><tr><td>11.69</td><td>2.31</td><td>Male</td><td>No</td><td>Thur</td><td>Lunch</td><td>2</td></tr><tr><td>13.42</td><td>1.68</td><td>Female</td><td>No</td><td>Thur</td><td>Lunch</td><td>2</td></tr><tr><td>14.26</td><td>2.5</td><td>Male</td><td>No</td><td>Thur</td><td>Lunch</td><td>2</td></tr><tr><td>15.95</td><td>2.0</td><td>Male</td><td>No</td><td>Thur</td><td>Lunch</td><td>2</td></tr><tr><td>12.48</td><td>2.52</td><td>Female</td><td>No</td><td>Thur</td><td>Lunch</td><td>2</td></tr><tr><td>29.8</td><td>4.2</td><td>Female</td><td>No</td><td>Thur</td><td>Lunch</td><td>6</td></tr><tr><td>8.52</td><td>1.48</td><td>Male</td><td>No</td><td>Thur</td><td>Lunch</td><td>2</td></tr><tr><td>14.52</td><td>2.0</td><td>Female</td><td>No</td><td>Thur</td><td>Lunch</td><td>2</td></tr><tr><td>11.38</td><td>2.0</td><td>Female</td><td>No</td><td>Thur</td><td>Lunch</td><td>2</td></tr><tr><td>22.82</td><td>2.18</td><td>Male</td><td>No</td><td>Thur</td><td>Lunch</td><td>3</td></tr><tr><td>19.08</td><td>1.5</td><td>Male</td><td>No</td><td>Thur</td><td>Lunch</td><td>2</td></tr><tr><td>20.27</td><td>2.83</td><td>Female</td><td>No</td><td>Thur</td><td>Lunch</td><td>2</td></tr><tr><td>11.17</td><td>1.5</td><td>Female</td><td>No</td><td>Thur</td><td>Lunch</td><td>2</td></tr><tr><td>12.26</td><td>2.0</td><td>Female</td><td>No</td><td>Thur</td><td>Lunch</td><td>2</td></tr><tr><td>18.26</td><td>3.25</td><td>Female</td><td>No</td><td>Thur</td><td>Lunch</td><td>2</td></tr><tr><td>8.51</td><td>1.25</td><td>Female</td><td>No</td><td>Thur</td><td>Lunch</td><td>2</td></tr><tr><td>10.33</td><td>2.0</td><td>Female</td><td>No</td><td>Thur</td><td>Lunch</td><td>2</td></tr><tr><td>14.15</td><td>2.0</td><td>Female</td><td>No</td><td>Thur</td><td>Lunch</td><td>2</td></tr><tr><td>16.0</td><td>2.0</td><td>Male</td><td>Yes</td><td>Thur</td><td>Lunch</td><td>2</td></tr><tr><td>13.16</td><td>2.75</td><td>Female</td><td>No</td><td>Thur</td><td>Lunch</td><td>2</td></tr><tr><td>17.47</td><td>3.5</td><td>Female</td><td>No</td><td>Thur</td><td>Lunch</td><td>2</td></tr><tr><td>34.3</td><td>6.7</td><td>Male</td><td>No</td><td>Thur</td><td>Lunch</td><td>6</td></tr><tr><td>41.19</td><td>5.0</td><td>Male</td><td>No</td><td>Thur</td><td>Lunch</td><td>5</td></tr><tr><td>27.05</td><td>5.0</td><td>Female</td><td>No</td><td>Thur</td><td>Lunch</td><td>6</td></tr><tr><td>16.43</td><td>2.3</td><td>Female</td><td>No</td><td>Thur</td><td>Lunch</td><td>2</td></tr><tr><td>8.35</td><td>1.5</td><td>Female</td><td>No</td><td>Thur</td><td>Lunch</td><td>2</td></tr><tr><td>18.64</td><td>1.36</td><td>Female</td><td>No</td><td>Thur</td><td>Lunch</td><td>3</td></tr><tr><td>11.87</td><td>1.63</td><td>Female</td><td>No</td><td>Thur</td><td>Lunch</td><td>2</td></tr><tr><td>9.78</td><td>1.73</td><td>Male</td><td>No</td><td>Thur</td><td>Lunch</td><td>2</td></tr><tr><td>7.51</td><td>2.0</td><td>Male</td><td>No</td><td>Thur</td><td>Lunch</td><td>2</td></tr><tr><td>14.07</td><td>2.5</td><td>Male</td><td>No</td><td>Sun</td><td>Dinner</td><td>2</td></tr><tr><td>13.13</td><td>2.0</td><td>Male</td><td>No</td><td>Sun</td><td>Dinner</td><td>2</td></tr><tr><td>17.26</td><td>2.74</td><td>Male</td><td>No</td><td>Sun</td><td>Dinner</td><td>3</td></tr><tr><td>24.55</td><td>2.0</td><td>Male</td><td>No</td><td>Sun</td><td>Dinner</td><td>4</td></tr><tr><td>19.77</td><td>2.0</td><td>Male</td><td>No</td><td>Sun</td><td>Dinner</td><td>4</td></tr><tr><td>29.85</td><td>5.14</td><td>Female</td><td>No</td><td>Sun</td><td>Dinner</td><td>5</td></tr><tr><td>48.17</td><td>5.0</td><td>Male</td><td>No</td><td>Sun</td><td>Dinner</td><td>6</td></tr><tr><td>25.0</td><td>3.75</td><td>Female</td><td>No</td><td>Sun</td><td>Dinner</td><td>4</td></tr><tr><td>13.39</td><td>2.61</td><td>Female</td><td>No</td><td>Sun</td><td>Dinner</td><td>2</td></tr><tr><td>16.49</td><td>2.0</td><td>Male</td><td>No</td><td>Sun</td><td>Dinner</td><td>4</td></tr><tr><td>21.5</td><td>3.5</td><td>Male</td><td>No</td><td>Sun</td><td>Dinner</td><td>4</td></tr><tr><td>12.66</td><td>2.5</td><td>Male</td><td>No</td><td>Sun</td><td>Dinner</td><td>2</td></tr><tr><td>16.21</td><td>2.0</td><td>Female</td><td>No</td><td>Sun</td><td>Dinner</td><td>3</td></tr><tr><td>13.81</td><td>2.0</td><td>Male</td><td>No</td><td>Sun</td><td>Dinner</td><td>2</td></tr><tr><td>17.51</td><td>3.0</td><td>Female</td><td>Yes</td><td>Sun</td><td>Dinner</td><td>2</td></tr><tr><td>24.52</td><td>3.48</td><td>Male</td><td>No</td><td>Sun</td><td>Dinner</td><td>3</td></tr><tr><td>20.76</td><td>2.24</td><td>Male</td><td>No</td><td>Sun</td><td>Dinner</td><td>2</td></tr><tr><td>31.71</td><td>4.5</td><td>Male</td><td>No</td><td>Sun</td><td>Dinner</td><td>4</td></tr><tr><td>10.59</td><td>1.61</td><td>Female</td><td>Yes</td><td>Sat</td><td>Dinner</td><td>2</td></tr><tr><td>10.63</td><td>2.0</td><td>Female</td><td>Yes</td><td>Sat</td><td>Dinner</td><td>2</td></tr><tr><td>50.81</td><td>10.0</td><td>Male</td><td>Yes</td><td>Sat</td><td>Dinner</td><td>3</td></tr><tr><td>15.81</td><td>3.16</td><td>Male</td><td>Yes</td><td>Sat</td><td>Dinner</td><td>2</td></tr><tr><td>7.25</td><td>5.15</td><td>Male</td><td>Yes</td><td>Sun</td><td>Dinner</td><td>2</td></tr><tr><td>31.85</td><td>3.18</td><td>Male</td><td>Yes</td><td>Sun</td><td>Dinner</td><td>2</td></tr><tr><td>16.82</td><td>4.0</td><td>Male</td><td>Yes</td><td>Sun</td><td>Dinner</td><td>2</td></tr><tr><td>32.9</td><td>3.11</td><td>Male</td><td>Yes</td><td>Sun</td><td>Dinner</td><td>2</td></tr><tr><td>17.89</td><td>2.0</td><td>Male</td><td>Yes</td><td>Sun</td><td>Dinner</td><td>2</td></tr><tr><td>14.48</td><td>2.0</td><td>Male</td><td>Yes</td><td>Sun</td><td>Dinner</td><td>2</td></tr><tr><td>9.6</td><td>4.0</td><td>Female</td><td>Yes</td><td>Sun</td><td>Dinner</td><td>2</td></tr><tr><td>34.63</td><td>3.55</td><td>Male</td><td>Yes</td><td>Sun</td><td>Dinner</td><td>2</td></tr><tr><td>34.65</td><td>3.68</td><td>Male</td><td>Yes</td><td>Sun</td><td>Dinner</td><td>4</td></tr><tr><td>23.33</td><td>5.65</td><td>Male</td><td>Yes</td><td>Sun</td><td>Dinner</td><td>2</td></tr><tr><td>45.35</td><td>3.5</td><td>Male</td><td>Yes</td><td>Sun</td><td>Dinner</td><td>3</td></tr><tr><td>23.17</td><td>6.5</td><td>Male</td><td>Yes</td><td>Sun</td><td>Dinner</td><td>4</td></tr><tr><td>40.55</td><td>3.0</td><td>Male</td><td>Yes</td><td>Sun</td><td>Dinner</td><td>2</td></tr><tr><td>20.69</td><td>5.0</td><td>Male</td><td>No</td><td>Sun</td><td>Dinner</td><td>5</td></tr><tr><td>20.9</td><td>3.5</td><td>Female</td><td>Yes</td><td>Sun</td><td>Dinner</td><td>3</td></tr><tr><td>30.46</td><td>2.0</td><td>Male</td><td>Yes</td><td>Sun</td><td>Dinner</td><td>5</td></tr><tr><td>18.15</td><td>3.5</td><td>Female</td><td>Yes</td><td>Sun</td><td>Dinner</td><td>3</td></tr><tr><td>23.1</td><td>4.0</td><td>Male</td><td>Yes</td><td>Sun</td><td>Dinner</td><td>3</td></tr><tr><td>15.69</td><td>1.5</td><td>Male</td><td>Yes</td><td>Sun</td><td>Dinner</td><td>2</td></tr><tr><td>19.81</td><td>4.19</td><td>Female</td><td>Yes</td><td>Thur</td><td>Lunch</td><td>2</td></tr><tr><td>28.44</td><td>2.56</td><td>Male</td><td>Yes</td><td>Thur</td><td>Lunch</td><td>2</td></tr><tr><td>15.48</td><td>2.02</td><td>Male</td><td>Yes</td><td>Thur</td><td>Lunch</td><td>2</td></tr><tr><td>16.58</td><td>4.0</td><td>Male</td><td>Yes</td><td>Thur</td><td>Lunch</td><td>2</td></tr><tr><td>7.56</td><td>1.44</td><td>Male</td><td>No</td><td>Thur</td><td>Lunch</td><td>2</td></tr><tr><td>10.34</td><td>2.0</td><td>Male</td><td>Yes</td><td>Thur</td><td>Lunch</td><td>2</td></tr><tr><td>43.11</td><td>5.0</td><td>Female</td><td>Yes</td><td>Thur</td><td>Lunch</td><td>4</td></tr><tr><td>13.0</td><td>2.0</td><td>Female</td><td>Yes</td><td>Thur</td><td>Lunch</td><td>2</td></tr><tr><td>13.51</td><td>2.0</td><td>Male</td><td>Yes</td><td>Thur</td><td>Lunch</td><td>2</td></tr><tr><td>18.71</td><td>4.0</td><td>Male</td><td>Yes</td><td>Thur</td><td>Lunch</td><td>3</td></tr><tr><td>12.74</td><td>2.01</td><td>Female</td><td>Yes</td><td>Thur</td><td>Lunch</td><td>2</td></tr><tr><td>13.0</td><td>2.0</td><td>Female</td><td>Yes</td><td>Thur</td><td>Lunch</td><td>2</td></tr><tr><td>16.4</td><td>2.5</td><td>Female</td><td>Yes</td><td>Thur</td><td>Lunch</td><td>2</td></tr><tr><td>20.53</td><td>4.0</td><td>Male</td><td>Yes</td><td>Thur</td><td>Lunch</td><td>4</td></tr><tr><td>16.47</td><td>3.23</td><td>Female</td><td>Yes</td><td>Thur</td><td>Lunch</td><td>3</td></tr><tr><td>26.59</td><td>3.41</td><td>Male</td><td>Yes</td><td>Sat</td><td>Dinner</td><td>3</td></tr><tr><td>38.73</td><td>3.0</td><td>Male</td><td>Yes</td><td>Sat</td><td>Dinner</td><td>4</td></tr><tr><td>24.27</td><td>2.03</td><td>Male</td><td>Yes</td><td>Sat</td><td>Dinner</td><td>2</td></tr><tr><td>12.76</td><td>2.23</td><td>Female</td><td>Yes</td><td>Sat</td><td>Dinner</td><td>2</td></tr><tr><td>30.06</td><td>2.0</td><td>Male</td><td>Yes</td><td>Sat</td><td>Dinner</td><td>3</td></tr><tr><td>25.89</td><td>5.16</td><td>Male</td><td>Yes</td><td>Sat</td><td>Dinner</td><td>4</td></tr><tr><td>48.33</td><td>9.0</td><td>Male</td><td>No</td><td>Sat</td><td>Dinner</td><td>4</td></tr><tr><td>13.27</td><td>2.5</td><td>Female</td><td>Yes</td><td>Sat</td><td>Dinner</td><td>2</td></tr><tr><td>28.17</td><td>6.5</td><td>Female</td><td>Yes</td><td>Sat</td><td>Dinner</td><td>3</td></tr><tr><td>12.9</td><td>1.1</td><td>Female</td><td>Yes</td><td>Sat</td><td>Dinner</td><td>2</td></tr><tr><td>28.15</td><td>3.0</td><td>Male</td><td>Yes</td><td>Sat</td><td>Dinner</td><td>5</td></tr><tr><td>11.59</td><td>1.5</td><td>Male</td><td>Yes</td><td>Sat</td><td>Dinner</td><td>2</td></tr><tr><td>7.74</td><td>1.44</td><td>Male</td><td>Yes</td><td>Sat</td><td>Dinner</td><td>2</td></tr><tr><td>30.14</td><td>3.09</td><td>Female</td><td>Yes</td><td>Sat</td><td>Dinner</td><td>4</td></tr><tr><td>12.16</td><td>2.2</td><td>Male</td><td>Yes</td><td>Fri</td><td>Lunch</td><td>2</td></tr><tr><td>13.42</td><td>3.48</td><td>Female</td><td>Yes</td><td>Fri</td><td>Lunch</td><td>2</td></tr><tr><td>8.58</td><td>1.92</td><td>Male</td><td>Yes</td><td>Fri</td><td>Lunch</td><td>1</td></tr><tr><td>15.98</td><td>3.0</td><td>Female</td><td>No</td><td>Fri</td><td>Lunch</td><td>3</td></tr><tr><td>13.42</td><td>1.58</td><td>Male</td><td>Yes</td><td>Fri</td><td>Lunch</td><td>2</td></tr><tr><td>16.27</td><td>2.5</td><td>Female</td><td>Yes</td><td>Fri</td><td>Lunch</td><td>2</td></tr><tr><td>10.09</td><td>2.0</td><td>Female</td><td>Yes</td><td>Fri</td><td>Lunch</td><td>2</td></tr><tr><td>20.45</td><td>3.0</td><td>Male</td><td>No</td><td>Sat</td><td>Dinner</td><td>4</td></tr><tr><td>13.28</td><td>2.72</td><td>Male</td><td>No</td><td>Sat</td><td>Dinner</td><td>2</td></tr><tr><td>22.12</td><td>2.88</td><td>Female</td><td>Yes</td><td>Sat</td><td>Dinner</td><td>2</td></tr><tr><td>24.01</td><td>2.0</td><td>Male</td><td>Yes</td><td>Sat</td><td>Dinner</td><td>4</td></tr><tr><td>15.69</td><td>3.0</td><td>Male</td><td>Yes</td><td>Sat</td><td>Dinner</td><td>3</td></tr><tr><td>11.61</td><td>3.39</td><td>Male</td><td>No</td><td>Sat</td><td>Dinner</td><td>2</td></tr><tr><td>10.77</td><td>1.47</td><td>Male</td><td>No</td><td>Sat</td><td>Dinner</td><td>2</td></tr><tr><td>15.53</td><td>3.0</td><td>Male</td><td>Yes</td><td>Sat</td><td>Dinner</td><td>2</td></tr><tr><td>10.07</td><td>1.25</td><td>Male</td><td>No</td><td>Sat</td><td>Dinner</td><td>2</td></tr><tr><td>12.6</td><td>1.0</td><td>Male</td><td>Yes</td><td>Sat</td><td>Dinner</td><td>2</td></tr><tr><td>32.83</td><td>1.17</td><td>Male</td><td>Yes</td><td>Sat</td><td>Dinner</td><td>2</td></tr><tr><td>35.83</td><td>4.67</td><td>Female</td><td>No</td><td>Sat</td><td>Dinner</td><td>3</td></tr><tr><td>29.03</td><td>5.92</td><td>Male</td><td>No</td><td>Sat</td><td>Dinner</td><td>3</td></tr><tr><td>27.18</td><td>2.0</td><td>Female</td><td>Yes</td><td>Sat</td><td>Dinner</td><td>2</td></tr><tr><td>22.67</td><td>2.0</td><td>Male</td><td>Yes</td><td>Sat</td><td>Dinner</td><td>2</td></tr><tr><td>17.82</td><td>1.75</td><td>Male</td><td>No</td><td>Sat</td><td>Dinner</td><td>2</td></tr><tr><td>18.78</td><td>3.0</td><td>Female</td><td>No</td><td>Thur</td><td>Dinner</td><td>2</td></tr></tbody></table></div>"
            ]
          }
        }
      ],
      "execution_count": null
    },
    {
      "cell_type": "code",
      "source": [
        "df.printSchema()"
      ],
      "metadata": {
        "application/vnd.databricks.v1+cell": {
          "showTitle": false,
          "cellMetadata": {
            "rowLimit": 10000,
            "byteLimit": 2048000
          },
          "nuid": "bd82bb99-1479-4d5c-be10-8c36df0f1d44",
          "inputWidgets": {},
          "title": ""
        },
        "id": "3nHFPatB0NGS",
        "outputId": "4d2f0795-8735-4f7b-e24f-e1de8f75e369"
      },
      "outputs": [
        {
          "output_type": "stream",
          "name": "stdout",
          "text": [
            "root\n |-- total_bill: double (nullable = true)\n |-- tip: double (nullable = true)\n |-- sex: string (nullable = true)\n |-- smoker: string (nullable = true)\n |-- day: string (nullable = true)\n |-- time: string (nullable = true)\n |-- size: integer (nullable = true)\n\n"
          ]
        }
      ],
      "execution_count": null
    },
    {
      "cell_type": "code",
      "source": [
        "df.columns"
      ],
      "metadata": {
        "application/vnd.databricks.v1+cell": {
          "showTitle": false,
          "cellMetadata": {
            "rowLimit": 10000,
            "byteLimit": 2048000
          },
          "nuid": "b5f66379-6f7f-42ec-8e82-d0e0926a1721",
          "inputWidgets": {},
          "title": ""
        },
        "id": "tRtvFpcn0NGS",
        "outputId": "3ba0f2a9-ca67-46d5-941a-a9de8981003c"
      },
      "outputs": [
        {
          "output_type": "stream",
          "name": "stdout",
          "text": [
            "Out[14]: ['total_bill', 'tip', 'sex', 'smoker', 'day', 'time', 'size']"
          ]
        }
      ],
      "execution_count": null
    },
    {
      "cell_type": "code",
      "source": [
        "from pyspark.ml.feature import StringIndexer\n",
        "indexer = StringIndexer(inputCol=\"sex\",outputCol=\"sex_indexed\")\n",
        "df_preprocessed = indexer.fit(df).transform(df)\n",
        "df_preprocessed.show()"
      ],
      "metadata": {
        "application/vnd.databricks.v1+cell": {
          "showTitle": false,
          "cellMetadata": {
            "rowLimit": 10000,
            "byteLimit": 2048000
          },
          "nuid": "db9631f6-bb4a-42ca-8a3c-0d48af932331",
          "inputWidgets": {},
          "title": ""
        },
        "id": "ntBiVOHZ0NGT",
        "outputId": "1f844c6b-edc9-48df-d5d0-c9c4e816511f"
      },
      "outputs": [
        {
          "output_type": "stream",
          "name": "stdout",
          "text": [
            "+----------+----+------+------+---+------+----+-----------+\n|total_bill| tip|   sex|smoker|day|  time|size|sex_indexed|\n+----------+----+------+------+---+------+----+-----------+\n|     16.99|1.01|Female|    No|Sun|Dinner|   2|        1.0|\n|     10.34|1.66|  Male|    No|Sun|Dinner|   3|        0.0|\n|     21.01| 3.5|  Male|    No|Sun|Dinner|   3|        0.0|\n|     23.68|3.31|  Male|    No|Sun|Dinner|   2|        0.0|\n|     24.59|3.61|Female|    No|Sun|Dinner|   4|        1.0|\n|     25.29|4.71|  Male|    No|Sun|Dinner|   4|        0.0|\n|      8.77| 2.0|  Male|    No|Sun|Dinner|   2|        0.0|\n|     26.88|3.12|  Male|    No|Sun|Dinner|   4|        0.0|\n|     15.04|1.96|  Male|    No|Sun|Dinner|   2|        0.0|\n|     14.78|3.23|  Male|    No|Sun|Dinner|   2|        0.0|\n|     10.27|1.71|  Male|    No|Sun|Dinner|   2|        0.0|\n|     35.26| 5.0|Female|    No|Sun|Dinner|   4|        1.0|\n|     15.42|1.57|  Male|    No|Sun|Dinner|   2|        0.0|\n|     18.43| 3.0|  Male|    No|Sun|Dinner|   4|        0.0|\n|     14.83|3.02|Female|    No|Sun|Dinner|   2|        1.0|\n|     21.58|3.92|  Male|    No|Sun|Dinner|   2|        0.0|\n|     10.33|1.67|Female|    No|Sun|Dinner|   3|        1.0|\n|     16.29|3.71|  Male|    No|Sun|Dinner|   3|        0.0|\n|     16.97| 3.5|Female|    No|Sun|Dinner|   3|        1.0|\n|     20.65|3.35|  Male|    No|Sat|Dinner|   3|        0.0|\n+----------+----+------+------+---+------+----+-----------+\nonly showing top 20 rows\n\n"
          ]
        }
      ],
      "execution_count": null
    },
    {
      "cell_type": "code",
      "source": [
        "df_preprocessed = df_preprocessed.drop(\"sex\")\n",
        "display(df_preprocessed)"
      ],
      "metadata": {
        "application/vnd.databricks.v1+cell": {
          "showTitle": false,
          "cellMetadata": {
            "rowLimit": 10000,
            "byteLimit": 2048000
          },
          "nuid": "1ca3acff-c661-49c2-a358-38e5e7d838a6",
          "inputWidgets": {},
          "title": ""
        },
        "id": "_7igPu050NGT",
        "outputId": "dd46ee70-c7eb-4f10-87d7-bd1d233cbed0"
      },
      "outputs": [
        {
          "output_type": "display_data",
          "metadata": {
            "application/vnd.databricks.v1+output": {
              "overflow": false,
              "datasetInfos": [],
              "data": [
                [
                  16.99,
                  1.01,
                  "No",
                  "Sun",
                  "Dinner",
                  2,
                  1
                ],
                [
                  10.34,
                  1.66,
                  "No",
                  "Sun",
                  "Dinner",
                  3,
                  0
                ],
                [
                  21.01,
                  3.5,
                  "No",
                  "Sun",
                  "Dinner",
                  3,
                  0
                ],
                [
                  23.68,
                  3.31,
                  "No",
                  "Sun",
                  "Dinner",
                  2,
                  0
                ],
                [
                  24.59,
                  3.61,
                  "No",
                  "Sun",
                  "Dinner",
                  4,
                  1
                ],
                [
                  25.29,
                  4.71,
                  "No",
                  "Sun",
                  "Dinner",
                  4,
                  0
                ],
                [
                  8.77,
                  2,
                  "No",
                  "Sun",
                  "Dinner",
                  2,
                  0
                ],
                [
                  26.88,
                  3.12,
                  "No",
                  "Sun",
                  "Dinner",
                  4,
                  0
                ],
                [
                  15.04,
                  1.96,
                  "No",
                  "Sun",
                  "Dinner",
                  2,
                  0
                ],
                [
                  14.78,
                  3.23,
                  "No",
                  "Sun",
                  "Dinner",
                  2,
                  0
                ],
                [
                  10.27,
                  1.71,
                  "No",
                  "Sun",
                  "Dinner",
                  2,
                  0
                ],
                [
                  35.26,
                  5,
                  "No",
                  "Sun",
                  "Dinner",
                  4,
                  1
                ],
                [
                  15.42,
                  1.57,
                  "No",
                  "Sun",
                  "Dinner",
                  2,
                  0
                ],
                [
                  18.43,
                  3,
                  "No",
                  "Sun",
                  "Dinner",
                  4,
                  0
                ],
                [
                  14.83,
                  3.02,
                  "No",
                  "Sun",
                  "Dinner",
                  2,
                  1
                ],
                [
                  21.58,
                  3.92,
                  "No",
                  "Sun",
                  "Dinner",
                  2,
                  0
                ],
                [
                  10.33,
                  1.67,
                  "No",
                  "Sun",
                  "Dinner",
                  3,
                  1
                ],
                [
                  16.29,
                  3.71,
                  "No",
                  "Sun",
                  "Dinner",
                  3,
                  0
                ],
                [
                  16.97,
                  3.5,
                  "No",
                  "Sun",
                  "Dinner",
                  3,
                  1
                ],
                [
                  20.65,
                  3.35,
                  "No",
                  "Sat",
                  "Dinner",
                  3,
                  0
                ],
                [
                  17.92,
                  4.08,
                  "No",
                  "Sat",
                  "Dinner",
                  2,
                  0
                ],
                [
                  20.29,
                  2.75,
                  "No",
                  "Sat",
                  "Dinner",
                  2,
                  1
                ],
                [
                  15.77,
                  2.23,
                  "No",
                  "Sat",
                  "Dinner",
                  2,
                  1
                ],
                [
                  39.42,
                  7.58,
                  "No",
                  "Sat",
                  "Dinner",
                  4,
                  0
                ],
                [
                  19.82,
                  3.18,
                  "No",
                  "Sat",
                  "Dinner",
                  2,
                  0
                ],
                [
                  17.81,
                  2.34,
                  "No",
                  "Sat",
                  "Dinner",
                  4,
                  0
                ],
                [
                  13.37,
                  2,
                  "No",
                  "Sat",
                  "Dinner",
                  2,
                  0
                ],
                [
                  12.69,
                  2,
                  "No",
                  "Sat",
                  "Dinner",
                  2,
                  0
                ],
                [
                  21.7,
                  4.3,
                  "No",
                  "Sat",
                  "Dinner",
                  2,
                  0
                ],
                [
                  19.65,
                  3,
                  "No",
                  "Sat",
                  "Dinner",
                  2,
                  1
                ],
                [
                  9.55,
                  1.45,
                  "No",
                  "Sat",
                  "Dinner",
                  2,
                  0
                ],
                [
                  18.35,
                  2.5,
                  "No",
                  "Sat",
                  "Dinner",
                  4,
                  0
                ],
                [
                  15.06,
                  3,
                  "No",
                  "Sat",
                  "Dinner",
                  2,
                  1
                ],
                [
                  20.69,
                  2.45,
                  "No",
                  "Sat",
                  "Dinner",
                  4,
                  1
                ],
                [
                  17.78,
                  3.27,
                  "No",
                  "Sat",
                  "Dinner",
                  2,
                  0
                ],
                [
                  24.06,
                  3.6,
                  "No",
                  "Sat",
                  "Dinner",
                  3,
                  0
                ],
                [
                  16.31,
                  2,
                  "No",
                  "Sat",
                  "Dinner",
                  3,
                  0
                ],
                [
                  16.93,
                  3.07,
                  "No",
                  "Sat",
                  "Dinner",
                  3,
                  1
                ],
                [
                  18.69,
                  2.31,
                  "No",
                  "Sat",
                  "Dinner",
                  3,
                  0
                ],
                [
                  31.27,
                  5,
                  "No",
                  "Sat",
                  "Dinner",
                  3,
                  0
                ],
                [
                  16.04,
                  2.24,
                  "No",
                  "Sat",
                  "Dinner",
                  3,
                  0
                ],
                [
                  17.46,
                  2.54,
                  "No",
                  "Sun",
                  "Dinner",
                  2,
                  0
                ],
                [
                  13.94,
                  3.06,
                  "No",
                  "Sun",
                  "Dinner",
                  2,
                  0
                ],
                [
                  9.68,
                  1.32,
                  "No",
                  "Sun",
                  "Dinner",
                  2,
                  0
                ],
                [
                  30.4,
                  5.6,
                  "No",
                  "Sun",
                  "Dinner",
                  4,
                  0
                ],
                [
                  18.29,
                  3,
                  "No",
                  "Sun",
                  "Dinner",
                  2,
                  0
                ],
                [
                  22.23,
                  5,
                  "No",
                  "Sun",
                  "Dinner",
                  2,
                  0
                ],
                [
                  32.4,
                  6,
                  "No",
                  "Sun",
                  "Dinner",
                  4,
                  0
                ],
                [
                  28.55,
                  2.05,
                  "No",
                  "Sun",
                  "Dinner",
                  3,
                  0
                ],
                [
                  18.04,
                  3,
                  "No",
                  "Sun",
                  "Dinner",
                  2,
                  0
                ],
                [
                  12.54,
                  2.5,
                  "No",
                  "Sun",
                  "Dinner",
                  2,
                  0
                ],
                [
                  10.29,
                  2.6,
                  "No",
                  "Sun",
                  "Dinner",
                  2,
                  1
                ],
                [
                  34.81,
                  5.2,
                  "No",
                  "Sun",
                  "Dinner",
                  4,
                  1
                ],
                [
                  9.94,
                  1.56,
                  "No",
                  "Sun",
                  "Dinner",
                  2,
                  0
                ],
                [
                  25.56,
                  4.34,
                  "No",
                  "Sun",
                  "Dinner",
                  4,
                  0
                ],
                [
                  19.49,
                  3.51,
                  "No",
                  "Sun",
                  "Dinner",
                  2,
                  0
                ],
                [
                  38.01,
                  3,
                  "Yes",
                  "Sat",
                  "Dinner",
                  4,
                  0
                ],
                [
                  26.41,
                  1.5,
                  "No",
                  "Sat",
                  "Dinner",
                  2,
                  1
                ],
                [
                  11.24,
                  1.76,
                  "Yes",
                  "Sat",
                  "Dinner",
                  2,
                  0
                ],
                [
                  48.27,
                  6.73,
                  "No",
                  "Sat",
                  "Dinner",
                  4,
                  0
                ],
                [
                  20.29,
                  3.21,
                  "Yes",
                  "Sat",
                  "Dinner",
                  2,
                  0
                ],
                [
                  13.81,
                  2,
                  "Yes",
                  "Sat",
                  "Dinner",
                  2,
                  0
                ],
                [
                  11.02,
                  1.98,
                  "Yes",
                  "Sat",
                  "Dinner",
                  2,
                  0
                ],
                [
                  18.29,
                  3.76,
                  "Yes",
                  "Sat",
                  "Dinner",
                  4,
                  0
                ],
                [
                  17.59,
                  2.64,
                  "No",
                  "Sat",
                  "Dinner",
                  3,
                  0
                ],
                [
                  20.08,
                  3.15,
                  "No",
                  "Sat",
                  "Dinner",
                  3,
                  0
                ],
                [
                  16.45,
                  2.47,
                  "No",
                  "Sat",
                  "Dinner",
                  2,
                  1
                ],
                [
                  3.07,
                  1,
                  "Yes",
                  "Sat",
                  "Dinner",
                  1,
                  1
                ],
                [
                  20.23,
                  2.01,
                  "No",
                  "Sat",
                  "Dinner",
                  2,
                  0
                ],
                [
                  15.01,
                  2.09,
                  "Yes",
                  "Sat",
                  "Dinner",
                  2,
                  0
                ],
                [
                  12.02,
                  1.97,
                  "No",
                  "Sat",
                  "Dinner",
                  2,
                  0
                ],
                [
                  17.07,
                  3,
                  "No",
                  "Sat",
                  "Dinner",
                  3,
                  1
                ],
                [
                  26.86,
                  3.14,
                  "Yes",
                  "Sat",
                  "Dinner",
                  2,
                  1
                ],
                [
                  25.28,
                  5,
                  "Yes",
                  "Sat",
                  "Dinner",
                  2,
                  1
                ],
                [
                  14.73,
                  2.2,
                  "No",
                  "Sat",
                  "Dinner",
                  2,
                  1
                ],
                [
                  10.51,
                  1.25,
                  "No",
                  "Sat",
                  "Dinner",
                  2,
                  0
                ],
                [
                  17.92,
                  3.08,
                  "Yes",
                  "Sat",
                  "Dinner",
                  2,
                  0
                ],
                [
                  27.2,
                  4,
                  "No",
                  "Thur",
                  "Lunch",
                  4,
                  0
                ],
                [
                  22.76,
                  3,
                  "No",
                  "Thur",
                  "Lunch",
                  2,
                  0
                ],
                [
                  17.29,
                  2.71,
                  "No",
                  "Thur",
                  "Lunch",
                  2,
                  0
                ],
                [
                  19.44,
                  3,
                  "Yes",
                  "Thur",
                  "Lunch",
                  2,
                  0
                ],
                [
                  16.66,
                  3.4,
                  "No",
                  "Thur",
                  "Lunch",
                  2,
                  0
                ],
                [
                  10.07,
                  1.83,
                  "No",
                  "Thur",
                  "Lunch",
                  1,
                  1
                ],
                [
                  32.68,
                  5,
                  "Yes",
                  "Thur",
                  "Lunch",
                  2,
                  0
                ],
                [
                  15.98,
                  2.03,
                  "No",
                  "Thur",
                  "Lunch",
                  2,
                  0
                ],
                [
                  34.83,
                  5.17,
                  "No",
                  "Thur",
                  "Lunch",
                  4,
                  1
                ],
                [
                  13.03,
                  2,
                  "No",
                  "Thur",
                  "Lunch",
                  2,
                  0
                ],
                [
                  18.28,
                  4,
                  "No",
                  "Thur",
                  "Lunch",
                  2,
                  0
                ],
                [
                  24.71,
                  5.85,
                  "No",
                  "Thur",
                  "Lunch",
                  2,
                  0
                ],
                [
                  21.16,
                  3,
                  "No",
                  "Thur",
                  "Lunch",
                  2,
                  0
                ],
                [
                  28.97,
                  3,
                  "Yes",
                  "Fri",
                  "Dinner",
                  2,
                  0
                ],
                [
                  22.49,
                  3.5,
                  "No",
                  "Fri",
                  "Dinner",
                  2,
                  0
                ],
                [
                  5.75,
                  1,
                  "Yes",
                  "Fri",
                  "Dinner",
                  2,
                  1
                ],
                [
                  16.32,
                  4.3,
                  "Yes",
                  "Fri",
                  "Dinner",
                  2,
                  1
                ],
                [
                  22.75,
                  3.25,
                  "No",
                  "Fri",
                  "Dinner",
                  2,
                  1
                ],
                [
                  40.17,
                  4.73,
                  "Yes",
                  "Fri",
                  "Dinner",
                  4,
                  0
                ],
                [
                  27.28,
                  4,
                  "Yes",
                  "Fri",
                  "Dinner",
                  2,
                  0
                ],
                [
                  12.03,
                  1.5,
                  "Yes",
                  "Fri",
                  "Dinner",
                  2,
                  0
                ],
                [
                  21.01,
                  3,
                  "Yes",
                  "Fri",
                  "Dinner",
                  2,
                  0
                ],
                [
                  12.46,
                  1.5,
                  "No",
                  "Fri",
                  "Dinner",
                  2,
                  0
                ],
                [
                  11.35,
                  2.5,
                  "Yes",
                  "Fri",
                  "Dinner",
                  2,
                  1
                ],
                [
                  15.38,
                  3,
                  "Yes",
                  "Fri",
                  "Dinner",
                  2,
                  1
                ],
                [
                  44.3,
                  2.5,
                  "Yes",
                  "Sat",
                  "Dinner",
                  3,
                  1
                ],
                [
                  22.42,
                  3.48,
                  "Yes",
                  "Sat",
                  "Dinner",
                  2,
                  1
                ],
                [
                  20.92,
                  4.08,
                  "No",
                  "Sat",
                  "Dinner",
                  2,
                  1
                ],
                [
                  15.36,
                  1.64,
                  "Yes",
                  "Sat",
                  "Dinner",
                  2,
                  0
                ],
                [
                  20.49,
                  4.06,
                  "Yes",
                  "Sat",
                  "Dinner",
                  2,
                  0
                ],
                [
                  25.21,
                  4.29,
                  "Yes",
                  "Sat",
                  "Dinner",
                  2,
                  0
                ],
                [
                  18.24,
                  3.76,
                  "No",
                  "Sat",
                  "Dinner",
                  2,
                  0
                ],
                [
                  14.31,
                  4,
                  "Yes",
                  "Sat",
                  "Dinner",
                  2,
                  1
                ],
                [
                  14,
                  3,
                  "No",
                  "Sat",
                  "Dinner",
                  2,
                  0
                ],
                [
                  7.25,
                  1,
                  "No",
                  "Sat",
                  "Dinner",
                  1,
                  1
                ],
                [
                  38.07,
                  4,
                  "No",
                  "Sun",
                  "Dinner",
                  3,
                  0
                ],
                [
                  23.95,
                  2.55,
                  "No",
                  "Sun",
                  "Dinner",
                  2,
                  0
                ],
                [
                  25.71,
                  4,
                  "No",
                  "Sun",
                  "Dinner",
                  3,
                  1
                ],
                [
                  17.31,
                  3.5,
                  "No",
                  "Sun",
                  "Dinner",
                  2,
                  1
                ],
                [
                  29.93,
                  5.07,
                  "No",
                  "Sun",
                  "Dinner",
                  4,
                  0
                ],
                [
                  10.65,
                  1.5,
                  "No",
                  "Thur",
                  "Lunch",
                  2,
                  1
                ],
                [
                  12.43,
                  1.8,
                  "No",
                  "Thur",
                  "Lunch",
                  2,
                  1
                ],
                [
                  24.08,
                  2.92,
                  "No",
                  "Thur",
                  "Lunch",
                  4,
                  1
                ],
                [
                  11.69,
                  2.31,
                  "No",
                  "Thur",
                  "Lunch",
                  2,
                  0
                ],
                [
                  13.42,
                  1.68,
                  "No",
                  "Thur",
                  "Lunch",
                  2,
                  1
                ],
                [
                  14.26,
                  2.5,
                  "No",
                  "Thur",
                  "Lunch",
                  2,
                  0
                ],
                [
                  15.95,
                  2,
                  "No",
                  "Thur",
                  "Lunch",
                  2,
                  0
                ],
                [
                  12.48,
                  2.52,
                  "No",
                  "Thur",
                  "Lunch",
                  2,
                  1
                ],
                [
                  29.8,
                  4.2,
                  "No",
                  "Thur",
                  "Lunch",
                  6,
                  1
                ],
                [
                  8.52,
                  1.48,
                  "No",
                  "Thur",
                  "Lunch",
                  2,
                  0
                ],
                [
                  14.52,
                  2,
                  "No",
                  "Thur",
                  "Lunch",
                  2,
                  1
                ],
                [
                  11.38,
                  2,
                  "No",
                  "Thur",
                  "Lunch",
                  2,
                  1
                ],
                [
                  22.82,
                  2.18,
                  "No",
                  "Thur",
                  "Lunch",
                  3,
                  0
                ],
                [
                  19.08,
                  1.5,
                  "No",
                  "Thur",
                  "Lunch",
                  2,
                  0
                ],
                [
                  20.27,
                  2.83,
                  "No",
                  "Thur",
                  "Lunch",
                  2,
                  1
                ],
                [
                  11.17,
                  1.5,
                  "No",
                  "Thur",
                  "Lunch",
                  2,
                  1
                ],
                [
                  12.26,
                  2,
                  "No",
                  "Thur",
                  "Lunch",
                  2,
                  1
                ],
                [
                  18.26,
                  3.25,
                  "No",
                  "Thur",
                  "Lunch",
                  2,
                  1
                ],
                [
                  8.51,
                  1.25,
                  "No",
                  "Thur",
                  "Lunch",
                  2,
                  1
                ],
                [
                  10.33,
                  2,
                  "No",
                  "Thur",
                  "Lunch",
                  2,
                  1
                ],
                [
                  14.15,
                  2,
                  "No",
                  "Thur",
                  "Lunch",
                  2,
                  1
                ],
                [
                  16,
                  2,
                  "Yes",
                  "Thur",
                  "Lunch",
                  2,
                  0
                ],
                [
                  13.16,
                  2.75,
                  "No",
                  "Thur",
                  "Lunch",
                  2,
                  1
                ],
                [
                  17.47,
                  3.5,
                  "No",
                  "Thur",
                  "Lunch",
                  2,
                  1
                ],
                [
                  34.3,
                  6.7,
                  "No",
                  "Thur",
                  "Lunch",
                  6,
                  0
                ],
                [
                  41.19,
                  5,
                  "No",
                  "Thur",
                  "Lunch",
                  5,
                  0
                ],
                [
                  27.05,
                  5,
                  "No",
                  "Thur",
                  "Lunch",
                  6,
                  1
                ],
                [
                  16.43,
                  2.3,
                  "No",
                  "Thur",
                  "Lunch",
                  2,
                  1
                ],
                [
                  8.35,
                  1.5,
                  "No",
                  "Thur",
                  "Lunch",
                  2,
                  1
                ],
                [
                  18.64,
                  1.36,
                  "No",
                  "Thur",
                  "Lunch",
                  3,
                  1
                ],
                [
                  11.87,
                  1.63,
                  "No",
                  "Thur",
                  "Lunch",
                  2,
                  1
                ],
                [
                  9.78,
                  1.73,
                  "No",
                  "Thur",
                  "Lunch",
                  2,
                  0
                ],
                [
                  7.51,
                  2,
                  "No",
                  "Thur",
                  "Lunch",
                  2,
                  0
                ],
                [
                  14.07,
                  2.5,
                  "No",
                  "Sun",
                  "Dinner",
                  2,
                  0
                ],
                [
                  13.13,
                  2,
                  "No",
                  "Sun",
                  "Dinner",
                  2,
                  0
                ],
                [
                  17.26,
                  2.74,
                  "No",
                  "Sun",
                  "Dinner",
                  3,
                  0
                ],
                [
                  24.55,
                  2,
                  "No",
                  "Sun",
                  "Dinner",
                  4,
                  0
                ],
                [
                  19.77,
                  2,
                  "No",
                  "Sun",
                  "Dinner",
                  4,
                  0
                ],
                [
                  29.85,
                  5.14,
                  "No",
                  "Sun",
                  "Dinner",
                  5,
                  1
                ],
                [
                  48.17,
                  5,
                  "No",
                  "Sun",
                  "Dinner",
                  6,
                  0
                ],
                [
                  25,
                  3.75,
                  "No",
                  "Sun",
                  "Dinner",
                  4,
                  1
                ],
                [
                  13.39,
                  2.61,
                  "No",
                  "Sun",
                  "Dinner",
                  2,
                  1
                ],
                [
                  16.49,
                  2,
                  "No",
                  "Sun",
                  "Dinner",
                  4,
                  0
                ],
                [
                  21.5,
                  3.5,
                  "No",
                  "Sun",
                  "Dinner",
                  4,
                  0
                ],
                [
                  12.66,
                  2.5,
                  "No",
                  "Sun",
                  "Dinner",
                  2,
                  0
                ],
                [
                  16.21,
                  2,
                  "No",
                  "Sun",
                  "Dinner",
                  3,
                  1
                ],
                [
                  13.81,
                  2,
                  "No",
                  "Sun",
                  "Dinner",
                  2,
                  0
                ],
                [
                  17.51,
                  3,
                  "Yes",
                  "Sun",
                  "Dinner",
                  2,
                  1
                ],
                [
                  24.52,
                  3.48,
                  "No",
                  "Sun",
                  "Dinner",
                  3,
                  0
                ],
                [
                  20.76,
                  2.24,
                  "No",
                  "Sun",
                  "Dinner",
                  2,
                  0
                ],
                [
                  31.71,
                  4.5,
                  "No",
                  "Sun",
                  "Dinner",
                  4,
                  0
                ],
                [
                  10.59,
                  1.61,
                  "Yes",
                  "Sat",
                  "Dinner",
                  2,
                  1
                ],
                [
                  10.63,
                  2,
                  "Yes",
                  "Sat",
                  "Dinner",
                  2,
                  1
                ],
                [
                  50.81,
                  10,
                  "Yes",
                  "Sat",
                  "Dinner",
                  3,
                  0
                ],
                [
                  15.81,
                  3.16,
                  "Yes",
                  "Sat",
                  "Dinner",
                  2,
                  0
                ],
                [
                  7.25,
                  5.15,
                  "Yes",
                  "Sun",
                  "Dinner",
                  2,
                  0
                ],
                [
                  31.85,
                  3.18,
                  "Yes",
                  "Sun",
                  "Dinner",
                  2,
                  0
                ],
                [
                  16.82,
                  4,
                  "Yes",
                  "Sun",
                  "Dinner",
                  2,
                  0
                ],
                [
                  32.9,
                  3.11,
                  "Yes",
                  "Sun",
                  "Dinner",
                  2,
                  0
                ],
                [
                  17.89,
                  2,
                  "Yes",
                  "Sun",
                  "Dinner",
                  2,
                  0
                ],
                [
                  14.48,
                  2,
                  "Yes",
                  "Sun",
                  "Dinner",
                  2,
                  0
                ],
                [
                  9.6,
                  4,
                  "Yes",
                  "Sun",
                  "Dinner",
                  2,
                  1
                ],
                [
                  34.63,
                  3.55,
                  "Yes",
                  "Sun",
                  "Dinner",
                  2,
                  0
                ],
                [
                  34.65,
                  3.68,
                  "Yes",
                  "Sun",
                  "Dinner",
                  4,
                  0
                ],
                [
                  23.33,
                  5.65,
                  "Yes",
                  "Sun",
                  "Dinner",
                  2,
                  0
                ],
                [
                  45.35,
                  3.5,
                  "Yes",
                  "Sun",
                  "Dinner",
                  3,
                  0
                ],
                [
                  23.17,
                  6.5,
                  "Yes",
                  "Sun",
                  "Dinner",
                  4,
                  0
                ],
                [
                  40.55,
                  3,
                  "Yes",
                  "Sun",
                  "Dinner",
                  2,
                  0
                ],
                [
                  20.69,
                  5,
                  "No",
                  "Sun",
                  "Dinner",
                  5,
                  0
                ],
                [
                  20.9,
                  3.5,
                  "Yes",
                  "Sun",
                  "Dinner",
                  3,
                  1
                ],
                [
                  30.46,
                  2,
                  "Yes",
                  "Sun",
                  "Dinner",
                  5,
                  0
                ],
                [
                  18.15,
                  3.5,
                  "Yes",
                  "Sun",
                  "Dinner",
                  3,
                  1
                ],
                [
                  23.1,
                  4,
                  "Yes",
                  "Sun",
                  "Dinner",
                  3,
                  0
                ],
                [
                  15.69,
                  1.5,
                  "Yes",
                  "Sun",
                  "Dinner",
                  2,
                  0
                ],
                [
                  19.81,
                  4.19,
                  "Yes",
                  "Thur",
                  "Lunch",
                  2,
                  1
                ],
                [
                  28.44,
                  2.56,
                  "Yes",
                  "Thur",
                  "Lunch",
                  2,
                  0
                ],
                [
                  15.48,
                  2.02,
                  "Yes",
                  "Thur",
                  "Lunch",
                  2,
                  0
                ],
                [
                  16.58,
                  4,
                  "Yes",
                  "Thur",
                  "Lunch",
                  2,
                  0
                ],
                [
                  7.56,
                  1.44,
                  "No",
                  "Thur",
                  "Lunch",
                  2,
                  0
                ],
                [
                  10.34,
                  2,
                  "Yes",
                  "Thur",
                  "Lunch",
                  2,
                  0
                ],
                [
                  43.11,
                  5,
                  "Yes",
                  "Thur",
                  "Lunch",
                  4,
                  1
                ],
                [
                  13,
                  2,
                  "Yes",
                  "Thur",
                  "Lunch",
                  2,
                  1
                ],
                [
                  13.51,
                  2,
                  "Yes",
                  "Thur",
                  "Lunch",
                  2,
                  0
                ],
                [
                  18.71,
                  4,
                  "Yes",
                  "Thur",
                  "Lunch",
                  3,
                  0
                ],
                [
                  12.74,
                  2.01,
                  "Yes",
                  "Thur",
                  "Lunch",
                  2,
                  1
                ],
                [
                  13,
                  2,
                  "Yes",
                  "Thur",
                  "Lunch",
                  2,
                  1
                ],
                [
                  16.4,
                  2.5,
                  "Yes",
                  "Thur",
                  "Lunch",
                  2,
                  1
                ],
                [
                  20.53,
                  4,
                  "Yes",
                  "Thur",
                  "Lunch",
                  4,
                  0
                ],
                [
                  16.47,
                  3.23,
                  "Yes",
                  "Thur",
                  "Lunch",
                  3,
                  1
                ],
                [
                  26.59,
                  3.41,
                  "Yes",
                  "Sat",
                  "Dinner",
                  3,
                  0
                ],
                [
                  38.73,
                  3,
                  "Yes",
                  "Sat",
                  "Dinner",
                  4,
                  0
                ],
                [
                  24.27,
                  2.03,
                  "Yes",
                  "Sat",
                  "Dinner",
                  2,
                  0
                ],
                [
                  12.76,
                  2.23,
                  "Yes",
                  "Sat",
                  "Dinner",
                  2,
                  1
                ],
                [
                  30.06,
                  2,
                  "Yes",
                  "Sat",
                  "Dinner",
                  3,
                  0
                ],
                [
                  25.89,
                  5.16,
                  "Yes",
                  "Sat",
                  "Dinner",
                  4,
                  0
                ],
                [
                  48.33,
                  9,
                  "No",
                  "Sat",
                  "Dinner",
                  4,
                  0
                ],
                [
                  13.27,
                  2.5,
                  "Yes",
                  "Sat",
                  "Dinner",
                  2,
                  1
                ],
                [
                  28.17,
                  6.5,
                  "Yes",
                  "Sat",
                  "Dinner",
                  3,
                  1
                ],
                [
                  12.9,
                  1.1,
                  "Yes",
                  "Sat",
                  "Dinner",
                  2,
                  1
                ],
                [
                  28.15,
                  3,
                  "Yes",
                  "Sat",
                  "Dinner",
                  5,
                  0
                ],
                [
                  11.59,
                  1.5,
                  "Yes",
                  "Sat",
                  "Dinner",
                  2,
                  0
                ],
                [
                  7.74,
                  1.44,
                  "Yes",
                  "Sat",
                  "Dinner",
                  2,
                  0
                ],
                [
                  30.14,
                  3.09,
                  "Yes",
                  "Sat",
                  "Dinner",
                  4,
                  1
                ],
                [
                  12.16,
                  2.2,
                  "Yes",
                  "Fri",
                  "Lunch",
                  2,
                  0
                ],
                [
                  13.42,
                  3.48,
                  "Yes",
                  "Fri",
                  "Lunch",
                  2,
                  1
                ],
                [
                  8.58,
                  1.92,
                  "Yes",
                  "Fri",
                  "Lunch",
                  1,
                  0
                ],
                [
                  15.98,
                  3,
                  "No",
                  "Fri",
                  "Lunch",
                  3,
                  1
                ],
                [
                  13.42,
                  1.58,
                  "Yes",
                  "Fri",
                  "Lunch",
                  2,
                  0
                ],
                [
                  16.27,
                  2.5,
                  "Yes",
                  "Fri",
                  "Lunch",
                  2,
                  1
                ],
                [
                  10.09,
                  2,
                  "Yes",
                  "Fri",
                  "Lunch",
                  2,
                  1
                ],
                [
                  20.45,
                  3,
                  "No",
                  "Sat",
                  "Dinner",
                  4,
                  0
                ],
                [
                  13.28,
                  2.72,
                  "No",
                  "Sat",
                  "Dinner",
                  2,
                  0
                ],
                [
                  22.12,
                  2.88,
                  "Yes",
                  "Sat",
                  "Dinner",
                  2,
                  1
                ],
                [
                  24.01,
                  2,
                  "Yes",
                  "Sat",
                  "Dinner",
                  4,
                  0
                ],
                [
                  15.69,
                  3,
                  "Yes",
                  "Sat",
                  "Dinner",
                  3,
                  0
                ],
                [
                  11.61,
                  3.39,
                  "No",
                  "Sat",
                  "Dinner",
                  2,
                  0
                ],
                [
                  10.77,
                  1.47,
                  "No",
                  "Sat",
                  "Dinner",
                  2,
                  0
                ],
                [
                  15.53,
                  3,
                  "Yes",
                  "Sat",
                  "Dinner",
                  2,
                  0
                ],
                [
                  10.07,
                  1.25,
                  "No",
                  "Sat",
                  "Dinner",
                  2,
                  0
                ],
                [
                  12.6,
                  1,
                  "Yes",
                  "Sat",
                  "Dinner",
                  2,
                  0
                ],
                [
                  32.83,
                  1.17,
                  "Yes",
                  "Sat",
                  "Dinner",
                  2,
                  0
                ],
                [
                  35.83,
                  4.67,
                  "No",
                  "Sat",
                  "Dinner",
                  3,
                  1
                ],
                [
                  29.03,
                  5.92,
                  "No",
                  "Sat",
                  "Dinner",
                  3,
                  0
                ],
                [
                  27.18,
                  2,
                  "Yes",
                  "Sat",
                  "Dinner",
                  2,
                  1
                ],
                [
                  22.67,
                  2,
                  "Yes",
                  "Sat",
                  "Dinner",
                  2,
                  0
                ],
                [
                  17.82,
                  1.75,
                  "No",
                  "Sat",
                  "Dinner",
                  2,
                  0
                ],
                [
                  18.78,
                  3,
                  "No",
                  "Thur",
                  "Dinner",
                  2,
                  1
                ]
              ],
              "plotOptions": {
                "displayType": "table",
                "customPlotOptions": {},
                "pivotColumns": null,
                "pivotAggregation": null,
                "xColumns": null,
                "yColumns": null
              },
              "columnCustomDisplayInfos": {},
              "aggType": "",
              "isJsonSchema": true,
              "removedWidgets": [],
              "aggSchema": [],
              "schema": [
                {
                  "name": "total_bill",
                  "type": "\"double\"",
                  "metadata": "{}"
                },
                {
                  "name": "tip",
                  "type": "\"double\"",
                  "metadata": "{}"
                },
                {
                  "name": "smoker",
                  "type": "\"string\"",
                  "metadata": "{}"
                },
                {
                  "name": "day",
                  "type": "\"string\"",
                  "metadata": "{}"
                },
                {
                  "name": "time",
                  "type": "\"string\"",
                  "metadata": "{}"
                },
                {
                  "name": "size",
                  "type": "\"integer\"",
                  "metadata": "{}"
                },
                {
                  "name": "sex_indexed",
                  "type": "\"double\"",
                  "metadata": "{\"ml_attr\":{\"vals\":[\"Male\",\"Female\"],\"type\":\"nominal\",\"name\":\"sex_indexed\"}}"
                }
              ],
              "aggError": "",
              "aggData": [],
              "addedWidgets": {},
              "metadata": {},
              "dbfsResultPath": null,
              "type": "table",
              "aggOverflow": false,
              "aggSeriesLimitReached": false,
              "arguments": {}
            }
          },
          "data": {
            "text/html": [
              "<style scoped>\n",
              "  .table-result-container {\n",
              "    max-height: 300px;\n",
              "    overflow: auto;\n",
              "  }\n",
              "  table, th, td {\n",
              "    border: 1px solid black;\n",
              "    border-collapse: collapse;\n",
              "  }\n",
              "  th, td {\n",
              "    padding: 5px;\n",
              "  }\n",
              "  th {\n",
              "    text-align: left;\n",
              "  }\n",
              "</style><div class='table-result-container'><table class='table-result'><thead style='background-color: white'><tr><th>total_bill</th><th>tip</th><th>smoker</th><th>day</th><th>time</th><th>size</th><th>sex_indexed</th></tr></thead><tbody><tr><td>16.99</td><td>1.01</td><td>No</td><td>Sun</td><td>Dinner</td><td>2</td><td>1.0</td></tr><tr><td>10.34</td><td>1.66</td><td>No</td><td>Sun</td><td>Dinner</td><td>3</td><td>0.0</td></tr><tr><td>21.01</td><td>3.5</td><td>No</td><td>Sun</td><td>Dinner</td><td>3</td><td>0.0</td></tr><tr><td>23.68</td><td>3.31</td><td>No</td><td>Sun</td><td>Dinner</td><td>2</td><td>0.0</td></tr><tr><td>24.59</td><td>3.61</td><td>No</td><td>Sun</td><td>Dinner</td><td>4</td><td>1.0</td></tr><tr><td>25.29</td><td>4.71</td><td>No</td><td>Sun</td><td>Dinner</td><td>4</td><td>0.0</td></tr><tr><td>8.77</td><td>2.0</td><td>No</td><td>Sun</td><td>Dinner</td><td>2</td><td>0.0</td></tr><tr><td>26.88</td><td>3.12</td><td>No</td><td>Sun</td><td>Dinner</td><td>4</td><td>0.0</td></tr><tr><td>15.04</td><td>1.96</td><td>No</td><td>Sun</td><td>Dinner</td><td>2</td><td>0.0</td></tr><tr><td>14.78</td><td>3.23</td><td>No</td><td>Sun</td><td>Dinner</td><td>2</td><td>0.0</td></tr><tr><td>10.27</td><td>1.71</td><td>No</td><td>Sun</td><td>Dinner</td><td>2</td><td>0.0</td></tr><tr><td>35.26</td><td>5.0</td><td>No</td><td>Sun</td><td>Dinner</td><td>4</td><td>1.0</td></tr><tr><td>15.42</td><td>1.57</td><td>No</td><td>Sun</td><td>Dinner</td><td>2</td><td>0.0</td></tr><tr><td>18.43</td><td>3.0</td><td>No</td><td>Sun</td><td>Dinner</td><td>4</td><td>0.0</td></tr><tr><td>14.83</td><td>3.02</td><td>No</td><td>Sun</td><td>Dinner</td><td>2</td><td>1.0</td></tr><tr><td>21.58</td><td>3.92</td><td>No</td><td>Sun</td><td>Dinner</td><td>2</td><td>0.0</td></tr><tr><td>10.33</td><td>1.67</td><td>No</td><td>Sun</td><td>Dinner</td><td>3</td><td>1.0</td></tr><tr><td>16.29</td><td>3.71</td><td>No</td><td>Sun</td><td>Dinner</td><td>3</td><td>0.0</td></tr><tr><td>16.97</td><td>3.5</td><td>No</td><td>Sun</td><td>Dinner</td><td>3</td><td>1.0</td></tr><tr><td>20.65</td><td>3.35</td><td>No</td><td>Sat</td><td>Dinner</td><td>3</td><td>0.0</td></tr><tr><td>17.92</td><td>4.08</td><td>No</td><td>Sat</td><td>Dinner</td><td>2</td><td>0.0</td></tr><tr><td>20.29</td><td>2.75</td><td>No</td><td>Sat</td><td>Dinner</td><td>2</td><td>1.0</td></tr><tr><td>15.77</td><td>2.23</td><td>No</td><td>Sat</td><td>Dinner</td><td>2</td><td>1.0</td></tr><tr><td>39.42</td><td>7.58</td><td>No</td><td>Sat</td><td>Dinner</td><td>4</td><td>0.0</td></tr><tr><td>19.82</td><td>3.18</td><td>No</td><td>Sat</td><td>Dinner</td><td>2</td><td>0.0</td></tr><tr><td>17.81</td><td>2.34</td><td>No</td><td>Sat</td><td>Dinner</td><td>4</td><td>0.0</td></tr><tr><td>13.37</td><td>2.0</td><td>No</td><td>Sat</td><td>Dinner</td><td>2</td><td>0.0</td></tr><tr><td>12.69</td><td>2.0</td><td>No</td><td>Sat</td><td>Dinner</td><td>2</td><td>0.0</td></tr><tr><td>21.7</td><td>4.3</td><td>No</td><td>Sat</td><td>Dinner</td><td>2</td><td>0.0</td></tr><tr><td>19.65</td><td>3.0</td><td>No</td><td>Sat</td><td>Dinner</td><td>2</td><td>1.0</td></tr><tr><td>9.55</td><td>1.45</td><td>No</td><td>Sat</td><td>Dinner</td><td>2</td><td>0.0</td></tr><tr><td>18.35</td><td>2.5</td><td>No</td><td>Sat</td><td>Dinner</td><td>4</td><td>0.0</td></tr><tr><td>15.06</td><td>3.0</td><td>No</td><td>Sat</td><td>Dinner</td><td>2</td><td>1.0</td></tr><tr><td>20.69</td><td>2.45</td><td>No</td><td>Sat</td><td>Dinner</td><td>4</td><td>1.0</td></tr><tr><td>17.78</td><td>3.27</td><td>No</td><td>Sat</td><td>Dinner</td><td>2</td><td>0.0</td></tr><tr><td>24.06</td><td>3.6</td><td>No</td><td>Sat</td><td>Dinner</td><td>3</td><td>0.0</td></tr><tr><td>16.31</td><td>2.0</td><td>No</td><td>Sat</td><td>Dinner</td><td>3</td><td>0.0</td></tr><tr><td>16.93</td><td>3.07</td><td>No</td><td>Sat</td><td>Dinner</td><td>3</td><td>1.0</td></tr><tr><td>18.69</td><td>2.31</td><td>No</td><td>Sat</td><td>Dinner</td><td>3</td><td>0.0</td></tr><tr><td>31.27</td><td>5.0</td><td>No</td><td>Sat</td><td>Dinner</td><td>3</td><td>0.0</td></tr><tr><td>16.04</td><td>2.24</td><td>No</td><td>Sat</td><td>Dinner</td><td>3</td><td>0.0</td></tr><tr><td>17.46</td><td>2.54</td><td>No</td><td>Sun</td><td>Dinner</td><td>2</td><td>0.0</td></tr><tr><td>13.94</td><td>3.06</td><td>No</td><td>Sun</td><td>Dinner</td><td>2</td><td>0.0</td></tr><tr><td>9.68</td><td>1.32</td><td>No</td><td>Sun</td><td>Dinner</td><td>2</td><td>0.0</td></tr><tr><td>30.4</td><td>5.6</td><td>No</td><td>Sun</td><td>Dinner</td><td>4</td><td>0.0</td></tr><tr><td>18.29</td><td>3.0</td><td>No</td><td>Sun</td><td>Dinner</td><td>2</td><td>0.0</td></tr><tr><td>22.23</td><td>5.0</td><td>No</td><td>Sun</td><td>Dinner</td><td>2</td><td>0.0</td></tr><tr><td>32.4</td><td>6.0</td><td>No</td><td>Sun</td><td>Dinner</td><td>4</td><td>0.0</td></tr><tr><td>28.55</td><td>2.05</td><td>No</td><td>Sun</td><td>Dinner</td><td>3</td><td>0.0</td></tr><tr><td>18.04</td><td>3.0</td><td>No</td><td>Sun</td><td>Dinner</td><td>2</td><td>0.0</td></tr><tr><td>12.54</td><td>2.5</td><td>No</td><td>Sun</td><td>Dinner</td><td>2</td><td>0.0</td></tr><tr><td>10.29</td><td>2.6</td><td>No</td><td>Sun</td><td>Dinner</td><td>2</td><td>1.0</td></tr><tr><td>34.81</td><td>5.2</td><td>No</td><td>Sun</td><td>Dinner</td><td>4</td><td>1.0</td></tr><tr><td>9.94</td><td>1.56</td><td>No</td><td>Sun</td><td>Dinner</td><td>2</td><td>0.0</td></tr><tr><td>25.56</td><td>4.34</td><td>No</td><td>Sun</td><td>Dinner</td><td>4</td><td>0.0</td></tr><tr><td>19.49</td><td>3.51</td><td>No</td><td>Sun</td><td>Dinner</td><td>2</td><td>0.0</td></tr><tr><td>38.01</td><td>3.0</td><td>Yes</td><td>Sat</td><td>Dinner</td><td>4</td><td>0.0</td></tr><tr><td>26.41</td><td>1.5</td><td>No</td><td>Sat</td><td>Dinner</td><td>2</td><td>1.0</td></tr><tr><td>11.24</td><td>1.76</td><td>Yes</td><td>Sat</td><td>Dinner</td><td>2</td><td>0.0</td></tr><tr><td>48.27</td><td>6.73</td><td>No</td><td>Sat</td><td>Dinner</td><td>4</td><td>0.0</td></tr><tr><td>20.29</td><td>3.21</td><td>Yes</td><td>Sat</td><td>Dinner</td><td>2</td><td>0.0</td></tr><tr><td>13.81</td><td>2.0</td><td>Yes</td><td>Sat</td><td>Dinner</td><td>2</td><td>0.0</td></tr><tr><td>11.02</td><td>1.98</td><td>Yes</td><td>Sat</td><td>Dinner</td><td>2</td><td>0.0</td></tr><tr><td>18.29</td><td>3.76</td><td>Yes</td><td>Sat</td><td>Dinner</td><td>4</td><td>0.0</td></tr><tr><td>17.59</td><td>2.64</td><td>No</td><td>Sat</td><td>Dinner</td><td>3</td><td>0.0</td></tr><tr><td>20.08</td><td>3.15</td><td>No</td><td>Sat</td><td>Dinner</td><td>3</td><td>0.0</td></tr><tr><td>16.45</td><td>2.47</td><td>No</td><td>Sat</td><td>Dinner</td><td>2</td><td>1.0</td></tr><tr><td>3.07</td><td>1.0</td><td>Yes</td><td>Sat</td><td>Dinner</td><td>1</td><td>1.0</td></tr><tr><td>20.23</td><td>2.01</td><td>No</td><td>Sat</td><td>Dinner</td><td>2</td><td>0.0</td></tr><tr><td>15.01</td><td>2.09</td><td>Yes</td><td>Sat</td><td>Dinner</td><td>2</td><td>0.0</td></tr><tr><td>12.02</td><td>1.97</td><td>No</td><td>Sat</td><td>Dinner</td><td>2</td><td>0.0</td></tr><tr><td>17.07</td><td>3.0</td><td>No</td><td>Sat</td><td>Dinner</td><td>3</td><td>1.0</td></tr><tr><td>26.86</td><td>3.14</td><td>Yes</td><td>Sat</td><td>Dinner</td><td>2</td><td>1.0</td></tr><tr><td>25.28</td><td>5.0</td><td>Yes</td><td>Sat</td><td>Dinner</td><td>2</td><td>1.0</td></tr><tr><td>14.73</td><td>2.2</td><td>No</td><td>Sat</td><td>Dinner</td><td>2</td><td>1.0</td></tr><tr><td>10.51</td><td>1.25</td><td>No</td><td>Sat</td><td>Dinner</td><td>2</td><td>0.0</td></tr><tr><td>17.92</td><td>3.08</td><td>Yes</td><td>Sat</td><td>Dinner</td><td>2</td><td>0.0</td></tr><tr><td>27.2</td><td>4.0</td><td>No</td><td>Thur</td><td>Lunch</td><td>4</td><td>0.0</td></tr><tr><td>22.76</td><td>3.0</td><td>No</td><td>Thur</td><td>Lunch</td><td>2</td><td>0.0</td></tr><tr><td>17.29</td><td>2.71</td><td>No</td><td>Thur</td><td>Lunch</td><td>2</td><td>0.0</td></tr><tr><td>19.44</td><td>3.0</td><td>Yes</td><td>Thur</td><td>Lunch</td><td>2</td><td>0.0</td></tr><tr><td>16.66</td><td>3.4</td><td>No</td><td>Thur</td><td>Lunch</td><td>2</td><td>0.0</td></tr><tr><td>10.07</td><td>1.83</td><td>No</td><td>Thur</td><td>Lunch</td><td>1</td><td>1.0</td></tr><tr><td>32.68</td><td>5.0</td><td>Yes</td><td>Thur</td><td>Lunch</td><td>2</td><td>0.0</td></tr><tr><td>15.98</td><td>2.03</td><td>No</td><td>Thur</td><td>Lunch</td><td>2</td><td>0.0</td></tr><tr><td>34.83</td><td>5.17</td><td>No</td><td>Thur</td><td>Lunch</td><td>4</td><td>1.0</td></tr><tr><td>13.03</td><td>2.0</td><td>No</td><td>Thur</td><td>Lunch</td><td>2</td><td>0.0</td></tr><tr><td>18.28</td><td>4.0</td><td>No</td><td>Thur</td><td>Lunch</td><td>2</td><td>0.0</td></tr><tr><td>24.71</td><td>5.85</td><td>No</td><td>Thur</td><td>Lunch</td><td>2</td><td>0.0</td></tr><tr><td>21.16</td><td>3.0</td><td>No</td><td>Thur</td><td>Lunch</td><td>2</td><td>0.0</td></tr><tr><td>28.97</td><td>3.0</td><td>Yes</td><td>Fri</td><td>Dinner</td><td>2</td><td>0.0</td></tr><tr><td>22.49</td><td>3.5</td><td>No</td><td>Fri</td><td>Dinner</td><td>2</td><td>0.0</td></tr><tr><td>5.75</td><td>1.0</td><td>Yes</td><td>Fri</td><td>Dinner</td><td>2</td><td>1.0</td></tr><tr><td>16.32</td><td>4.3</td><td>Yes</td><td>Fri</td><td>Dinner</td><td>2</td><td>1.0</td></tr><tr><td>22.75</td><td>3.25</td><td>No</td><td>Fri</td><td>Dinner</td><td>2</td><td>1.0</td></tr><tr><td>40.17</td><td>4.73</td><td>Yes</td><td>Fri</td><td>Dinner</td><td>4</td><td>0.0</td></tr><tr><td>27.28</td><td>4.0</td><td>Yes</td><td>Fri</td><td>Dinner</td><td>2</td><td>0.0</td></tr><tr><td>12.03</td><td>1.5</td><td>Yes</td><td>Fri</td><td>Dinner</td><td>2</td><td>0.0</td></tr><tr><td>21.01</td><td>3.0</td><td>Yes</td><td>Fri</td><td>Dinner</td><td>2</td><td>0.0</td></tr><tr><td>12.46</td><td>1.5</td><td>No</td><td>Fri</td><td>Dinner</td><td>2</td><td>0.0</td></tr><tr><td>11.35</td><td>2.5</td><td>Yes</td><td>Fri</td><td>Dinner</td><td>2</td><td>1.0</td></tr><tr><td>15.38</td><td>3.0</td><td>Yes</td><td>Fri</td><td>Dinner</td><td>2</td><td>1.0</td></tr><tr><td>44.3</td><td>2.5</td><td>Yes</td><td>Sat</td><td>Dinner</td><td>3</td><td>1.0</td></tr><tr><td>22.42</td><td>3.48</td><td>Yes</td><td>Sat</td><td>Dinner</td><td>2</td><td>1.0</td></tr><tr><td>20.92</td><td>4.08</td><td>No</td><td>Sat</td><td>Dinner</td><td>2</td><td>1.0</td></tr><tr><td>15.36</td><td>1.64</td><td>Yes</td><td>Sat</td><td>Dinner</td><td>2</td><td>0.0</td></tr><tr><td>20.49</td><td>4.06</td><td>Yes</td><td>Sat</td><td>Dinner</td><td>2</td><td>0.0</td></tr><tr><td>25.21</td><td>4.29</td><td>Yes</td><td>Sat</td><td>Dinner</td><td>2</td><td>0.0</td></tr><tr><td>18.24</td><td>3.76</td><td>No</td><td>Sat</td><td>Dinner</td><td>2</td><td>0.0</td></tr><tr><td>14.31</td><td>4.0</td><td>Yes</td><td>Sat</td><td>Dinner</td><td>2</td><td>1.0</td></tr><tr><td>14.0</td><td>3.0</td><td>No</td><td>Sat</td><td>Dinner</td><td>2</td><td>0.0</td></tr><tr><td>7.25</td><td>1.0</td><td>No</td><td>Sat</td><td>Dinner</td><td>1</td><td>1.0</td></tr><tr><td>38.07</td><td>4.0</td><td>No</td><td>Sun</td><td>Dinner</td><td>3</td><td>0.0</td></tr><tr><td>23.95</td><td>2.55</td><td>No</td><td>Sun</td><td>Dinner</td><td>2</td><td>0.0</td></tr><tr><td>25.71</td><td>4.0</td><td>No</td><td>Sun</td><td>Dinner</td><td>3</td><td>1.0</td></tr><tr><td>17.31</td><td>3.5</td><td>No</td><td>Sun</td><td>Dinner</td><td>2</td><td>1.0</td></tr><tr><td>29.93</td><td>5.07</td><td>No</td><td>Sun</td><td>Dinner</td><td>4</td><td>0.0</td></tr><tr><td>10.65</td><td>1.5</td><td>No</td><td>Thur</td><td>Lunch</td><td>2</td><td>1.0</td></tr><tr><td>12.43</td><td>1.8</td><td>No</td><td>Thur</td><td>Lunch</td><td>2</td><td>1.0</td></tr><tr><td>24.08</td><td>2.92</td><td>No</td><td>Thur</td><td>Lunch</td><td>4</td><td>1.0</td></tr><tr><td>11.69</td><td>2.31</td><td>No</td><td>Thur</td><td>Lunch</td><td>2</td><td>0.0</td></tr><tr><td>13.42</td><td>1.68</td><td>No</td><td>Thur</td><td>Lunch</td><td>2</td><td>1.0</td></tr><tr><td>14.26</td><td>2.5</td><td>No</td><td>Thur</td><td>Lunch</td><td>2</td><td>0.0</td></tr><tr><td>15.95</td><td>2.0</td><td>No</td><td>Thur</td><td>Lunch</td><td>2</td><td>0.0</td></tr><tr><td>12.48</td><td>2.52</td><td>No</td><td>Thur</td><td>Lunch</td><td>2</td><td>1.0</td></tr><tr><td>29.8</td><td>4.2</td><td>No</td><td>Thur</td><td>Lunch</td><td>6</td><td>1.0</td></tr><tr><td>8.52</td><td>1.48</td><td>No</td><td>Thur</td><td>Lunch</td><td>2</td><td>0.0</td></tr><tr><td>14.52</td><td>2.0</td><td>No</td><td>Thur</td><td>Lunch</td><td>2</td><td>1.0</td></tr><tr><td>11.38</td><td>2.0</td><td>No</td><td>Thur</td><td>Lunch</td><td>2</td><td>1.0</td></tr><tr><td>22.82</td><td>2.18</td><td>No</td><td>Thur</td><td>Lunch</td><td>3</td><td>0.0</td></tr><tr><td>19.08</td><td>1.5</td><td>No</td><td>Thur</td><td>Lunch</td><td>2</td><td>0.0</td></tr><tr><td>20.27</td><td>2.83</td><td>No</td><td>Thur</td><td>Lunch</td><td>2</td><td>1.0</td></tr><tr><td>11.17</td><td>1.5</td><td>No</td><td>Thur</td><td>Lunch</td><td>2</td><td>1.0</td></tr><tr><td>12.26</td><td>2.0</td><td>No</td><td>Thur</td><td>Lunch</td><td>2</td><td>1.0</td></tr><tr><td>18.26</td><td>3.25</td><td>No</td><td>Thur</td><td>Lunch</td><td>2</td><td>1.0</td></tr><tr><td>8.51</td><td>1.25</td><td>No</td><td>Thur</td><td>Lunch</td><td>2</td><td>1.0</td></tr><tr><td>10.33</td><td>2.0</td><td>No</td><td>Thur</td><td>Lunch</td><td>2</td><td>1.0</td></tr><tr><td>14.15</td><td>2.0</td><td>No</td><td>Thur</td><td>Lunch</td><td>2</td><td>1.0</td></tr><tr><td>16.0</td><td>2.0</td><td>Yes</td><td>Thur</td><td>Lunch</td><td>2</td><td>0.0</td></tr><tr><td>13.16</td><td>2.75</td><td>No</td><td>Thur</td><td>Lunch</td><td>2</td><td>1.0</td></tr><tr><td>17.47</td><td>3.5</td><td>No</td><td>Thur</td><td>Lunch</td><td>2</td><td>1.0</td></tr><tr><td>34.3</td><td>6.7</td><td>No</td><td>Thur</td><td>Lunch</td><td>6</td><td>0.0</td></tr><tr><td>41.19</td><td>5.0</td><td>No</td><td>Thur</td><td>Lunch</td><td>5</td><td>0.0</td></tr><tr><td>27.05</td><td>5.0</td><td>No</td><td>Thur</td><td>Lunch</td><td>6</td><td>1.0</td></tr><tr><td>16.43</td><td>2.3</td><td>No</td><td>Thur</td><td>Lunch</td><td>2</td><td>1.0</td></tr><tr><td>8.35</td><td>1.5</td><td>No</td><td>Thur</td><td>Lunch</td><td>2</td><td>1.0</td></tr><tr><td>18.64</td><td>1.36</td><td>No</td><td>Thur</td><td>Lunch</td><td>3</td><td>1.0</td></tr><tr><td>11.87</td><td>1.63</td><td>No</td><td>Thur</td><td>Lunch</td><td>2</td><td>1.0</td></tr><tr><td>9.78</td><td>1.73</td><td>No</td><td>Thur</td><td>Lunch</td><td>2</td><td>0.0</td></tr><tr><td>7.51</td><td>2.0</td><td>No</td><td>Thur</td><td>Lunch</td><td>2</td><td>0.0</td></tr><tr><td>14.07</td><td>2.5</td><td>No</td><td>Sun</td><td>Dinner</td><td>2</td><td>0.0</td></tr><tr><td>13.13</td><td>2.0</td><td>No</td><td>Sun</td><td>Dinner</td><td>2</td><td>0.0</td></tr><tr><td>17.26</td><td>2.74</td><td>No</td><td>Sun</td><td>Dinner</td><td>3</td><td>0.0</td></tr><tr><td>24.55</td><td>2.0</td><td>No</td><td>Sun</td><td>Dinner</td><td>4</td><td>0.0</td></tr><tr><td>19.77</td><td>2.0</td><td>No</td><td>Sun</td><td>Dinner</td><td>4</td><td>0.0</td></tr><tr><td>29.85</td><td>5.14</td><td>No</td><td>Sun</td><td>Dinner</td><td>5</td><td>1.0</td></tr><tr><td>48.17</td><td>5.0</td><td>No</td><td>Sun</td><td>Dinner</td><td>6</td><td>0.0</td></tr><tr><td>25.0</td><td>3.75</td><td>No</td><td>Sun</td><td>Dinner</td><td>4</td><td>1.0</td></tr><tr><td>13.39</td><td>2.61</td><td>No</td><td>Sun</td><td>Dinner</td><td>2</td><td>1.0</td></tr><tr><td>16.49</td><td>2.0</td><td>No</td><td>Sun</td><td>Dinner</td><td>4</td><td>0.0</td></tr><tr><td>21.5</td><td>3.5</td><td>No</td><td>Sun</td><td>Dinner</td><td>4</td><td>0.0</td></tr><tr><td>12.66</td><td>2.5</td><td>No</td><td>Sun</td><td>Dinner</td><td>2</td><td>0.0</td></tr><tr><td>16.21</td><td>2.0</td><td>No</td><td>Sun</td><td>Dinner</td><td>3</td><td>1.0</td></tr><tr><td>13.81</td><td>2.0</td><td>No</td><td>Sun</td><td>Dinner</td><td>2</td><td>0.0</td></tr><tr><td>17.51</td><td>3.0</td><td>Yes</td><td>Sun</td><td>Dinner</td><td>2</td><td>1.0</td></tr><tr><td>24.52</td><td>3.48</td><td>No</td><td>Sun</td><td>Dinner</td><td>3</td><td>0.0</td></tr><tr><td>20.76</td><td>2.24</td><td>No</td><td>Sun</td><td>Dinner</td><td>2</td><td>0.0</td></tr><tr><td>31.71</td><td>4.5</td><td>No</td><td>Sun</td><td>Dinner</td><td>4</td><td>0.0</td></tr><tr><td>10.59</td><td>1.61</td><td>Yes</td><td>Sat</td><td>Dinner</td><td>2</td><td>1.0</td></tr><tr><td>10.63</td><td>2.0</td><td>Yes</td><td>Sat</td><td>Dinner</td><td>2</td><td>1.0</td></tr><tr><td>50.81</td><td>10.0</td><td>Yes</td><td>Sat</td><td>Dinner</td><td>3</td><td>0.0</td></tr><tr><td>15.81</td><td>3.16</td><td>Yes</td><td>Sat</td><td>Dinner</td><td>2</td><td>0.0</td></tr><tr><td>7.25</td><td>5.15</td><td>Yes</td><td>Sun</td><td>Dinner</td><td>2</td><td>0.0</td></tr><tr><td>31.85</td><td>3.18</td><td>Yes</td><td>Sun</td><td>Dinner</td><td>2</td><td>0.0</td></tr><tr><td>16.82</td><td>4.0</td><td>Yes</td><td>Sun</td><td>Dinner</td><td>2</td><td>0.0</td></tr><tr><td>32.9</td><td>3.11</td><td>Yes</td><td>Sun</td><td>Dinner</td><td>2</td><td>0.0</td></tr><tr><td>17.89</td><td>2.0</td><td>Yes</td><td>Sun</td><td>Dinner</td><td>2</td><td>0.0</td></tr><tr><td>14.48</td><td>2.0</td><td>Yes</td><td>Sun</td><td>Dinner</td><td>2</td><td>0.0</td></tr><tr><td>9.6</td><td>4.0</td><td>Yes</td><td>Sun</td><td>Dinner</td><td>2</td><td>1.0</td></tr><tr><td>34.63</td><td>3.55</td><td>Yes</td><td>Sun</td><td>Dinner</td><td>2</td><td>0.0</td></tr><tr><td>34.65</td><td>3.68</td><td>Yes</td><td>Sun</td><td>Dinner</td><td>4</td><td>0.0</td></tr><tr><td>23.33</td><td>5.65</td><td>Yes</td><td>Sun</td><td>Dinner</td><td>2</td><td>0.0</td></tr><tr><td>45.35</td><td>3.5</td><td>Yes</td><td>Sun</td><td>Dinner</td><td>3</td><td>0.0</td></tr><tr><td>23.17</td><td>6.5</td><td>Yes</td><td>Sun</td><td>Dinner</td><td>4</td><td>0.0</td></tr><tr><td>40.55</td><td>3.0</td><td>Yes</td><td>Sun</td><td>Dinner</td><td>2</td><td>0.0</td></tr><tr><td>20.69</td><td>5.0</td><td>No</td><td>Sun</td><td>Dinner</td><td>5</td><td>0.0</td></tr><tr><td>20.9</td><td>3.5</td><td>Yes</td><td>Sun</td><td>Dinner</td><td>3</td><td>1.0</td></tr><tr><td>30.46</td><td>2.0</td><td>Yes</td><td>Sun</td><td>Dinner</td><td>5</td><td>0.0</td></tr><tr><td>18.15</td><td>3.5</td><td>Yes</td><td>Sun</td><td>Dinner</td><td>3</td><td>1.0</td></tr><tr><td>23.1</td><td>4.0</td><td>Yes</td><td>Sun</td><td>Dinner</td><td>3</td><td>0.0</td></tr><tr><td>15.69</td><td>1.5</td><td>Yes</td><td>Sun</td><td>Dinner</td><td>2</td><td>0.0</td></tr><tr><td>19.81</td><td>4.19</td><td>Yes</td><td>Thur</td><td>Lunch</td><td>2</td><td>1.0</td></tr><tr><td>28.44</td><td>2.56</td><td>Yes</td><td>Thur</td><td>Lunch</td><td>2</td><td>0.0</td></tr><tr><td>15.48</td><td>2.02</td><td>Yes</td><td>Thur</td><td>Lunch</td><td>2</td><td>0.0</td></tr><tr><td>16.58</td><td>4.0</td><td>Yes</td><td>Thur</td><td>Lunch</td><td>2</td><td>0.0</td></tr><tr><td>7.56</td><td>1.44</td><td>No</td><td>Thur</td><td>Lunch</td><td>2</td><td>0.0</td></tr><tr><td>10.34</td><td>2.0</td><td>Yes</td><td>Thur</td><td>Lunch</td><td>2</td><td>0.0</td></tr><tr><td>43.11</td><td>5.0</td><td>Yes</td><td>Thur</td><td>Lunch</td><td>4</td><td>1.0</td></tr><tr><td>13.0</td><td>2.0</td><td>Yes</td><td>Thur</td><td>Lunch</td><td>2</td><td>1.0</td></tr><tr><td>13.51</td><td>2.0</td><td>Yes</td><td>Thur</td><td>Lunch</td><td>2</td><td>0.0</td></tr><tr><td>18.71</td><td>4.0</td><td>Yes</td><td>Thur</td><td>Lunch</td><td>3</td><td>0.0</td></tr><tr><td>12.74</td><td>2.01</td><td>Yes</td><td>Thur</td><td>Lunch</td><td>2</td><td>1.0</td></tr><tr><td>13.0</td><td>2.0</td><td>Yes</td><td>Thur</td><td>Lunch</td><td>2</td><td>1.0</td></tr><tr><td>16.4</td><td>2.5</td><td>Yes</td><td>Thur</td><td>Lunch</td><td>2</td><td>1.0</td></tr><tr><td>20.53</td><td>4.0</td><td>Yes</td><td>Thur</td><td>Lunch</td><td>4</td><td>0.0</td></tr><tr><td>16.47</td><td>3.23</td><td>Yes</td><td>Thur</td><td>Lunch</td><td>3</td><td>1.0</td></tr><tr><td>26.59</td><td>3.41</td><td>Yes</td><td>Sat</td><td>Dinner</td><td>3</td><td>0.0</td></tr><tr><td>38.73</td><td>3.0</td><td>Yes</td><td>Sat</td><td>Dinner</td><td>4</td><td>0.0</td></tr><tr><td>24.27</td><td>2.03</td><td>Yes</td><td>Sat</td><td>Dinner</td><td>2</td><td>0.0</td></tr><tr><td>12.76</td><td>2.23</td><td>Yes</td><td>Sat</td><td>Dinner</td><td>2</td><td>1.0</td></tr><tr><td>30.06</td><td>2.0</td><td>Yes</td><td>Sat</td><td>Dinner</td><td>3</td><td>0.0</td></tr><tr><td>25.89</td><td>5.16</td><td>Yes</td><td>Sat</td><td>Dinner</td><td>4</td><td>0.0</td></tr><tr><td>48.33</td><td>9.0</td><td>No</td><td>Sat</td><td>Dinner</td><td>4</td><td>0.0</td></tr><tr><td>13.27</td><td>2.5</td><td>Yes</td><td>Sat</td><td>Dinner</td><td>2</td><td>1.0</td></tr><tr><td>28.17</td><td>6.5</td><td>Yes</td><td>Sat</td><td>Dinner</td><td>3</td><td>1.0</td></tr><tr><td>12.9</td><td>1.1</td><td>Yes</td><td>Sat</td><td>Dinner</td><td>2</td><td>1.0</td></tr><tr><td>28.15</td><td>3.0</td><td>Yes</td><td>Sat</td><td>Dinner</td><td>5</td><td>0.0</td></tr><tr><td>11.59</td><td>1.5</td><td>Yes</td><td>Sat</td><td>Dinner</td><td>2</td><td>0.0</td></tr><tr><td>7.74</td><td>1.44</td><td>Yes</td><td>Sat</td><td>Dinner</td><td>2</td><td>0.0</td></tr><tr><td>30.14</td><td>3.09</td><td>Yes</td><td>Sat</td><td>Dinner</td><td>4</td><td>1.0</td></tr><tr><td>12.16</td><td>2.2</td><td>Yes</td><td>Fri</td><td>Lunch</td><td>2</td><td>0.0</td></tr><tr><td>13.42</td><td>3.48</td><td>Yes</td><td>Fri</td><td>Lunch</td><td>2</td><td>1.0</td></tr><tr><td>8.58</td><td>1.92</td><td>Yes</td><td>Fri</td><td>Lunch</td><td>1</td><td>0.0</td></tr><tr><td>15.98</td><td>3.0</td><td>No</td><td>Fri</td><td>Lunch</td><td>3</td><td>1.0</td></tr><tr><td>13.42</td><td>1.58</td><td>Yes</td><td>Fri</td><td>Lunch</td><td>2</td><td>0.0</td></tr><tr><td>16.27</td><td>2.5</td><td>Yes</td><td>Fri</td><td>Lunch</td><td>2</td><td>1.0</td></tr><tr><td>10.09</td><td>2.0</td><td>Yes</td><td>Fri</td><td>Lunch</td><td>2</td><td>1.0</td></tr><tr><td>20.45</td><td>3.0</td><td>No</td><td>Sat</td><td>Dinner</td><td>4</td><td>0.0</td></tr><tr><td>13.28</td><td>2.72</td><td>No</td><td>Sat</td><td>Dinner</td><td>2</td><td>0.0</td></tr><tr><td>22.12</td><td>2.88</td><td>Yes</td><td>Sat</td><td>Dinner</td><td>2</td><td>1.0</td></tr><tr><td>24.01</td><td>2.0</td><td>Yes</td><td>Sat</td><td>Dinner</td><td>4</td><td>0.0</td></tr><tr><td>15.69</td><td>3.0</td><td>Yes</td><td>Sat</td><td>Dinner</td><td>3</td><td>0.0</td></tr><tr><td>11.61</td><td>3.39</td><td>No</td><td>Sat</td><td>Dinner</td><td>2</td><td>0.0</td></tr><tr><td>10.77</td><td>1.47</td><td>No</td><td>Sat</td><td>Dinner</td><td>2</td><td>0.0</td></tr><tr><td>15.53</td><td>3.0</td><td>Yes</td><td>Sat</td><td>Dinner</td><td>2</td><td>0.0</td></tr><tr><td>10.07</td><td>1.25</td><td>No</td><td>Sat</td><td>Dinner</td><td>2</td><td>0.0</td></tr><tr><td>12.6</td><td>1.0</td><td>Yes</td><td>Sat</td><td>Dinner</td><td>2</td><td>0.0</td></tr><tr><td>32.83</td><td>1.17</td><td>Yes</td><td>Sat</td><td>Dinner</td><td>2</td><td>0.0</td></tr><tr><td>35.83</td><td>4.67</td><td>No</td><td>Sat</td><td>Dinner</td><td>3</td><td>1.0</td></tr><tr><td>29.03</td><td>5.92</td><td>No</td><td>Sat</td><td>Dinner</td><td>3</td><td>0.0</td></tr><tr><td>27.18</td><td>2.0</td><td>Yes</td><td>Sat</td><td>Dinner</td><td>2</td><td>1.0</td></tr><tr><td>22.67</td><td>2.0</td><td>Yes</td><td>Sat</td><td>Dinner</td><td>2</td><td>0.0</td></tr><tr><td>17.82</td><td>1.75</td><td>No</td><td>Sat</td><td>Dinner</td><td>2</td><td>0.0</td></tr><tr><td>18.78</td><td>3.0</td><td>No</td><td>Thur</td><td>Dinner</td><td>2</td><td>1.0</td></tr></tbody></table></div>"
            ]
          }
        }
      ],
      "execution_count": null
    },
    {
      "cell_type": "code",
      "source": [
        "indexer = StringIndexer(inputCols=['smoker','day','time'],outputCols=['smoker_indexed','day_indexed','time_indexed'])\n",
        "df_preprocessed = indexer.fit(df_preprocessed).transform(df_preprocessed)\n",
        "df_preprocessed.show()"
      ],
      "metadata": {
        "application/vnd.databricks.v1+cell": {
          "showTitle": false,
          "cellMetadata": {
            "rowLimit": 10000,
            "byteLimit": 2048000
          },
          "nuid": "ba57bc8b-5afa-4fe6-91a3-be9c63400faa",
          "inputWidgets": {},
          "title": ""
        },
        "id": "W_R2kSfw0NGT",
        "outputId": "0c69a09b-5279-4c7e-93c2-4a1ca384de5d"
      },
      "outputs": [
        {
          "output_type": "stream",
          "name": "stdout",
          "text": [
            "+----------+----+------+---+------+----+-----------+--------------+-----------+------------+\n|total_bill| tip|smoker|day|  time|size|sex_indexed|smoker_indexed|day_indexed|time_indexed|\n+----------+----+------+---+------+----+-----------+--------------+-----------+------------+\n|     16.99|1.01|    No|Sun|Dinner|   2|        1.0|           0.0|        1.0|         0.0|\n|     10.34|1.66|    No|Sun|Dinner|   3|        0.0|           0.0|        1.0|         0.0|\n|     21.01| 3.5|    No|Sun|Dinner|   3|        0.0|           0.0|        1.0|         0.0|\n|     23.68|3.31|    No|Sun|Dinner|   2|        0.0|           0.0|        1.0|         0.0|\n|     24.59|3.61|    No|Sun|Dinner|   4|        1.0|           0.0|        1.0|         0.0|\n|     25.29|4.71|    No|Sun|Dinner|   4|        0.0|           0.0|        1.0|         0.0|\n|      8.77| 2.0|    No|Sun|Dinner|   2|        0.0|           0.0|        1.0|         0.0|\n|     26.88|3.12|    No|Sun|Dinner|   4|        0.0|           0.0|        1.0|         0.0|\n|     15.04|1.96|    No|Sun|Dinner|   2|        0.0|           0.0|        1.0|         0.0|\n|     14.78|3.23|    No|Sun|Dinner|   2|        0.0|           0.0|        1.0|         0.0|\n|     10.27|1.71|    No|Sun|Dinner|   2|        0.0|           0.0|        1.0|         0.0|\n|     35.26| 5.0|    No|Sun|Dinner|   4|        1.0|           0.0|        1.0|         0.0|\n|     15.42|1.57|    No|Sun|Dinner|   2|        0.0|           0.0|        1.0|         0.0|\n|     18.43| 3.0|    No|Sun|Dinner|   4|        0.0|           0.0|        1.0|         0.0|\n|     14.83|3.02|    No|Sun|Dinner|   2|        1.0|           0.0|        1.0|         0.0|\n|     21.58|3.92|    No|Sun|Dinner|   2|        0.0|           0.0|        1.0|         0.0|\n|     10.33|1.67|    No|Sun|Dinner|   3|        1.0|           0.0|        1.0|         0.0|\n|     16.29|3.71|    No|Sun|Dinner|   3|        0.0|           0.0|        1.0|         0.0|\n|     16.97| 3.5|    No|Sun|Dinner|   3|        1.0|           0.0|        1.0|         0.0|\n|     20.65|3.35|    No|Sat|Dinner|   3|        0.0|           0.0|        0.0|         0.0|\n+----------+----+------+---+------+----+-----------+--------------+-----------+------------+\nonly showing top 20 rows\n\n"
          ]
        }
      ],
      "execution_count": null
    },
    {
      "cell_type": "code",
      "source": [
        "columns_to_drop = ['smoker','day','time']\n",
        "df_preprocessed = df_preprocessed.select([column for column in df_preprocessed.columns if column not in columns_to_drop])\n",
        "\n",
        "df_preprocessed.show()"
      ],
      "metadata": {
        "application/vnd.databricks.v1+cell": {
          "showTitle": false,
          "cellMetadata": {
            "rowLimit": 10000,
            "byteLimit": 2048000
          },
          "nuid": "c68e0406-73fe-4a5d-9653-9703a4949cfe",
          "inputWidgets": {},
          "title": ""
        },
        "id": "67-sgwya0NGU",
        "outputId": "b8d24aad-1723-4d01-a02b-89ed5a18deba"
      },
      "outputs": [
        {
          "output_type": "stream",
          "name": "stdout",
          "text": [
            "+----------+----+----+-----------+--------------+-----------+------------+\n|total_bill| tip|size|sex_indexed|smoker_indexed|day_indexed|time_indexed|\n+----------+----+----+-----------+--------------+-----------+------------+\n|     16.99|1.01|   2|        1.0|           0.0|        1.0|         0.0|\n|     10.34|1.66|   3|        0.0|           0.0|        1.0|         0.0|\n|     21.01| 3.5|   3|        0.0|           0.0|        1.0|         0.0|\n|     23.68|3.31|   2|        0.0|           0.0|        1.0|         0.0|\n|     24.59|3.61|   4|        1.0|           0.0|        1.0|         0.0|\n|     25.29|4.71|   4|        0.0|           0.0|        1.0|         0.0|\n|      8.77| 2.0|   2|        0.0|           0.0|        1.0|         0.0|\n|     26.88|3.12|   4|        0.0|           0.0|        1.0|         0.0|\n|     15.04|1.96|   2|        0.0|           0.0|        1.0|         0.0|\n|     14.78|3.23|   2|        0.0|           0.0|        1.0|         0.0|\n|     10.27|1.71|   2|        0.0|           0.0|        1.0|         0.0|\n|     35.26| 5.0|   4|        1.0|           0.0|        1.0|         0.0|\n|     15.42|1.57|   2|        0.0|           0.0|        1.0|         0.0|\n|     18.43| 3.0|   4|        0.0|           0.0|        1.0|         0.0|\n|     14.83|3.02|   2|        1.0|           0.0|        1.0|         0.0|\n|     21.58|3.92|   2|        0.0|           0.0|        1.0|         0.0|\n|     10.33|1.67|   3|        1.0|           0.0|        1.0|         0.0|\n|     16.29|3.71|   3|        0.0|           0.0|        1.0|         0.0|\n|     16.97| 3.5|   3|        1.0|           0.0|        1.0|         0.0|\n|     20.65|3.35|   3|        0.0|           0.0|        0.0|         0.0|\n+----------+----+----+-----------+--------------+-----------+------------+\nonly showing top 20 rows\n\n"
          ]
        }
      ],
      "execution_count": null
    },
    {
      "cell_type": "code",
      "source": [
        "df_preprocessed.columns"
      ],
      "metadata": {
        "application/vnd.databricks.v1+cell": {
          "showTitle": false,
          "cellMetadata": {
            "rowLimit": 10000,
            "byteLimit": 2048000
          },
          "nuid": "943e6a63-a2a1-4d1b-b5ed-9135c1670064",
          "inputWidgets": {},
          "title": ""
        },
        "id": "Bs1ETuDr0NGU",
        "outputId": "de4d146e-0e3b-4f09-adc1-933d551ce1f7"
      },
      "outputs": [
        {
          "output_type": "stream",
          "name": "stdout",
          "text": [
            "Out[21]: ['total_bill',\n 'tip',\n 'size',\n 'sex_indexed',\n 'smoker_indexed',\n 'day_indexed',\n 'time_indexed']"
          ]
        }
      ],
      "execution_count": null
    },
    {
      "cell_type": "code",
      "source": [
        "from pyspark.ml.feature import VectorAssembler\n",
        "feature_assembler = VectorAssembler(inputCols=['tip',\n",
        " 'size',\n",
        " 'sex_indexed',\n",
        " 'smoker_indexed',\n",
        " 'day_indexed',\n",
        " 'time_indexed'],outputCol='independent_features')\n",
        "\n",
        "output = feature_assembler.transform(df_preprocessed)"
      ],
      "metadata": {
        "application/vnd.databricks.v1+cell": {
          "showTitle": false,
          "cellMetadata": {
            "rowLimit": 10000,
            "byteLimit": 2048000
          },
          "nuid": "5a978e8d-a180-4d44-963d-0806e4e85708",
          "inputWidgets": {},
          "title": ""
        },
        "id": "aiYov1WF0NGV"
      },
      "outputs": [],
      "execution_count": null
    },
    {
      "cell_type": "code",
      "source": [
        "output.select(\"independent_features\").show()"
      ],
      "metadata": {
        "application/vnd.databricks.v1+cell": {
          "showTitle": false,
          "cellMetadata": {
            "rowLimit": 10000,
            "byteLimit": 2048000
          },
          "nuid": "78194823-0db9-412a-a20f-b7b7c42d9bdd",
          "inputWidgets": {},
          "title": ""
        },
        "id": "p-s558fG0NGV",
        "outputId": "e4d0cfa2-5b90-443a-f071-3b7015359d92"
      },
      "outputs": [
        {
          "output_type": "stream",
          "name": "stdout",
          "text": [
            "+--------------------+\n|independent_features|\n+--------------------+\n|[1.01,2.0,1.0,0.0...|\n|[1.66,3.0,0.0,0.0...|\n|[3.5,3.0,0.0,0.0,...|\n|[3.31,2.0,0.0,0.0...|\n|[3.61,4.0,1.0,0.0...|\n|[4.71,4.0,0.0,0.0...|\n|[2.0,2.0,0.0,0.0,...|\n|[3.12,4.0,0.0,0.0...|\n|[1.96,2.0,0.0,0.0...|\n|[3.23,2.0,0.0,0.0...|\n|[1.71,2.0,0.0,0.0...|\n|[5.0,4.0,1.0,0.0,...|\n|[1.57,2.0,0.0,0.0...|\n|[3.0,4.0,0.0,0.0,...|\n|[3.02,2.0,1.0,0.0...|\n|[3.92,2.0,0.0,0.0...|\n|[1.67,3.0,1.0,0.0...|\n|[3.71,3.0,0.0,0.0...|\n|[3.5,3.0,1.0,0.0,...|\n|(6,[0,1],[3.35,3.0])|\n+--------------------+\nonly showing top 20 rows\n\n"
          ]
        }
      ],
      "execution_count": null
    },
    {
      "cell_type": "code",
      "source": [
        "finilized_data = output.select('independent_features','total_bill')\n"
      ],
      "metadata": {
        "application/vnd.databricks.v1+cell": {
          "showTitle": false,
          "cellMetadata": {
            "rowLimit": 10000,
            "byteLimit": 2048000
          },
          "nuid": "89c709ed-698c-45a4-9129-b706f254d8da",
          "inputWidgets": {},
          "title": ""
        },
        "id": "x0tqRUme0NGV"
      },
      "outputs": [],
      "execution_count": null
    },
    {
      "cell_type": "code",
      "source": [
        "finilized_data.show()"
      ],
      "metadata": {
        "application/vnd.databricks.v1+cell": {
          "showTitle": false,
          "cellMetadata": {
            "rowLimit": 10000,
            "byteLimit": 2048000
          },
          "nuid": "aca4fc63-4bc7-4c7d-a591-2ccaaa931826",
          "inputWidgets": {},
          "title": ""
        },
        "id": "wFkW1icY0NGW",
        "outputId": "d632a9b0-2348-4cf7-f172-27efac5357e1"
      },
      "outputs": [
        {
          "output_type": "stream",
          "name": "stdout",
          "text": [
            "+--------------------+----------+\n|independent_features|total_bill|\n+--------------------+----------+\n|[1.01,2.0,1.0,0.0...|     16.99|\n|[1.66,3.0,0.0,0.0...|     10.34|\n|[3.5,3.0,0.0,0.0,...|     21.01|\n|[3.31,2.0,0.0,0.0...|     23.68|\n|[3.61,4.0,1.0,0.0...|     24.59|\n|[4.71,4.0,0.0,0.0...|     25.29|\n|[2.0,2.0,0.0,0.0,...|      8.77|\n|[3.12,4.0,0.0,0.0...|     26.88|\n|[1.96,2.0,0.0,0.0...|     15.04|\n|[3.23,2.0,0.0,0.0...|     14.78|\n|[1.71,2.0,0.0,0.0...|     10.27|\n|[5.0,4.0,1.0,0.0,...|     35.26|\n|[1.57,2.0,0.0,0.0...|     15.42|\n|[3.0,4.0,0.0,0.0,...|     18.43|\n|[3.02,2.0,1.0,0.0...|     14.83|\n|[3.92,2.0,0.0,0.0...|     21.58|\n|[1.67,3.0,1.0,0.0...|     10.33|\n|[3.71,3.0,0.0,0.0...|     16.29|\n|[3.5,3.0,1.0,0.0,...|     16.97|\n|(6,[0,1],[3.35,3.0])|     20.65|\n+--------------------+----------+\nonly showing top 20 rows\n\n"
          ]
        }
      ],
      "execution_count": null
    },
    {
      "cell_type": "code",
      "source": [
        "from pyspark.ml.regression import LinearRegression\n",
        "train_data,test_data=finilized_data.randomSplit([0.75,0.25])\n",
        "model = LinearRegression(featuresCol='independent_features',labelCol='total_bill')\n",
        "model = model.fit(train_data)"
      ],
      "metadata": {
        "application/vnd.databricks.v1+cell": {
          "showTitle": false,
          "cellMetadata": {
            "rowLimit": 10000,
            "byteLimit": 2048000
          },
          "nuid": "2958bcfc-295b-4d49-9121-4098405850b3",
          "inputWidgets": {},
          "title": ""
        },
        "id": "MdXlVH5c0NGW"
      },
      "outputs": [],
      "execution_count": null
    },
    {
      "cell_type": "code",
      "source": [
        "model.coefficients"
      ],
      "metadata": {
        "application/vnd.databricks.v1+cell": {
          "showTitle": false,
          "cellMetadata": {
            "rowLimit": 10000,
            "byteLimit": 2048000
          },
          "nuid": "8654ea20-384a-4838-9122-75848f5c205d",
          "inputWidgets": {},
          "title": ""
        },
        "id": "xk0-Qava0NGX",
        "outputId": "f7b8665c-85ae-48af-aa10-17fae1f46a47"
      },
      "outputs": [
        {
          "output_type": "stream",
          "name": "stdout",
          "text": [
            "Out[33]: DenseVector([3.2977, 3.2088, -1.7932, 2.2824, -0.1727, -0.8123])"
          ]
        }
      ],
      "execution_count": null
    },
    {
      "cell_type": "code",
      "source": [
        "model.intercept"
      ],
      "metadata": {
        "application/vnd.databricks.v1+cell": {
          "showTitle": false,
          "cellMetadata": {
            "rowLimit": 10000,
            "byteLimit": 2048000
          },
          "nuid": "f5e2bd5b-7333-4d96-9686-d1919d0630f0",
          "inputWidgets": {},
          "title": ""
        },
        "id": "o39S8_ZE0NGX",
        "outputId": "c256b000-41a8-42ec-a028-2699904f75ec"
      },
      "outputs": [
        {
          "output_type": "stream",
          "name": "stdout",
          "text": [
            "Out[35]: 1.869861034535951"
          ]
        }
      ],
      "execution_count": null
    },
    {
      "cell_type": "code",
      "source": [
        "pred_results = model.evaluate(test_data)"
      ],
      "metadata": {
        "application/vnd.databricks.v1+cell": {
          "showTitle": false,
          "cellMetadata": {
            "rowLimit": 10000,
            "byteLimit": 2048000
          },
          "nuid": "f722d8d1-6168-4deb-a54a-68a9b7a22b8e",
          "inputWidgets": {},
          "title": ""
        },
        "id": "umqIr_bK0NGX"
      },
      "outputs": [],
      "execution_count": null
    },
    {
      "cell_type": "code",
      "source": [
        "pred_results.predictions.show()"
      ],
      "metadata": {
        "application/vnd.databricks.v1+cell": {
          "showTitle": false,
          "cellMetadata": {
            "rowLimit": 10000,
            "byteLimit": 2048000
          },
          "nuid": "c80ebdde-ce5a-4c0b-abb5-f638030fa3a5",
          "inputWidgets": {},
          "title": ""
        },
        "id": "VDhXHsSO0NGX",
        "outputId": "75d03b9b-efbc-4822-9fae-3682443943bc"
      },
      "outputs": [
        {
          "output_type": "stream",
          "name": "stdout",
          "text": [
            "+--------------------+----------+------------------+\n|independent_features|total_bill|        prediction|\n+--------------------+----------+------------------+\n|(6,[0,1],[1.47,2.0])|     10.77|13.135206204705753|\n|(6,[0,1],[1.75,2.0])|     17.82|14.058572494237318|\n| (6,[0,1],[2.0,2.0])|     13.37| 14.88300668131907|\n|(6,[0,1],[2.24,3.0])|     16.04|  18.8832995759821|\n|(6,[0,1],[2.34,4.0])|     17.81| 22.42190932587934|\n| (6,[0,1],[3.0,2.0])|      14.0|18.180743429646085|\n|(6,[0,1],[3.27,2.0])|     17.78| 19.07113235169438|\n|(6,[0,1],[5.92,3.0])|     29.03|31.018970809825518|\n|[1.0,1.0,1.0,1.0,...|      3.07|  8.86571527445954|\n|[1.32,2.0,0.0,0.0...|      9.68|12.467799978610227|\n|[1.5,2.0,0.0,0.0,...|     12.46|12.715901165616144|\n|[1.56,2.0,0.0,0.0...|      9.94|13.259256798208712|\n|[1.57,2.0,0.0,0.0...|     15.42|13.292234165691982|\n|[1.58,2.0,0.0,1.0...|     13.42|14.449850127884442|\n|[1.63,2.0,1.0,0.0...|     11.87|10.711892271732836|\n|[1.64,2.0,0.0,1.0...|     15.36|15.978257363894572|\n|[1.71,2.0,0.0,0.0...|     10.27|13.753917310457764|\n|[1.83,1.0,1.0,0.0...|     10.07| 8.162603546333695|\n|[1.92,1.0,0.0,1.0...|      8.58|12.362244547251084|\n|[2.0,2.0,0.0,0.0,...|     13.81|14.710260967472598|\n+--------------------+----------+------------------+\nonly showing top 20 rows\n\n"
          ]
        }
      ],
      "execution_count": null
    },
    {
      "cell_type": "code",
      "source": [
        "pred_results.r2,pred_results.meanSquaredError"
      ],
      "metadata": {
        "application/vnd.databricks.v1+cell": {
          "showTitle": false,
          "cellMetadata": {
            "rowLimit": 10000,
            "byteLimit": 2048000
          },
          "nuid": "ee8db18d-addd-4bc5-b59c-3d9c851332f8",
          "inputWidgets": {},
          "title": ""
        },
        "id": "HaN2ZqVr0NGY",
        "outputId": "e6892717-53d4-4040-f40f-63cd851587e2"
      },
      "outputs": [
        {
          "output_type": "stream",
          "name": "stdout",
          "text": [
            "Out[45]: (0.4649539490953174, 33.644044774994704)"
          ]
        }
      ],
      "execution_count": null
    },
    {
      "cell_type": "code",
      "source": [
        "from pyspark.ml.evaluation import RegressionEvaluator\n",
        "from pyspark.ml.tuning import ParamGridBuilder, CrossValidator\n",
        "lr = LinearRegression(featuresCol=\"independent_features\", labelCol=\"total_bill\")\n",
        "\n",
        "# Create a ParamGridBuilder to specify the hyperparameter grid\n",
        "param_grid = ParamGridBuilder() \\\n",
        "    .addGrid(lr.regParam, [0.0, 0.1, 0.2]) \\\n",
        "    .addGrid(lr.elasticNetParam, [0.0, 0.5, 1.0]) \\\n",
        "    .build()\n",
        "\n",
        "# Create an evaluator for the regression task\n",
        "evaluator = RegressionEvaluator(metricName=\"rmse\", labelCol=\"total_bill\")\n",
        "\n",
        "# Create a CrossValidator with the Linear Regression model, ParamGridBuilder, and evaluator\n",
        "crossval = CrossValidator(estimator=lr,\n",
        "                          estimatorParamMaps=param_grid,\n",
        "                          evaluator=evaluator,\n",
        "                          numFolds=3)\n",
        "\n",
        "# Fit the CrossValidator to the training data\n",
        "cv_model = crossval.fit(train_data)\n",
        "\n",
        "# Make predictions on the test data using the best model\n",
        "predictions = cv_model.transform(test_data)\n",
        "\n",
        "# Evaluate the best model using the evaluator\n",
        "rmse = evaluator.evaluate(predictions)\n",
        "r2 = evaluator.setMetricName(\"r2\").evaluate(predictions)\n",
        "# Print the best model's parameters and the RMSE\n",
        "best_model = cv_model.bestModel\n",
        "print(\"Best Model Parameters:\")\n",
        "print(\"regParam =\", best_model.getRegParam())\n",
        "print(\"elasticNetParam =\", best_model.getElasticNetParam())\n",
        "print(\"RMSE:\", rmse)\n",
        "print(\"R-squared:\", r2)"
      ],
      "metadata": {
        "application/vnd.databricks.v1+cell": {
          "showTitle": false,
          "cellMetadata": {
            "rowLimit": 10000,
            "byteLimit": 2048000
          },
          "nuid": "3f85b680-3253-46f0-98eb-747ba65bbf98",
          "inputWidgets": {},
          "title": ""
        },
        "id": "IABP73wx0NGY",
        "outputId": "812a44b6-1f6d-46ba-ac42-b8f168e754a3"
      },
      "outputs": [
        {
          "output_type": "stream",
          "name": "stdout",
          "text": [
            "Best Model Parameters:\nregParam = 0.1\nelasticNetParam = 1.0\nRMSE: 5.788075747793521\nR-squared: 0.46721575630061396\n"
          ]
        }
      ],
      "execution_count": null
    },
    {
      "cell_type": "code",
      "source": [],
      "metadata": {
        "application/vnd.databricks.v1+cell": {
          "showTitle": false,
          "cellMetadata": {},
          "nuid": "4d6bf830-481c-4bfc-8cf4-65c7e306b3cc",
          "inputWidgets": {},
          "title": ""
        },
        "id": "PnwobtP50NGY"
      },
      "outputs": [],
      "execution_count": null
    }
  ],
  "metadata": {
    "application/vnd.databricks.v1+notebook": {
      "notebookName": "2023-05-28 - DBFS Example (1)",
      "dashboards": [],
      "notebookMetadata": {
        "pythonIndentUnit": 4
      },
      "language": "python",
      "widgets": {}
    },
    "colab": {
      "provenance": []
    }
  },
  "nbformat": 4,
  "nbformat_minor": 0
}