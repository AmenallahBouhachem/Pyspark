{
  "nbformat": 4,
  "nbformat_minor": 0,
  "metadata": {
    "colab": {
      "provenance": []
    },
    "kernelspec": {
      "name": "python3",
      "display_name": "Python 3"
    },
    "language_info": {
      "name": "python"
    }
  },
  "cells": [
    {
      "cell_type": "code",
      "execution_count": 1,
      "metadata": {
        "colab": {
          "base_uri": "https://localhost:8080/"
        },
        "id": "vaKAY0CRAzbQ",
        "outputId": "3afbabdc-8f83-4111-ea53-82b6cf015599"
      },
      "outputs": [
        {
          "output_type": "stream",
          "name": "stdout",
          "text": [
            "Looking in indexes: https://pypi.org/simple, https://us-python.pkg.dev/colab-wheels/public/simple/\n",
            "Collecting pyspark\n",
            "  Downloading pyspark-3.4.0.tar.gz (310.8 MB)\n",
            "\u001b[2K     \u001b[90m━━━━━━━━━━━━━━━━━━━━━━━━━━━━━━━━━━━━━━━\u001b[0m \u001b[32m310.8/310.8 MB\u001b[0m \u001b[31m4.5 MB/s\u001b[0m eta \u001b[36m0:00:00\u001b[0m\n",
            "\u001b[?25h  Preparing metadata (setup.py) ... \u001b[?25l\u001b[?25hdone\n",
            "Requirement already satisfied: py4j==0.10.9.7 in /usr/local/lib/python3.10/dist-packages (from pyspark) (0.10.9.7)\n",
            "Building wheels for collected packages: pyspark\n",
            "  Building wheel for pyspark (setup.py) ... \u001b[?25l\u001b[?25hdone\n",
            "  Created wheel for pyspark: filename=pyspark-3.4.0-py2.py3-none-any.whl size=311317130 sha256=1ddbfdbf4982d7a120fd38511f3531034adf37f366a6a9acf945bad509e889b6\n",
            "  Stored in directory: /root/.cache/pip/wheels/7b/1b/4b/3363a1d04368e7ff0d408e57ff57966fcdf00583774e761327\n",
            "Successfully built pyspark\n",
            "Installing collected packages: pyspark\n",
            "Successfully installed pyspark-3.4.0\n"
          ]
        }
      ],
      "source": [
        "!pip install pyspark"
      ]
    },
    {
      "cell_type": "code",
      "source": [
        "from pyspark.sql import SparkSession\n",
        "spark = SparkSession.builder.appName('gouga').getOrCreate()"
      ],
      "metadata": {
        "id": "C3G5BhhIBzUz"
      },
      "execution_count": 17,
      "outputs": []
    },
    {
      "cell_type": "code",
      "source": [
        "df_spark = spark.read.csv('data5.csv',header=True,inferSchema=True)\n",
        "df_spark.show()"
      ],
      "metadata": {
        "colab": {
          "base_uri": "https://localhost:8080/"
        },
        "id": "xDNJyZ_-CvEG",
        "outputId": "9e090bed-179b-454c-a21e-4d1528ec7c89"
      },
      "execution_count": 18,
      "outputs": [
        {
          "output_type": "stream",
          "name": "stdout",
          "text": [
            "+--------+---+----------+------+\n",
            "|    Name|Age|Experience|Salary|\n",
            "+--------+---+----------+------+\n",
            "|    amen| 23|         4|536987|\n",
            "|   gouga| 23|         2|235689|\n",
            "|   kouka| 20|         8|951236|\n",
            "| ranouna| 21|         6|753214|\n",
            "|   touta| 22|         8|987456|\n",
            "|hachoumi| 23|         3|321587|\n",
            "|  lo3mor| 23|         9|985124|\n",
            "+--------+---+----------+------+\n",
            "\n"
          ]
        }
      ]
    },
    {
      "cell_type": "code",
      "source": [
        "df_spark.printSchema()"
      ],
      "metadata": {
        "colab": {
          "base_uri": "https://localhost:8080/"
        },
        "id": "v3DV8QvnC81e",
        "outputId": "79876183-f481-472d-9870-640a5255b15e"
      },
      "execution_count": 19,
      "outputs": [
        {
          "output_type": "stream",
          "name": "stdout",
          "text": [
            "root\n",
            " |-- Name: string (nullable = true)\n",
            " |-- Age: integer (nullable = true)\n",
            " |-- Experience: integer (nullable = true)\n",
            " |-- Salary: integer (nullable = true)\n",
            "\n"
          ]
        }
      ]
    },
    {
      "cell_type": "code",
      "source": [
        "df_spark.columns"
      ],
      "metadata": {
        "colab": {
          "base_uri": "https://localhost:8080/"
        },
        "id": "w4dvv-HnDN_y",
        "outputId": "b3e91183-884e-4f62-9246-7594f1d76f3e"
      },
      "execution_count": 20,
      "outputs": [
        {
          "output_type": "execute_result",
          "data": {
            "text/plain": [
              "['Name', 'Age', 'Experience', 'Salary']"
            ]
          },
          "metadata": {},
          "execution_count": 20
        }
      ]
    },
    {
      "cell_type": "code",
      "source": [
        "from pyspark.ml.feature import VectorAssembler\n",
        "featureassembler = VectorAssembler(inputCols=['Age','Experience'],outputCol='independent_feature')"
      ],
      "metadata": {
        "id": "a_Ej-JPjDR1V"
      },
      "execution_count": 21,
      "outputs": []
    },
    {
      "cell_type": "code",
      "source": [
        "output = featureassembler.transform(df_spark)\n",
        "output.show()"
      ],
      "metadata": {
        "colab": {
          "base_uri": "https://localhost:8080/"
        },
        "id": "v91Yeq8dFJ6B",
        "outputId": "9b4c5c5e-f84b-41aa-a40f-5914d1200252"
      },
      "execution_count": 22,
      "outputs": [
        {
          "output_type": "stream",
          "name": "stdout",
          "text": [
            "+--------+---+----------+------+-------------------+\n",
            "|    Name|Age|Experience|Salary|independent_feature|\n",
            "+--------+---+----------+------+-------------------+\n",
            "|    amen| 23|         4|536987|         [23.0,4.0]|\n",
            "|   gouga| 23|         2|235689|         [23.0,2.0]|\n",
            "|   kouka| 20|         8|951236|         [20.0,8.0]|\n",
            "| ranouna| 21|         6|753214|         [21.0,6.0]|\n",
            "|   touta| 22|         8|987456|         [22.0,8.0]|\n",
            "|hachoumi| 23|         3|321587|         [23.0,3.0]|\n",
            "|  lo3mor| 23|         9|985124|         [23.0,9.0]|\n",
            "+--------+---+----------+------+-------------------+\n",
            "\n"
          ]
        }
      ]
    },
    {
      "cell_type": "code",
      "source": [
        "output.columns"
      ],
      "metadata": {
        "colab": {
          "base_uri": "https://localhost:8080/"
        },
        "id": "o0GI_GrKFUdQ",
        "outputId": "966e4377-8ea8-4877-c8b1-53703c3afd94"
      },
      "execution_count": 23,
      "outputs": [
        {
          "output_type": "execute_result",
          "data": {
            "text/plain": [
              "['Name', 'Age', 'Experience', 'Salary', 'independent_feature']"
            ]
          },
          "metadata": {},
          "execution_count": 23
        }
      ]
    },
    {
      "cell_type": "code",
      "source": [
        "finilized_data = output.select('independent_feature','Salary')\n",
        "finilized_data.show()"
      ],
      "metadata": {
        "colab": {
          "base_uri": "https://localhost:8080/"
        },
        "id": "vAcp1ZIxFddC",
        "outputId": "6783ef83-e814-435f-fac7-8a53848a04c5"
      },
      "execution_count": 24,
      "outputs": [
        {
          "output_type": "stream",
          "name": "stdout",
          "text": [
            "+-------------------+------+\n",
            "|independent_feature|Salary|\n",
            "+-------------------+------+\n",
            "|         [23.0,4.0]|536987|\n",
            "|         [23.0,2.0]|235689|\n",
            "|         [20.0,8.0]|951236|\n",
            "|         [21.0,6.0]|753214|\n",
            "|         [22.0,8.0]|987456|\n",
            "|         [23.0,3.0]|321587|\n",
            "|         [23.0,9.0]|985124|\n",
            "+-------------------+------+\n",
            "\n"
          ]
        }
      ]
    },
    {
      "cell_type": "code",
      "source": [
        "from pyspark.ml.regression import LinearRegression\n",
        "train_data,test_data=finilized_data.randomSplit([0.75,0.25])\n",
        "regressor = LinearRegression(featuresCol='independent_feature',labelCol='Salary')\n",
        "regressor=regressor.fit(train_data)"
      ],
      "metadata": {
        "id": "K0XyDgXlFk0G"
      },
      "execution_count": 25,
      "outputs": []
    },
    {
      "cell_type": "code",
      "source": [
        "regressor.coefficients"
      ],
      "metadata": {
        "colab": {
          "base_uri": "https://localhost:8080/"
        },
        "id": "nlM7FjSeGKtm",
        "outputId": "fca1a76a-397e-4764-de52-63a74a69312c"
      },
      "execution_count": 26,
      "outputs": [
        {
          "output_type": "execute_result",
          "data": {
            "text/plain": [
              "DenseVector([41223.8554, 145477.988])"
            ]
          },
          "metadata": {},
          "execution_count": 26
        }
      ]
    },
    {
      "cell_type": "code",
      "source": [
        "regressor.intercept"
      ],
      "metadata": {
        "colab": {
          "base_uri": "https://localhost:8080/"
        },
        "id": "okD-1apbGSco",
        "outputId": "3f94fe7f-ef7f-4753-f0c1-374d7ae335c2"
      },
      "execution_count": 27,
      "outputs": [
        {
          "output_type": "execute_result",
          "data": {
            "text/plain": [
              "-1016380.9638551592"
            ]
          },
          "metadata": {},
          "execution_count": 27
        }
      ]
    },
    {
      "cell_type": "code",
      "source": [
        "pred_results = regressor.evaluate(test_data)"
      ],
      "metadata": {
        "id": "1rhTIiXGGf4C"
      },
      "execution_count": 28,
      "outputs": []
    },
    {
      "cell_type": "code",
      "source": [
        "pred_results.predictions.show()"
      ],
      "metadata": {
        "colab": {
          "base_uri": "https://localhost:8080/"
        },
        "id": "BgnVGRTVGmyc",
        "outputId": "1c07f409-ac7c-4331-bff1-b62c866c4b47"
      },
      "execution_count": 29,
      "outputs": [
        {
          "output_type": "stream",
          "name": "stdout",
          "text": [
            "+-------------------+------+------------------+\n",
            "|independent_feature|Salary|        prediction|\n",
            "+-------------------+------+------------------+\n",
            "|         [22.0,8.0]|987456|1054367.7590361254|\n",
            "|         [23.0,9.0]|985124|1241069.6024096028|\n",
            "+-------------------+------+------------------+\n",
            "\n"
          ]
        }
      ]
    },
    {
      "cell_type": "code",
      "source": [],
      "metadata": {
        "id": "AH-gQRYBG_Vu"
      },
      "execution_count": null,
      "outputs": []
    }
  ]
}