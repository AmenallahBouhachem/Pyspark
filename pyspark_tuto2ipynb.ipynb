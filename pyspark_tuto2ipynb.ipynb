{
  "nbformat": 4,
  "nbformat_minor": 0,
  "metadata": {
    "colab": {
      "provenance": []
    },
    "kernelspec": {
      "name": "python3",
      "display_name": "Python 3"
    },
    "language_info": {
      "name": "python"
    }
  },
  "cells": [
    {
      "cell_type": "code",
      "source": [
        "!pip install pyspark"
      ],
      "metadata": {
        "colab": {
          "base_uri": "https://localhost:8080/"
        },
        "id": "LB6wPHfVizX1",
        "outputId": "a5b161ac-7861-4848-c880-5f0b710218be"
      },
      "execution_count": 1,
      "outputs": [
        {
          "output_type": "stream",
          "name": "stdout",
          "text": [
            "Looking in indexes: https://pypi.org/simple, https://us-python.pkg.dev/colab-wheels/public/simple/\n",
            "Collecting pyspark\n",
            "  Downloading pyspark-3.4.0.tar.gz (310.8 MB)\n",
            "\u001b[2K     \u001b[90m━━━━━━━━━━━━━━━━━━━━━━━━━━━━━━━━━━━━━━━\u001b[0m \u001b[32m310.8/310.8 MB\u001b[0m \u001b[31m2.8 MB/s\u001b[0m eta \u001b[36m0:00:00\u001b[0m\n",
            "\u001b[?25h  Preparing metadata (setup.py) ... \u001b[?25l\u001b[?25hdone\n",
            "Requirement already satisfied: py4j==0.10.9.7 in /usr/local/lib/python3.10/dist-packages (from pyspark) (0.10.9.7)\n",
            "Building wheels for collected packages: pyspark\n",
            "  Building wheel for pyspark (setup.py) ... \u001b[?25l\u001b[?25hdone\n",
            "  Created wheel for pyspark: filename=pyspark-3.4.0-py2.py3-none-any.whl size=311317130 sha256=15cca26967d91d484f787e85200c1b082f0af97c48ecf39ecf2fe16c3a3827f3\n",
            "  Stored in directory: /root/.cache/pip/wheels/7b/1b/4b/3363a1d04368e7ff0d408e57ff57966fcdf00583774e761327\n",
            "Successfully built pyspark\n",
            "Installing collected packages: pyspark\n",
            "Successfully installed pyspark-3.4.0\n"
          ]
        }
      ]
    },
    {
      "cell_type": "code",
      "execution_count": 2,
      "metadata": {
        "id": "nz2URrlNiZTg"
      },
      "outputs": [],
      "source": [
        "from pyspark.sql import SparkSession\n",
        "spark = SparkSession.builder.appName('tuto').getOrCreate()"
      ]
    },
    {
      "cell_type": "code",
      "source": [
        "df_pyspark = spark.read.csv('data3.csv',header=True,inferSchema=True)\n",
        "df_pyspark.show()"
      ],
      "metadata": {
        "colab": {
          "base_uri": "https://localhost:8080/"
        },
        "id": "dN4VDXHXiwpr",
        "outputId": "23193bf2-c030-48ee-85c6-c60dd9bbc19c"
      },
      "execution_count": 3,
      "outputs": [
        {
          "output_type": "stream",
          "name": "stdout",
          "text": [
            "+--------+----+----------+------+\n",
            "|    Name| Age|Experience|Salary|\n",
            "+--------+----+----------+------+\n",
            "|    amen|  23|         2| 10000|\n",
            "|   gouga|  23|         3| 12000|\n",
            "|   kouka|  20|         2|  5000|\n",
            "| ranouna|  21|         2|  5000|\n",
            "|   touta|  22|         2| 15000|\n",
            "|hachoumi|  23|         1|  8500|\n",
            "|  lo3mor|  23|         1|  9000|\n",
            "|    null|  15|         0|  1000|\n",
            "|    null|  36|      null|   500|\n",
            "|   ahmed|null|         2|  null|\n",
            "+--------+----+----------+------+\n",
            "\n"
          ]
        }
      ]
    },
    {
      "cell_type": "code",
      "source": [
        "df_pyspark.na.drop().show()"
      ],
      "metadata": {
        "colab": {
          "base_uri": "https://localhost:8080/"
        },
        "id": "S6PyuOs_kQZY",
        "outputId": "fd6bc383-223d-4329-c6ea-0abca3fb3d21"
      },
      "execution_count": 4,
      "outputs": [
        {
          "output_type": "stream",
          "name": "stdout",
          "text": [
            "+--------+---+----------+------+\n",
            "|    Name|Age|Experience|Salary|\n",
            "+--------+---+----------+------+\n",
            "|    amen| 23|         2| 10000|\n",
            "|   gouga| 23|         3| 12000|\n",
            "|   kouka| 20|         2|  5000|\n",
            "| ranouna| 21|         2|  5000|\n",
            "|   touta| 22|         2| 15000|\n",
            "|hachoumi| 23|         1|  8500|\n",
            "|  lo3mor| 23|         1|  9000|\n",
            "+--------+---+----------+------+\n",
            "\n"
          ]
        }
      ]
    },
    {
      "cell_type": "code",
      "source": [
        "df_pyspark.na.drop(how=\"any\").show()"
      ],
      "metadata": {
        "colab": {
          "base_uri": "https://localhost:8080/"
        },
        "id": "kl0v25gdlLuB",
        "outputId": "ce8020ef-7f6d-4148-b2f9-b225b460ac12"
      },
      "execution_count": 5,
      "outputs": [
        {
          "output_type": "stream",
          "name": "stdout",
          "text": [
            "+--------+---+----------+------+\n",
            "|    Name|Age|Experience|Salary|\n",
            "+--------+---+----------+------+\n",
            "|    amen| 23|         2| 10000|\n",
            "|   gouga| 23|         3| 12000|\n",
            "|   kouka| 20|         2|  5000|\n",
            "| ranouna| 21|         2|  5000|\n",
            "|   touta| 22|         2| 15000|\n",
            "|hachoumi| 23|         1|  8500|\n",
            "|  lo3mor| 23|         1|  9000|\n",
            "+--------+---+----------+------+\n",
            "\n"
          ]
        }
      ]
    },
    {
      "cell_type": "code",
      "source": [
        "df_pyspark.na.drop(how=\"any\",thresh=3).show()"
      ],
      "metadata": {
        "colab": {
          "base_uri": "https://localhost:8080/"
        },
        "id": "Ucl_nM5pltDa",
        "outputId": "615defde-7cb2-4251-ef7a-baf261322255"
      },
      "execution_count": 6,
      "outputs": [
        {
          "output_type": "stream",
          "name": "stdout",
          "text": [
            "+--------+---+----------+------+\n",
            "|    Name|Age|Experience|Salary|\n",
            "+--------+---+----------+------+\n",
            "|    amen| 23|         2| 10000|\n",
            "|   gouga| 23|         3| 12000|\n",
            "|   kouka| 20|         2|  5000|\n",
            "| ranouna| 21|         2|  5000|\n",
            "|   touta| 22|         2| 15000|\n",
            "|hachoumi| 23|         1|  8500|\n",
            "|  lo3mor| 23|         1|  9000|\n",
            "|    null| 15|         0|  1000|\n",
            "+--------+---+----------+------+\n",
            "\n"
          ]
        }
      ]
    },
    {
      "cell_type": "code",
      "source": [
        "df_pyspark.na.drop(how=\"any\",subset=['Experience']).show()"
      ],
      "metadata": {
        "colab": {
          "base_uri": "https://localhost:8080/"
        },
        "id": "Lm2C0JJTl4Pj",
        "outputId": "9590999c-d50e-4db0-8daa-a69c550d5ff0"
      },
      "execution_count": 7,
      "outputs": [
        {
          "output_type": "stream",
          "name": "stdout",
          "text": [
            "+--------+----+----------+------+\n",
            "|    Name| Age|Experience|Salary|\n",
            "+--------+----+----------+------+\n",
            "|    amen|  23|         2| 10000|\n",
            "|   gouga|  23|         3| 12000|\n",
            "|   kouka|  20|         2|  5000|\n",
            "| ranouna|  21|         2|  5000|\n",
            "|   touta|  22|         2| 15000|\n",
            "|hachoumi|  23|         1|  8500|\n",
            "|  lo3mor|  23|         1|  9000|\n",
            "|    null|  15|         0|  1000|\n",
            "|   ahmed|null|         2|  null|\n",
            "+--------+----+----------+------+\n",
            "\n"
          ]
        }
      ]
    },
    {
      "cell_type": "code",
      "source": [
        "df_pyspark.na.fill('Missing Values','Name').show()"
      ],
      "metadata": {
        "colab": {
          "base_uri": "https://localhost:8080/"
        },
        "id": "tzWiPRpHmaF4",
        "outputId": "3ca5cc11-bfb2-482f-9aa0-287ec92c1d95"
      },
      "execution_count": 8,
      "outputs": [
        {
          "output_type": "stream",
          "name": "stdout",
          "text": [
            "+--------------+----+----------+------+\n",
            "|          Name| Age|Experience|Salary|\n",
            "+--------------+----+----------+------+\n",
            "|          amen|  23|         2| 10000|\n",
            "|         gouga|  23|         3| 12000|\n",
            "|         kouka|  20|         2|  5000|\n",
            "|       ranouna|  21|         2|  5000|\n",
            "|         touta|  22|         2| 15000|\n",
            "|      hachoumi|  23|         1|  8500|\n",
            "|        lo3mor|  23|         1|  9000|\n",
            "|Missing Values|  15|         0|  1000|\n",
            "|Missing Values|  36|      null|   500|\n",
            "|         ahmed|null|         2|  null|\n",
            "+--------------+----+----------+------+\n",
            "\n"
          ]
        }
      ]
    },
    {
      "cell_type": "code",
      "source": [
        "from pyspark.ml.feature import Imputer \n",
        "imputer = Imputer(\n",
        "    inputCols=['Age','Experience','Salary'],\n",
        "    outputCols=[\"{}_imputed\".format(c) for c in ['Age','Experience','Salary']]\n",
        "                            ).setStrategy(\"median\")"
      ],
      "metadata": {
        "id": "HJqIhLJvmpVy"
      },
      "execution_count": 9,
      "outputs": []
    },
    {
      "cell_type": "code",
      "source": [
        "imputer.fit(df_pyspark).transform(df_pyspark).show()"
      ],
      "metadata": {
        "colab": {
          "base_uri": "https://localhost:8080/"
        },
        "id": "hsPHdaL6nqyO",
        "outputId": "39633618-a8b8-4b52-a7cb-ffa7f63693d7"
      },
      "execution_count": 10,
      "outputs": [
        {
          "output_type": "stream",
          "name": "stdout",
          "text": [
            "+--------+----+----------+------+-----------+------------------+--------------+\n",
            "|    Name| Age|Experience|Salary|Age_imputed|Experience_imputed|Salary_imputed|\n",
            "+--------+----+----------+------+-----------+------------------+--------------+\n",
            "|    amen|  23|         2| 10000|         23|                 2|         10000|\n",
            "|   gouga|  23|         3| 12000|         23|                 3|         12000|\n",
            "|   kouka|  20|         2|  5000|         20|                 2|          5000|\n",
            "| ranouna|  21|         2|  5000|         21|                 2|          5000|\n",
            "|   touta|  22|         2| 15000|         22|                 2|         15000|\n",
            "|hachoumi|  23|         1|  8500|         23|                 1|          8500|\n",
            "|  lo3mor|  23|         1|  9000|         23|                 1|          9000|\n",
            "|    null|  15|         0|  1000|         15|                 0|          1000|\n",
            "|    null|  36|      null|   500|         36|                 2|           500|\n",
            "|   ahmed|null|         2|  null|         23|                 2|          8500|\n",
            "+--------+----+----------+------+-----------+------------------+--------------+\n",
            "\n"
          ]
        }
      ]
    },
    {
      "cell_type": "code",
      "source": [
        "df_pyspark=df_pyspark.na.drop(how=\"any\")\n",
        "df_pyspark.show()"
      ],
      "metadata": {
        "colab": {
          "base_uri": "https://localhost:8080/"
        },
        "id": "HfYoYgGcoDkZ",
        "outputId": "792c900e-60a4-4d45-e296-da3299b0ea70"
      },
      "execution_count": 11,
      "outputs": [
        {
          "output_type": "stream",
          "name": "stdout",
          "text": [
            "+--------+---+----------+------+\n",
            "|    Name|Age|Experience|Salary|\n",
            "+--------+---+----------+------+\n",
            "|    amen| 23|         2| 10000|\n",
            "|   gouga| 23|         3| 12000|\n",
            "|   kouka| 20|         2|  5000|\n",
            "| ranouna| 21|         2|  5000|\n",
            "|   touta| 22|         2| 15000|\n",
            "|hachoumi| 23|         1|  8500|\n",
            "|  lo3mor| 23|         1|  9000|\n",
            "+--------+---+----------+------+\n",
            "\n"
          ]
        }
      ]
    },
    {
      "cell_type": "markdown",
      "source": [
        "**Filter Operations:**\n",
        "\n",
        "\n"
      ],
      "metadata": {
        "id": "nodJwAT1plib"
      }
    },
    {
      "cell_type": "code",
      "source": [
        "df_pyspark.filter(\"Salary <= 6000\").show()"
      ],
      "metadata": {
        "colab": {
          "base_uri": "https://localhost:8080/"
        },
        "id": "gAnNFzoBo7vy",
        "outputId": "27ee1474-5ba2-4920-d03c-79849d5408d7"
      },
      "execution_count": 12,
      "outputs": [
        {
          "output_type": "stream",
          "name": "stdout",
          "text": [
            "+-------+---+----------+------+\n",
            "|   Name|Age|Experience|Salary|\n",
            "+-------+---+----------+------+\n",
            "|  kouka| 20|         2|  5000|\n",
            "|ranouna| 21|         2|  5000|\n",
            "+-------+---+----------+------+\n",
            "\n"
          ]
        }
      ]
    },
    {
      "cell_type": "code",
      "source": [
        "df_pyspark.filter(\"Salary <= 6000\").select(['Name','Age']).show()"
      ],
      "metadata": {
        "colab": {
          "base_uri": "https://localhost:8080/"
        },
        "id": "eWgbPknJp44H",
        "outputId": "e1b4470c-460c-4e16-d051-96d0389b4413"
      },
      "execution_count": 13,
      "outputs": [
        {
          "output_type": "stream",
          "name": "stdout",
          "text": [
            "+-------+---+\n",
            "|   Name|Age|\n",
            "+-------+---+\n",
            "|  kouka| 20|\n",
            "|ranouna| 21|\n",
            "+-------+---+\n",
            "\n"
          ]
        }
      ]
    },
    {
      "cell_type": "code",
      "source": [
        "df_pyspark.filter(df_pyspark['Salary']< 6000).show()"
      ],
      "metadata": {
        "colab": {
          "base_uri": "https://localhost:8080/"
        },
        "id": "00FpknihqGpQ",
        "outputId": "779e9020-b169-4505-9d93-9c50c179ffbe"
      },
      "execution_count": 14,
      "outputs": [
        {
          "output_type": "stream",
          "name": "stdout",
          "text": [
            "+-------+---+----------+------+\n",
            "|   Name|Age|Experience|Salary|\n",
            "+-------+---+----------+------+\n",
            "|  kouka| 20|         2|  5000|\n",
            "|ranouna| 21|         2|  5000|\n",
            "+-------+---+----------+------+\n",
            "\n"
          ]
        }
      ]
    },
    {
      "cell_type": "code",
      "source": [
        "df_pyspark.filter((df_pyspark['Salary']> 9000) & (df_pyspark['Salary'] < 12000)).show()"
      ],
      "metadata": {
        "colab": {
          "base_uri": "https://localhost:8080/"
        },
        "id": "xELlBIahqRW7",
        "outputId": "ecc90dce-e0c4-43a1-a374-3f67ccb434ad"
      },
      "execution_count": 15,
      "outputs": [
        {
          "output_type": "stream",
          "name": "stdout",
          "text": [
            "+----+---+----------+------+\n",
            "|Name|Age|Experience|Salary|\n",
            "+----+---+----------+------+\n",
            "|amen| 23|         2| 10000|\n",
            "+----+---+----------+------+\n",
            "\n"
          ]
        }
      ]
    },
    {
      "cell_type": "code",
      "source": [
        "df_pyspark.filter(~(df_pyspark['Salary'] < 6000)).show()"
      ],
      "metadata": {
        "colab": {
          "base_uri": "https://localhost:8080/"
        },
        "id": "48lTiNk4qibZ",
        "outputId": "5177982e-8fc7-4608-81c4-ff93fec349e8"
      },
      "execution_count": 16,
      "outputs": [
        {
          "output_type": "stream",
          "name": "stdout",
          "text": [
            "+--------+---+----------+------+\n",
            "|    Name|Age|Experience|Salary|\n",
            "+--------+---+----------+------+\n",
            "|    amen| 23|         2| 10000|\n",
            "|   gouga| 23|         3| 12000|\n",
            "|   touta| 22|         2| 15000|\n",
            "|hachoumi| 23|         1|  8500|\n",
            "|  lo3mor| 23|         1|  9000|\n",
            "+--------+---+----------+------+\n",
            "\n"
          ]
        }
      ]
    },
    {
      "cell_type": "markdown",
      "source": [
        "# **Pyspark GroupBy And Aggregate Functions :**"
      ],
      "metadata": {
        "id": "GWXcDPonrCMv"
      }
    },
    {
      "cell_type": "code",
      "source": [
        "from pyspark.sql import SparkSession"
      ],
      "metadata": {
        "id": "YXdQfvKSq7FD"
      },
      "execution_count": 17,
      "outputs": []
    },
    {
      "cell_type": "code",
      "source": [
        "spark = SparkSession.builder.appName(\"ahmed\").getOrCreate()"
      ],
      "metadata": {
        "id": "uylPktsX6JC_"
      },
      "execution_count": 19,
      "outputs": []
    },
    {
      "cell_type": "code",
      "source": [
        "spark"
      ],
      "metadata": {
        "colab": {
          "base_uri": "https://localhost:8080/",
          "height": 219
        },
        "id": "hTSZswkN6U_N",
        "outputId": "08ca1dc4-9942-476b-a4eb-88858437d4c7"
      },
      "execution_count": 20,
      "outputs": [
        {
          "output_type": "execute_result",
          "data": {
            "text/plain": [
              "<pyspark.sql.session.SparkSession at 0x7fbea93a31c0>"
            ],
            "text/html": [
              "\n",
              "            <div>\n",
              "                <p><b>SparkSession - in-memory</b></p>\n",
              "                \n",
              "        <div>\n",
              "            <p><b>SparkContext</b></p>\n",
              "\n",
              "            <p><a href=\"http://f5941f7f1444:4040\">Spark UI</a></p>\n",
              "\n",
              "            <dl>\n",
              "              <dt>Version</dt>\n",
              "                <dd><code>v3.4.0</code></dd>\n",
              "              <dt>Master</dt>\n",
              "                <dd><code>local[*]</code></dd>\n",
              "              <dt>AppName</dt>\n",
              "                <dd><code>tuto</code></dd>\n",
              "            </dl>\n",
              "        </div>\n",
              "        \n",
              "            </div>\n",
              "        "
            ]
          },
          "metadata": {},
          "execution_count": 20
        }
      ]
    },
    {
      "cell_type": "code",
      "source": [
        "df_spark = spark.read.csv('data4.csv',header=True,inferSchema=True)"
      ],
      "metadata": {
        "id": "t_tSgNUA6Y_v"
      },
      "execution_count": 23,
      "outputs": []
    },
    {
      "cell_type": "code",
      "source": [
        "df_spark.show()"
      ],
      "metadata": {
        "colab": {
          "base_uri": "https://localhost:8080/"
        },
        "id": "pDbi6YQe6jqh",
        "outputId": "e1769c62-0bcf-4481-8ad9-e218d3f58b54"
      },
      "execution_count": 24,
      "outputs": [
        {
          "output_type": "stream",
          "name": "stdout",
          "text": [
            "+--------+---------------+------+\n",
            "|    Name|     Department|Salary|\n",
            "+--------+---------------+------+\n",
            "|    amen|             AI| 12000|\n",
            "|   gouga|             AI|  3000|\n",
            "|   kouka|         Bio-AI| 50000|\n",
            "| ranouna|Genie génétique| 22222|\n",
            "|   touta|            Web| 15156|\n",
            "|hachoumi|            Web|   222|\n",
            "|  lo3mor|   comptabilité| 22222|\n",
            "+--------+---------------+------+\n",
            "\n"
          ]
        }
      ]
    },
    {
      "cell_type": "code",
      "source": [
        "df_spark.printSchema()"
      ],
      "metadata": {
        "colab": {
          "base_uri": "https://localhost:8080/"
        },
        "id": "LiatDKTL6lwj",
        "outputId": "3bf1bd67-a4e5-4472-d9f8-de501c6c11da"
      },
      "execution_count": 25,
      "outputs": [
        {
          "output_type": "stream",
          "name": "stdout",
          "text": [
            "root\n",
            " |-- Name: string (nullable = true)\n",
            " |-- Department: string (nullable = true)\n",
            " |-- Salary: integer (nullable = true)\n",
            "\n"
          ]
        }
      ]
    },
    {
      "cell_type": "code",
      "source": [
        "df_spark.groupBy('Name').sum().show()"
      ],
      "metadata": {
        "colab": {
          "base_uri": "https://localhost:8080/"
        },
        "id": "4yPNUohi79jw",
        "outputId": "74cdf925-8638-4b63-d9af-0680b9dfd955"
      },
      "execution_count": 30,
      "outputs": [
        {
          "output_type": "stream",
          "name": "stdout",
          "text": [
            "+--------+-----------+\n",
            "|    Name|sum(Salary)|\n",
            "+--------+-----------+\n",
            "|  lo3mor|      22222|\n",
            "| ranouna|      22222|\n",
            "|   kouka|      50000|\n",
            "|hachoumi|        222|\n",
            "|    amen|      12000|\n",
            "|   gouga|       3000|\n",
            "|   touta|      15156|\n",
            "+--------+-----------+\n",
            "\n"
          ]
        }
      ]
    },
    {
      "cell_type": "code",
      "source": [
        "df_spark.groupBy('Department').mean().show()"
      ],
      "metadata": {
        "colab": {
          "base_uri": "https://localhost:8080/"
        },
        "id": "cEGXTvXB-g_u",
        "outputId": "cff19ad2-4c35-4ddd-9235-fc1cb84a4a12"
      },
      "execution_count": 33,
      "outputs": [
        {
          "output_type": "stream",
          "name": "stdout",
          "text": [
            "+---------------+-----------+\n",
            "|     Department|avg(Salary)|\n",
            "+---------------+-----------+\n",
            "|         Bio-AI|    50000.0|\n",
            "|   comptabilité|    22222.0|\n",
            "|             AI|     7500.0|\n",
            "|Genie génétique|    22222.0|\n",
            "|            Web|     7689.0|\n",
            "+---------------+-----------+\n",
            "\n"
          ]
        }
      ]
    },
    {
      "cell_type": "code",
      "source": [
        "df_spark.groupBy('Department').count().show()"
      ],
      "metadata": {
        "colab": {
          "base_uri": "https://localhost:8080/"
        },
        "id": "Ai1ymY6m_Mzm",
        "outputId": "7889d960-865c-43b8-d058-307ffa331c62"
      },
      "execution_count": 34,
      "outputs": [
        {
          "output_type": "stream",
          "name": "stdout",
          "text": [
            "+---------------+-----+\n",
            "|     Department|count|\n",
            "+---------------+-----+\n",
            "|         Bio-AI|    1|\n",
            "|   comptabilité|    1|\n",
            "|             AI|    2|\n",
            "|Genie génétique|    1|\n",
            "|            Web|    2|\n",
            "+---------------+-----+\n",
            "\n"
          ]
        }
      ]
    },
    {
      "cell_type": "code",
      "source": [
        "df_pyspark.agg({'Salary':'sum'}).show()"
      ],
      "metadata": {
        "colab": {
          "base_uri": "https://localhost:8080/"
        },
        "id": "Y6SXGLCu_mlH",
        "outputId": "1cda04a7-0dc1-4cd5-ac1c-f8c15b71d79a"
      },
      "execution_count": 35,
      "outputs": [
        {
          "output_type": "stream",
          "name": "stdout",
          "text": [
            "+-----------+\n",
            "|sum(Salary)|\n",
            "+-----------+\n",
            "|      64500|\n",
            "+-----------+\n",
            "\n"
          ]
        }
      ]
    },
    {
      "cell_type": "code",
      "source": [
        "df_spark.groupBy('Name').avg().show()"
      ],
      "metadata": {
        "colab": {
          "base_uri": "https://localhost:8080/"
        },
        "id": "8heta8ys_-SP",
        "outputId": "2c718ecd-c3c7-4f06-dc16-32640d8f4f6c"
      },
      "execution_count": 39,
      "outputs": [
        {
          "output_type": "stream",
          "name": "stdout",
          "text": [
            "+--------+-----------+\n",
            "|    Name|avg(Salary)|\n",
            "+--------+-----------+\n",
            "|  lo3mor|    22222.0|\n",
            "| ranouna|    22222.0|\n",
            "|   kouka|    50000.0|\n",
            "|hachoumi|      222.0|\n",
            "|    amen|    12000.0|\n",
            "|   gouga|     3000.0|\n",
            "|   touta|    15156.0|\n",
            "+--------+-----------+\n",
            "\n"
          ]
        }
      ]
    },
    {
      "cell_type": "code",
      "source": [],
      "metadata": {
        "id": "x3_jXnNpAL8H"
      },
      "execution_count": null,
      "outputs": []
    }
  ]
}